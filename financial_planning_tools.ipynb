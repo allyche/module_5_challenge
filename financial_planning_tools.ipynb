{
 "cells": [
  {
   "cell_type": "markdown",
   "metadata": {},
   "source": [
    "# Financial Planning with APIs and Simulations\n",
    "\n",
    "In this Challenge, you’ll create two financial analysis tools by using a single Jupyter notebook:\n",
    "\n",
    "Part 1: A financial planner for emergencies. The members will be able to use this tool to visualize their current savings. The members can then determine if they have enough reserves for an emergency fund.\n",
    "\n",
    "Part 2: A financial planner for retirement. This tool will forecast the performance of their retirement portfolio in 30 years. To do this, the tool will make an Alpaca API call via the Alpaca SDK to get historical price data for use in Monte Carlo simulations.\n",
    "\n",
    "You’ll use the information from the Monte Carlo simulation to answer questions about the portfolio in your Jupyter notebook.\n",
    "\n"
   ]
  },
  {
   "cell_type": "code",
   "execution_count": 1,
   "metadata": {},
   "outputs": [],
   "source": [
    "# Import the required libraries and dependencies\n",
    "import os\n",
    "import requests\n",
    "import json\n",
    "import pandas as pd\n",
    "from dotenv import load_dotenv\n",
    "import alpaca_trade_api as tradeapi\n",
    "from MCForecastTools import MCSimulation\n",
    "import datetime\n",
    "%matplotlib inline"
   ]
  },
  {
   "cell_type": "code",
   "execution_count": 2,
   "metadata": {},
   "outputs": [
    {
     "data": {
      "text/plain": [
       "True"
      ]
     },
     "execution_count": 2,
     "metadata": {},
     "output_type": "execute_result"
    }
   ],
   "source": [
    "# Load the environment variables from the .env file\n",
    "#by calling the load_dotenv function\n",
    "load_dotenv()"
   ]
  },
  {
   "cell_type": "markdown",
   "metadata": {},
   "source": [
    "## Part 1: Create a Financial Planner for Emergencies"
   ]
  },
  {
   "cell_type": "markdown",
   "metadata": {},
   "source": [
    "### Evaluate the Cryptocurrency Wallet by Using the Requests Library\n",
    "\n",
    "In this section, you’ll determine the current value of a member’s cryptocurrency wallet. You’ll collect the current prices for the Bitcoin and Ethereum cryptocurrencies by using the Python Requests library. For the prototype, you’ll assume that the member holds the 1.2 Bitcoins (BTC) and 5.3 Ethereum coins (ETH). To do all this, complete the following steps:\n",
    "\n",
    "1. Create a variable named `monthly_income`, and set its value to `12000`.\n",
    "\n",
    "2. Use the Requests library to get the current price (in US dollars) of Bitcoin (BTC) and Ethereum (ETH) by using the API endpoints that the starter code supplies.\n",
    "\n",
    "3. Navigate the JSON response object to access the current price of each coin, and store each in a variable.\n",
    "\n",
    "    > **Hint** Note the specific identifier for each cryptocurrency in the API JSON response. The Bitcoin identifier is `1`, and the Ethereum identifier is `1027`.\n",
    "\n",
    "4. Calculate the value, in US dollars, of the current amount of each cryptocurrency and of the entire cryptocurrency wallet.\n",
    "\n"
   ]
  },
  {
   "cell_type": "code",
   "execution_count": 3,
   "metadata": {},
   "outputs": [],
   "source": [
    "# The current number of coins for each cryptocurrency asset held in the portfolio.\n",
    "btc_coins = 1.2\n",
    "eth_coins = 5.3"
   ]
  },
  {
   "cell_type": "markdown",
   "metadata": {},
   "source": [
    "#### Step 1: Create a variable named `monthly_income`, and set its value to `12000`."
   ]
  },
  {
   "cell_type": "code",
   "execution_count": 4,
   "metadata": {},
   "outputs": [],
   "source": [
    "# The monthly amount for the member's household income\n",
    "monthly_income = 12000"
   ]
  },
  {
   "cell_type": "markdown",
   "metadata": {},
   "source": [
    "#### Review the endpoint URLs for the API calls to Free Crypto API in order to get the current pricing information for both BTC and ETH."
   ]
  },
  {
   "cell_type": "code",
   "execution_count": 5,
   "metadata": {},
   "outputs": [],
   "source": [
    "# The Free Crypto API Call endpoint URLs for the held cryptocurrency assets\n",
    "btc_url = \"https://api.alternative.me/v2/ticker/Bitcoin/?convert=USD\"\n",
    "eth_url = \"https://api.alternative.me/v2/ticker/Ethereum/?convert=USD\""
   ]
  },
  {
   "cell_type": "markdown",
   "metadata": {},
   "source": [
    "#### Step 2. Use the Requests library to get the current price (in US dollars) of Bitcoin (BTC) and Ethereum (ETH) by using the API endpoints that the starter code supplied."
   ]
  },
  {
   "cell_type": "code",
   "execution_count": 6,
   "metadata": {},
   "outputs": [
    {
     "name": "stdout",
     "output_type": "stream",
     "text": [
      "{\n",
      "    \"data\": {\n",
      "        \"1\": {\n",
      "            \"circulating_supply\": 18614412,\n",
      "            \"id\": 1,\n",
      "            \"last_updated\": 1611985392,\n",
      "            \"max_supply\": 21000000,\n",
      "            \"name\": \"Bitcoin\",\n",
      "            \"quotes\": {\n",
      "                \"USD\": {\n",
      "                    \"market_cap\": 622197340245,\n",
      "                    \"percent_change_1h\": 1.1100062677441,\n",
      "                    \"percent_change_24h\": 2.09317221385016,\n",
      "                    \"percent_change_7d\": 2.1766407351763,\n",
      "                    \"percentage_change_1h\": 1.1100062677441,\n",
      "                    \"percentage_change_24h\": 2.09317221385016,\n",
      "                    \"percentage_change_7d\": 2.1766407351763,\n",
      "                    \"price\": 33675.0,\n",
      "                    \"volume_24h\": 92903757672\n",
      "                }\n",
      "            },\n",
      "            \"rank\": 1,\n",
      "            \"symbol\": \"BTC\",\n",
      "            \"total_supply\": 18614412,\n",
      "            \"website_slug\": \"bitcoin\"\n",
      "        }\n",
      "    },\n",
      "    \"metadata\": {\n",
      "        \"error\": null,\n",
      "        \"num_cryptocurrencies\": 1371,\n",
      "        \"timestamp\": 1611985392\n",
      "    }\n",
      "}\n"
     ]
    }
   ],
   "source": [
    "# Using the Python requests library, make an API call to access the current price of BTC\n",
    "btc_response = requests.get(\"https://api.alternative.me/v2/ticker/Bitcoin/?convert=USD\").json()\n",
    "\n",
    "# Use the json.dumps function to review the response data from the API call\n",
    "# Use the indent and sort_keys parameters to make the response object readable\n",
    "print(json.dumps(btc_response, indent=4, sort_keys=True))\n"
   ]
  },
  {
   "cell_type": "code",
   "execution_count": 7,
   "metadata": {},
   "outputs": [
    {
     "name": "stdout",
     "output_type": "stream",
     "text": [
      "{\n",
      "    \"data\": {\n",
      "        \"1027\": {\n",
      "            \"circulating_supply\": 114460449,\n",
      "            \"id\": 1027,\n",
      "            \"last_updated\": 1611985244,\n",
      "            \"max_supply\": 0,\n",
      "            \"name\": \"Ethereum\",\n",
      "            \"quotes\": {\n",
      "                \"USD\": {\n",
      "                    \"market_cap\": 153829654793,\n",
      "                    \"percent_change_1h\": 0.301578507961294,\n",
      "                    \"percent_change_24h\": 3.46025304507546,\n",
      "                    \"percent_change_7d\": 8.80356440389377,\n",
      "                    \"percentage_change_1h\": 0.301578507961294,\n",
      "                    \"percentage_change_24h\": 3.46025304507546,\n",
      "                    \"percentage_change_7d\": 8.80356440389377,\n",
      "                    \"price\": 1345.56,\n",
      "                    \"volume_24h\": 46652235571\n",
      "                }\n",
      "            },\n",
      "            \"rank\": 2,\n",
      "            \"symbol\": \"ETH\",\n",
      "            \"total_supply\": 114460449,\n",
      "            \"website_slug\": \"ethereum\"\n",
      "        }\n",
      "    },\n",
      "    \"metadata\": {\n",
      "        \"error\": null,\n",
      "        \"num_cryptocurrencies\": 1371,\n",
      "        \"timestamp\": 1611985244\n",
      "    }\n",
      "}\n"
     ]
    }
   ],
   "source": [
    "# Using the Python requests library, make an API call to access the current price ETH\n",
    "eth_response = requests.get(\"https://api.alternative.me/v2/ticker/Ethereum/?convert=USD\").json()\n",
    "\n",
    "# Use the json.dumps function to review the response data from the API call\n",
    "# Use the indent and sort_keys parameters to make the response object readable\n",
    "print(json.dumps(eth_response, indent=4, sort_keys=True))\n"
   ]
  },
  {
   "cell_type": "markdown",
   "metadata": {},
   "source": [
    "#### Step 3: Navigate the JSON response object to access the current price of each coin, and store each in a variable."
   ]
  },
  {
   "cell_type": "code",
   "execution_count": 8,
   "metadata": {},
   "outputs": [
    {
     "name": "stdout",
     "output_type": "stream",
     "text": [
      "The current price for BTC is: $33675.0.\n"
     ]
    }
   ],
   "source": [
    "# Navigate the BTC response object to access the current price of BTC\n",
    "btc_price = btc_response[\"data\"][\"1\"][\"quotes\"][\"USD\"][\"price\"]\n",
    "\n",
    "# Print the current price of BTC\n",
    "print(f\"The current price for BTC is: ${btc_price}.\")\n"
   ]
  },
  {
   "cell_type": "code",
   "execution_count": 9,
   "metadata": {},
   "outputs": [
    {
     "name": "stdout",
     "output_type": "stream",
     "text": [
      "The current price for ETH is: $1345.56.\n"
     ]
    }
   ],
   "source": [
    "# Navigate the BTC response object to access the current price of ETH\n",
    "eth_price = eth_response[\"data\"][\"1027\"][\"quotes\"][\"USD\"][\"price\"]\n",
    "\n",
    "# Print the current price of ETH\n",
    "print(f\"The current price for ETH is: ${eth_price}.\")\n"
   ]
  },
  {
   "cell_type": "markdown",
   "metadata": {},
   "source": [
    "### Step 4: Calculate the value, in US dollars, of the current amount of each cryptocurrency and of the entire cryptocurrency wallet."
   ]
  },
  {
   "cell_type": "code",
   "execution_count": 10,
   "metadata": {},
   "outputs": [
    {
     "name": "stdout",
     "output_type": "stream",
     "text": [
      "The current holding for BTC is: $40410.0.\n"
     ]
    }
   ],
   "source": [
    "# Compute the current value of the BTC holding \n",
    "btc_value = btc_coins * btc_price\n",
    "\n",
    "# Print current value of your holding in BTC\n",
    "print(f\"The current holding for BTC is: ${btc_value}.\")\n"
   ]
  },
  {
   "cell_type": "code",
   "execution_count": 11,
   "metadata": {},
   "outputs": [
    {
     "name": "stdout",
     "output_type": "stream",
     "text": [
      "The current holding for ETH is: $7131.468.\n"
     ]
    }
   ],
   "source": [
    "# Compute the current value of the ETH holding \n",
    "eth_value = eth_coins * eth_price\n",
    "\n",
    "# Print current value of your holding in ETH\n",
    "print(f\"The current holding for ETH is: ${eth_value}.\")\n"
   ]
  },
  {
   "cell_type": "code",
   "execution_count": 12,
   "metadata": {},
   "outputs": [
    {
     "name": "stdout",
     "output_type": "stream",
     "text": [
      "Current cryptocurrency wallet balance is: $47541.468.\n"
     ]
    }
   ],
   "source": [
    "# Compute the total value of the cryptocurrency wallet\n",
    "# Add the value of the BTC holding to the value of the ETH holding\n",
    "total_crypto_wallet = btc_value + eth_value\n",
    "\n",
    "# Print current cryptocurrency wallet balance\n",
    "print(f\"Current cryptocurrency wallet balance is: ${total_crypto_wallet}.\")\n"
   ]
  },
  {
   "cell_type": "markdown",
   "metadata": {},
   "source": [
    "### Evaluate the Stock and Bond Holdings by Using the Alpaca SDK\n",
    "\n",
    "In this section, you’ll determine the current value of a member’s stock and bond holdings. You’ll make an API call to Alpaca via the Alpaca SDK to get the current closing prices of the SPDR S&P 500 ETF Trust (ticker: SPY) and of the iShares Core US Aggregate Bond ETF (ticker: AGG). For the prototype, assume that the member holds 110 shares of SPY, which represents the stock portion of their portfolio, and 200 shares of AGG, which represents the bond portion. To do all this, complete the following steps:\n",
    "\n",
    "1. In the `Starter_Code` folder, create an environment file (`.env`) to store the values of your Alpaca API key and Alpaca secret key.\n",
    "\n",
    "2. Set the variables for the Alpaca API and secret keys. Using the Alpaca SDK, create the Alpaca `tradeapi.REST` object. In this object, include the parameters for the Alpaca API key, the secret key, and the version number.\n",
    "\n",
    "3. Set the following parameters for the Alpaca API call:\n",
    "\n",
    "    - `tickers`: Use the tickers for the member’s stock and bond holdings.\n",
    "\n",
    "    - `timeframe`: Use a time frame of one day.\n",
    "\n",
    "    - `start_date` and `end_date`: Use the same date for these parameters, and format them with the date of the previous weekday (or `2020-08-07`). This is because you want the one closing price for the most-recent trading day.\n",
    "\n",
    "4. Get the current closing prices for `SPY` and `AGG` by using the Alpaca `get_barset` function. Format the response as a Pandas DataFrame by including the `df` property at the end of the `get_barset` function.\n",
    "\n",
    "5. Navigating the Alpaca response DataFrame, select the `SPY` and `AGG` closing prices, and store them as variables.\n",
    "\n",
    "6. Calculate the value, in US dollars, of the current amount of shares in each of the stock and bond portions of the portfolio, and print the results.\n"
   ]
  },
  {
   "cell_type": "markdown",
   "metadata": {},
   "source": [
    "#### Review the total number of shares held in both (SPY) and (AGG)."
   ]
  },
  {
   "cell_type": "code",
   "execution_count": 13,
   "metadata": {},
   "outputs": [],
   "source": [
    "# Current amount of shares held in both the stock (SPY) and bond (AGG) portion of the portfolio.\n",
    "spy_shares = 110\n",
    "agg_shares = 200\n"
   ]
  },
  {
   "cell_type": "markdown",
   "metadata": {},
   "source": [
    "#### Step 1: In the `Starter_Code` folder, create an environment file (`.env`) to store the values of your Alpaca API key and Alpaca secret key."
   ]
  },
  {
   "cell_type": "markdown",
   "metadata": {},
   "source": [
    "#### Step 2: Set the variables for the Alpaca API and secret keys. Using the Alpaca SDK, create the Alpaca `tradeapi.REST` object. In this object, include the parameters for the Alpaca API key, the secret key, and the version number."
   ]
  },
  {
   "cell_type": "code",
   "execution_count": 14,
   "metadata": {},
   "outputs": [],
   "source": [
    "# Set the variables for the Alpaca API and secret keys\n",
    "alpaca_api_key = os.getenv(\"ALPACA_API_KEY\")\n",
    "alpaca_secret_key = os.getenv(\"ALPACA_SECRET_KEY\")\n",
    "\n",
    "# Create the Alpaca tradeapi.REST object\n",
    "alpaca = tradeapi.REST(\n",
    "    alpaca_api_key,\n",
    "    alpaca_secret_key,\n",
    "    api_version=\"v2\")\n"
   ]
  },
  {
   "cell_type": "markdown",
   "metadata": {},
   "source": [
    "#### Step 3: Set the following parameters for the Alpaca API call:\n",
    "\n",
    "- `tickers`: Use the tickers for the member’s stock and bond holdings.\n",
    "\n",
    "- `timeframe`: Use a time frame of one day.\n",
    "\n",
    "- `start_date` and `end_date`: Use the same date for these parameters, and format them with the date of the previous weekday (or `2020-08-07`). This is because you want the one closing price for the most-recent trading day.\n"
   ]
  },
  {
   "cell_type": "code",
   "execution_count": 20,
   "metadata": {},
   "outputs": [],
   "source": [
    "# Set the tickers for both the bond and stock portion of the portfolio\n",
    "tickers = [\"SPY\", \"AGG\"]\n",
    "\n",
    "# Set timeframe to 1D \n",
    "timeframe = \"1D\"\n",
    "\n",
    "# Format current date as ISO format\n",
    "# Set both the start and end date at the date of your prior weekday \n",
    "# This will give you the closing price of the previous trading day\n",
    "# Alternatively you can use a start and end date of 2020-08-07\n",
    "today = str(datetime.datetime.now()).split()[0]\n",
    "start_date = pd.Timestamp(today, tz=\"America/Los_Angeles\").isoformat()\n",
    "end_date = pd.Timestamp(today, tz=\"America/Los_Angeles\").isoformat()\n"
   ]
  },
  {
   "cell_type": "markdown",
   "metadata": {},
   "source": [
    "#### Step 4: Get the current closing prices for `SPY` and `AGG` by using the Alpaca `get_barset` function. Format the response as a Pandas DataFrame by including the `df` property at the end of the `get_barset` function."
   ]
  },
  {
   "cell_type": "code",
   "execution_count": 21,
   "metadata": {},
   "outputs": [
    {
     "data": {
      "text/html": [
       "<div>\n",
       "<style scoped>\n",
       "    .dataframe tbody tr th:only-of-type {\n",
       "        vertical-align: middle;\n",
       "    }\n",
       "\n",
       "    .dataframe tbody tr th {\n",
       "        vertical-align: top;\n",
       "    }\n",
       "\n",
       "    .dataframe thead tr th {\n",
       "        text-align: left;\n",
       "    }\n",
       "\n",
       "    .dataframe thead tr:last-of-type th {\n",
       "        text-align: right;\n",
       "    }\n",
       "</style>\n",
       "<table border=\"1\" class=\"dataframe\">\n",
       "  <thead>\n",
       "    <tr>\n",
       "      <th></th>\n",
       "      <th colspan=\"5\" halign=\"left\">AGG</th>\n",
       "      <th colspan=\"5\" halign=\"left\">SPY</th>\n",
       "    </tr>\n",
       "    <tr>\n",
       "      <th></th>\n",
       "      <th>open</th>\n",
       "      <th>high</th>\n",
       "      <th>low</th>\n",
       "      <th>close</th>\n",
       "      <th>volume</th>\n",
       "      <th>open</th>\n",
       "      <th>high</th>\n",
       "      <th>low</th>\n",
       "      <th>close</th>\n",
       "      <th>volume</th>\n",
       "    </tr>\n",
       "    <tr>\n",
       "      <th>time</th>\n",
       "      <th></th>\n",
       "      <th></th>\n",
       "      <th></th>\n",
       "      <th></th>\n",
       "      <th></th>\n",
       "      <th></th>\n",
       "      <th></th>\n",
       "      <th></th>\n",
       "      <th></th>\n",
       "      <th></th>\n",
       "    </tr>\n",
       "  </thead>\n",
       "  <tbody>\n",
       "    <tr>\n",
       "      <th>2021-01-29 00:00:00-05:00</th>\n",
       "      <td>117.1563</td>\n",
       "      <td>117.4</td>\n",
       "      <td>116.5625</td>\n",
       "      <td>117.32</td>\n",
       "      <td>7119889</td>\n",
       "      <td>375.63</td>\n",
       "      <td>376.67</td>\n",
       "      <td>368.27</td>\n",
       "      <td>370.19</td>\n",
       "      <td>106397082</td>\n",
       "    </tr>\n",
       "  </tbody>\n",
       "</table>\n",
       "</div>"
      ],
      "text/plain": [
       "                                AGG                                       SPY  \\\n",
       "                               open   high       low   close   volume    open   \n",
       "time                                                                            \n",
       "2021-01-29 00:00:00-05:00  117.1563  117.4  116.5625  117.32  7119889  375.63   \n",
       "\n",
       "                                                              \n",
       "                             high     low   close     volume  \n",
       "time                                                          \n",
       "2021-01-29 00:00:00-05:00  376.67  368.27  370.19  106397082  "
      ]
     },
     "execution_count": 21,
     "metadata": {},
     "output_type": "execute_result"
    }
   ],
   "source": [
    "# Use the Alpaca get_barset function to get current closing prices the portfolio\n",
    "# Be sure to set the `df` property after the function to format the response object as a DataFrame\n",
    "portfolio_df = alpaca.get_barset(\n",
    "    tickers,\n",
    "    timeframe,\n",
    "    start = start_date,\n",
    "    end = end_date\n",
    ").df\n",
    "\n",
    "# Review the first 5 rows of the Alpaca DataFrame\n",
    "portfolio_df.head()"
   ]
  },
  {
   "cell_type": "markdown",
   "metadata": {},
   "source": [
    "#### Step 5: Navigating the Alpaca response DataFrame, select the `SPY` and `AGG` closing prices, and store them as variables."
   ]
  },
  {
   "cell_type": "code",
   "execution_count": 47,
   "metadata": {},
   "outputs": [
    {
     "data": {
      "text/plain": [
       "117.32"
      ]
     },
     "execution_count": 47,
     "metadata": {},
     "output_type": "execute_result"
    }
   ],
   "source": [
    "# Access the closing price for AGG from the Alpaca DataFrame\n",
    "# Converting the value to a floating point number\n",
    "agg_close_price = portfolio_df[\"AGG\"][\"close\"][0]\n",
    "\n",
    "# Print the AGG closing price\n",
    "agg_close_price\n"
   ]
  },
  {
   "cell_type": "code",
   "execution_count": 49,
   "metadata": {},
   "outputs": [
    {
     "data": {
      "text/plain": [
       "370.19"
      ]
     },
     "execution_count": 49,
     "metadata": {},
     "output_type": "execute_result"
    }
   ],
   "source": [
    "# Access the closing price for SPY from the Alpaca DataFrame\n",
    "# Converting the value to a floating point number\n",
    "spy_close_price = portfolio_df[\"SPY\"][\"close\"][0]\n",
    "# Print the SPY closing price\n",
    "spy_close_price\n"
   ]
  },
  {
   "cell_type": "markdown",
   "metadata": {},
   "source": [
    "#### Step 6: Calculate the value, in US dollars, of the current amount of shares in each of the stock and bond portions of the portfolio, and print the results."
   ]
  },
  {
   "cell_type": "code",
   "execution_count": 54,
   "metadata": {},
   "outputs": [
    {
     "name": "stdout",
     "output_type": "stream",
     "text": [
      "The latest value for the bond portfolio is: $23464.0\n"
     ]
    }
   ],
   "source": [
    "# Calculate the current value of the bond portion of the portfolio\n",
    "agg_value = agg_shares * agg_close_price\n",
    "\n",
    "# Print the current value of the bond portfolio\n",
    "print(f\"The latest value for the bond portfolio is: ${agg_value}\")"
   ]
  },
  {
   "cell_type": "code",
   "execution_count": 55,
   "metadata": {},
   "outputs": [
    {
     "name": "stdout",
     "output_type": "stream",
     "text": [
      "The latest value for the stock portfolio is: $40720.9\n"
     ]
    }
   ],
   "source": [
    "# Calculate the current value of the stock portion of the portfolio\n",
    "spy_value = spy_shares * spy_close_price\n",
    "\n",
    "# Print the current value of the stock portfolio\n",
    "print(f\"The latest value for the stock portfolio is: ${spy_value}\")"
   ]
  },
  {
   "cell_type": "code",
   "execution_count": 58,
   "metadata": {},
   "outputs": [
    {
     "name": "stdout",
     "output_type": "stream",
     "text": [
      "The current balance of the stock and bond portion is: $64184.9\n"
     ]
    }
   ],
   "source": [
    "# Calculate the total value of the stock and bond portion of the portfolio\n",
    "total_stocks_bonds =spy_value + agg_value\n",
    "\n",
    "# Print the current balance of the stock and bond portion of the portfolio\n",
    "print(f\"The current balance of the stock and bond portion is: ${total_stocks_bonds}\")"
   ]
  },
  {
   "cell_type": "code",
   "execution_count": 62,
   "metadata": {},
   "outputs": [
    {
     "name": "stdout",
     "output_type": "stream",
     "text": [
      "The total value of the member's saving portfolio including crypto wallet, stocks and bonds are: $111726.368\n"
     ]
    }
   ],
   "source": [
    "# Calculate the total value of the member's entire savings portfolio\n",
    "# Add the value of the cryptocurrency walled to the value of the total stocks and bonds\n",
    "total_portfolio = total_crypto_wallet + total_stocks_bonds\n",
    "\n",
    "# Print current cryptocurrency wallet balance\n",
    "print(f\"The total value of the member's saving portfolio including crypto wallet, stocks and bonds are: ${total_portfolio}\")\n"
   ]
  },
  {
   "cell_type": "markdown",
   "metadata": {},
   "source": [
    "### Evaluate the Emergency Fund\n",
    "\n",
    "In this section, you’ll use the valuations for the cryptocurrency wallet and for the stock and bond portions of the portfolio to determine if the credit union member has enough savings to build an emergency fund into their financial plan. To do this, complete the following steps:\n",
    "\n",
    "1. Create a Python list named `savings_data` that has two elements. The first element contains the total value of the cryptocurrency wallet. The second element contains the total value of the stock and bond portions of the portfolio.\n",
    "\n",
    "2. Use the `savings_data` list to create a Pandas DataFrame named `savings_df`, and then display this DataFrame. The function to create the DataFrame should take the following three parameters:\n",
    "\n",
    "    - `savings_data`: Use the list that you just created.\n",
    "\n",
    "    - `columns`: Set this parameter equal to a Python list with a single value called `amount`.\n",
    "\n",
    "    - `index`: Set this parameter equal to a Python list with the values of `crypto` and `stock/bond`.\n",
    "\n",
    "3. Use the `savings_df` DataFrame to plot a pie chart that visualizes the composition of the member’s portfolio. The y-axis of the pie chart uses `amount`. Be sure to add a title.\n",
    "\n",
    "4. Using Python, determine if the current portfolio has enough to create an emergency fund as part of the member’s financial plan. Ideally, an emergency fund should equal to three times the member’s monthly income. To do this, implement the following steps:\n",
    "\n",
    "    1. Create a variable named `emergency_fund_value`, and set it equal to three times the value of the member’s `monthly_income` of $12000. (You set this earlier in Part 1).\n",
    "\n",
    "    2. Create a series of three if statements to determine if the member’s total portfolio is large enough to fund the emergency portfolio:\n",
    "\n",
    "        1. If the total portfolio value is greater than the emergency fund value, display a message congratulating the member for having enough money in this fund.\n",
    "\n",
    "        2. Else if the total portfolio value is equal to the emergency fund value, display a message congratulating the member on reaching this important financial goal.\n",
    "\n",
    "        3. Else the total portfolio is less than the emergency fund value, so display a message showing how many dollars away the member is from reaching the goal. (Subtract the total portfolio value from the emergency fund value.)\n"
   ]
  },
  {
   "cell_type": "markdown",
   "metadata": {},
   "source": [
    "#### Step 1: Create a Python list named `savings_data` that has two elements. The first element contains the total value of the cryptocurrency wallet. The second element contains the total value of the stock and bond portions of the portfolio."
   ]
  },
  {
   "cell_type": "code",
   "execution_count": 65,
   "metadata": {},
   "outputs": [
    {
     "data": {
      "text/plain": [
       "[47541.468, 64184.9]"
      ]
     },
     "execution_count": 65,
     "metadata": {},
     "output_type": "execute_result"
    }
   ],
   "source": [
    "# Consolidate financial assets data into a Python list\n",
    "savings_data = [total_crypto_wallet, total_stocks_bonds]\n",
    "\n",
    "# Review the Python list savings_data\n",
    "savings_data"
   ]
  },
  {
   "cell_type": "markdown",
   "metadata": {},
   "source": [
    "#### Step 2: Use the `savings_data` list to create a Pandas DataFrame named `savings_df`, and then display this DataFrame. The function to create the DataFrame should take the following three parameters:\n",
    "\n",
    "- `savings_data`: Use the list that you just created.\n",
    "\n",
    "- `columns`: Set this parameter equal to a Python list with a single value called `amount`.\n",
    "\n",
    "- `index`: Set this parameter equal to a Python list with the values of `crypto` and `stock/bond`.\n"
   ]
  },
  {
   "cell_type": "code",
   "execution_count": 75,
   "metadata": {},
   "outputs": [
    {
     "data": {
      "text/html": [
       "<div>\n",
       "<style scoped>\n",
       "    .dataframe tbody tr th:only-of-type {\n",
       "        vertical-align: middle;\n",
       "    }\n",
       "\n",
       "    .dataframe tbody tr th {\n",
       "        vertical-align: top;\n",
       "    }\n",
       "\n",
       "    .dataframe thead th {\n",
       "        text-align: right;\n",
       "    }\n",
       "</style>\n",
       "<table border=\"1\" class=\"dataframe\">\n",
       "  <thead>\n",
       "    <tr style=\"text-align: right;\">\n",
       "      <th></th>\n",
       "      <th>amount</th>\n",
       "    </tr>\n",
       "  </thead>\n",
       "  <tbody>\n",
       "    <tr>\n",
       "      <th>crypto</th>\n",
       "      <td>47541.468</td>\n",
       "    </tr>\n",
       "    <tr>\n",
       "      <th>stock/bond</th>\n",
       "      <td>64184.900</td>\n",
       "    </tr>\n",
       "  </tbody>\n",
       "</table>\n",
       "</div>"
      ],
      "text/plain": [
       "               amount\n",
       "crypto      47541.468\n",
       "stock/bond  64184.900"
      ]
     },
     "execution_count": 75,
     "metadata": {},
     "output_type": "execute_result"
    }
   ],
   "source": [
    "# Create a Pandas DataFrame called savings_df \n",
    "savings_df = pd.DataFrame(data=savings_data, columns=[\"amount\"], index=[\"crypto\",\"stock/bond\"])\n",
    "\n",
    "# Display the savings_df DataFrame\n",
    "savings_df"
   ]
  },
  {
   "cell_type": "markdown",
   "metadata": {},
   "source": [
    "#### Step 3: Use the `savings_df` DataFrame to plot a pie chart that visualizes the composition of the member’s portfolio. The y-axis of the pie chart uses `amount`. Be sure to add a title."
   ]
  },
  {
   "cell_type": "code",
   "execution_count": 78,
   "metadata": {},
   "outputs": [
    {
     "data": {
      "text/plain": [
       "<AxesSubplot:title={'center':'Portfolio Distribution'}, ylabel='amount'>"
      ]
     },
     "execution_count": 78,
     "metadata": {},
     "output_type": "execute_result"
    },
    {
     "data": {
      "image/png": "[encoded data removed]",
      "text/plain": [
       "<Figure size 432x288 with 1 Axes>"
      ]
     },
     "metadata": {},
     "output_type": "display_data"
    }
   ],
   "source": [
    "# Plot the total value of the member's portfolio (crypto and stock/bond) in a pie chart\n",
    "savings_df.plot.pie(y=\"amount\", title=\"Portfolio Distribution\")\n"
   ]
  },
  {
   "cell_type": "markdown",
   "metadata": {},
   "source": [
    "#### Step 4: Using Python, determine if the current portfolio has enough to create an emergency fund as part of the member’s financial plan. Ideally, an emergency fund should equal to three times the member’s monthly income. To do this, implement the following steps:\n",
    "\n",
    "Step 1. Create a variable named `emergency_fund_value`, and set it equal to three times the value of the member’s `monthly_income` of 12000. (You set this earlier in Part 1).\n",
    "\n",
    "Step 2. Create a series of three if statements to determine if the member’s total portfolio is large enough to fund the emergency portfolio:\n",
    "\n",
    "* If the total portfolio value is greater than the emergency fund value, display a message congratulating the member for having enough money in this fund.\n",
    "\n",
    "* Else if the total portfolio value is equal to the emergency fund value, display a message congratulating the member on reaching this important financial goal.\n",
    "\n",
    "* Else the total portfolio is less than the emergency fund value, so display a message showing how many dollars away the member is from reaching the goal. (Subtract the total portfolio value from the emergency fund value.)\n"
   ]
  },
  {
   "cell_type": "markdown",
   "metadata": {},
   "source": [
    "##### Step 4-1: Create a variable named `emergency_fund_value`, and set it equal to three times the value of the member’s `monthly_income` of 12000. (You set this earlier in Part 1)."
   ]
  },
  {
   "cell_type": "code",
   "execution_count": 79,
   "metadata": {},
   "outputs": [],
   "source": [
    "# Create a variable named emergency_fund_value\n",
    "emergency_fund_value = 3 * monthly_income\n"
   ]
  },
  {
   "cell_type": "markdown",
   "metadata": {},
   "source": [
    "##### Step 4-2: Create a series of three if statements to determine if the member’s total portfolio is large enough to fund the emergency portfolio:\n",
    "\n",
    "* If the total portfolio value is greater than the emergency fund value, display a message congratulating the member for having enough money in this fund.\n",
    "\n",
    "* Else if the total portfolio value is equal to the emergency fund value, display a message congratulating the member on reaching this important financial goal.\n",
    "\n",
    "* Else the total portfolio is less than the emergency fund value, so display a message showing how many dollars away the member is from reaching the goal. (Subtract the total portfolio value from the emergency fund value.)"
   ]
  },
  {
   "cell_type": "code",
   "execution_count": 90,
   "metadata": {},
   "outputs": [
    {
     "name": "stdout",
     "output_type": "stream",
     "text": [
      "Congratulations! You have enough money in the fund.\n"
     ]
    }
   ],
   "source": [
    "# Evaluate the possibility of creating an emergency fund with 3 conditions:\n",
    " \n",
    "if total_portfolio > emergency_fund_value:\n",
    "    print (f\"Congratulations! You have enough money in the fund.\")\n",
    "elif total_portfolio == emergency_fund_value:\n",
    "    print (f\"Congratulations! You just have enough money in the fund and reached an important financial goal.\")\n",
    "else:\n",
    "    print (f\"You are ${emergency_fund_value - total_portfolio} short from reaching the financial goal.\")"
   ]
  },
  {
   "cell_type": "markdown",
   "metadata": {},
   "source": [
    "## Part 2: Create a Financial Planner for Retirement"
   ]
  },
  {
   "cell_type": "markdown",
   "metadata": {},
   "source": [
    "### Create the Monte Carlo Simulation\n",
    "\n",
    "In this section, you’ll use the MCForecastTools library to create a Monte Carlo simulation for the member’s savings portfolio. To do this, complete the following steps:\n",
    "\n",
    "1. Make an API call via the Alpaca SDK to get 10 years of historical closing prices for a traditional 60/40 portfolio split: 60% stocks (SPY) and 40% bonds (AGG).\n",
    "\n",
    "2. Run a Monte Carlo simulation of 500 samples and 30 years for the 60/40 portfolio, and then plot the results.The following image shows the overlay line plot resulting from a simulation with these characteristics. However, because a random number generator is used to run each live Monte Carlo simulation, your image will differ slightly from this exact image:\n",
    "\n",
    "![A screenshot depicts the resulting plot.](Images/5-4-monte-carlo-line-plot.png)\n",
    "\n",
    "3. Plot the probability distribution of the Monte Carlo simulation. Plot the probability distribution of the Monte Carlo simulation. The following image shows the histogram plot resulting from a simulation with these characteristics. However, because a random number generator is used to run each live Monte Carlo simulation, your image will differ slightly from this exact image:\n",
    "\n",
    "![A screenshot depicts the histogram plot.](Images/5-4-monte-carlo-histogram.png)\n",
    "\n",
    "4. Generate the summary statistics for the Monte Carlo simulation.\n",
    "\n"
   ]
  },
  {
   "cell_type": "markdown",
   "metadata": {},
   "source": [
    "#### Step 1: Make an API call via the Alpaca SDK to get 10 years of historical closing prices for a traditional 60/40 portfolio split: 60% stocks (SPY) and 40% bonds (AGG)."
   ]
  },
  {
   "cell_type": "code",
   "execution_count": 95,
   "metadata": {},
   "outputs": [
    {
     "data": {
      "text/plain": [
       "'2011-02-02T00:00:00-08:00'"
      ]
     },
     "metadata": {},
     "output_type": "display_data"
    },
    {
     "data": {
      "text/plain": [
       "'2021-01-30T00:00:00-08:00'"
      ]
     },
     "metadata": {},
     "output_type": "display_data"
    }
   ],
   "source": [
    "# Set start and end dates of 10 years back from your current date\n",
    "# Alternatively, you can use an end date of 2020-08-07 and work 10 years back from that date \n",
    "today = str(datetime.datetime.now()).split()[0]\n",
    "ten_years_ago = str(datetime.datetime.now() - datetime.timedelta(days=10*365)).split()[0]\n",
    "\n",
    "start_date = pd.Timestamp(ten_years_ago, tz=\"America/Los_Angeles\").isoformat()\n",
    "end_date = pd.Timestamp(today, tz=\"America/Los_Angeles\").isoformat()\n",
    "\n",
    "display(start_date)\n",
    "display(end_date)"
   ]
  },
  {
   "cell_type": "code",
   "execution_count": 97,
   "metadata": {},
   "outputs": [
    {
     "data": {
      "text/html": [
       "<div>\n",
       "<style scoped>\n",
       "    .dataframe tbody tr th:only-of-type {\n",
       "        vertical-align: middle;\n",
       "    }\n",
       "\n",
       "    .dataframe tbody tr th {\n",
       "        vertical-align: top;\n",
       "    }\n",
       "\n",
       "    .dataframe thead tr th {\n",
       "        text-align: left;\n",
       "    }\n",
       "\n",
       "    .dataframe thead tr:last-of-type th {\n",
       "        text-align: right;\n",
       "    }\n",
       "</style>\n",
       "<table border=\"1\" class=\"dataframe\">\n",
       "  <thead>\n",
       "    <tr>\n",
       "      <th></th>\n",
       "      <th colspan=\"5\" halign=\"left\">AGG</th>\n",
       "      <th colspan=\"5\" halign=\"left\">SPY</th>\n",
       "    </tr>\n",
       "    <tr>\n",
       "      <th></th>\n",
       "      <th>open</th>\n",
       "      <th>high</th>\n",
       "      <th>low</th>\n",
       "      <th>close</th>\n",
       "      <th>volume</th>\n",
       "      <th>open</th>\n",
       "      <th>high</th>\n",
       "      <th>low</th>\n",
       "      <th>close</th>\n",
       "      <th>volume</th>\n",
       "    </tr>\n",
       "    <tr>\n",
       "      <th>time</th>\n",
       "      <th></th>\n",
       "      <th></th>\n",
       "      <th></th>\n",
       "      <th></th>\n",
       "      <th></th>\n",
       "      <th></th>\n",
       "      <th></th>\n",
       "      <th></th>\n",
       "      <th></th>\n",
       "      <th></th>\n",
       "    </tr>\n",
       "  </thead>\n",
       "  <tbody>\n",
       "    <tr>\n",
       "      <th>2011-02-02 00:00:00-05:00</th>\n",
       "      <td>105.15</td>\n",
       "      <td>105.230</td>\n",
       "      <td>104.88</td>\n",
       "      <td>105.00</td>\n",
       "      <td>473272</td>\n",
       "      <td>130.40</td>\n",
       "      <td>130.84</td>\n",
       "      <td>130.33</td>\n",
       "      <td>130.47</td>\n",
       "      <td>97820942</td>\n",
       "    </tr>\n",
       "    <tr>\n",
       "      <th>2011-02-03 00:00:00-05:00</th>\n",
       "      <td>104.79</td>\n",
       "      <td>104.871</td>\n",
       "      <td>104.61</td>\n",
       "      <td>104.62</td>\n",
       "      <td>838703</td>\n",
       "      <td>130.26</td>\n",
       "      <td>130.98</td>\n",
       "      <td>129.57</td>\n",
       "      <td>130.78</td>\n",
       "      <td>122274669</td>\n",
       "    </tr>\n",
       "    <tr>\n",
       "      <th>2011-02-04 00:00:00-05:00</th>\n",
       "      <td>104.51</td>\n",
       "      <td>104.630</td>\n",
       "      <td>104.20</td>\n",
       "      <td>104.25</td>\n",
       "      <td>1090269</td>\n",
       "      <td>130.83</td>\n",
       "      <td>131.20</td>\n",
       "      <td>130.23</td>\n",
       "      <td>131.15</td>\n",
       "      <td>103598208</td>\n",
       "    </tr>\n",
       "    <tr>\n",
       "      <th>2011-02-07 00:00:00-05:00</th>\n",
       "      <td>104.17</td>\n",
       "      <td>104.331</td>\n",
       "      <td>104.11</td>\n",
       "      <td>104.29</td>\n",
       "      <td>569006</td>\n",
       "      <td>131.44</td>\n",
       "      <td>132.40</td>\n",
       "      <td>131.43</td>\n",
       "      <td>131.98</td>\n",
       "      <td>90480160</td>\n",
       "    </tr>\n",
       "    <tr>\n",
       "      <th>2011-02-08 00:00:00-05:00</th>\n",
       "      <td>104.31</td>\n",
       "      <td>104.320</td>\n",
       "      <td>103.91</td>\n",
       "      <td>103.99</td>\n",
       "      <td>692756</td>\n",
       "      <td>132.10</td>\n",
       "      <td>132.64</td>\n",
       "      <td>131.73</td>\n",
       "      <td>132.59</td>\n",
       "      <td>85774423</td>\n",
       "    </tr>\n",
       "  </tbody>\n",
       "</table>\n",
       "</div>"
      ],
      "text/plain": [
       "                              AGG                                       SPY  \\\n",
       "                             open     high     low   close   volume    open   \n",
       "time                                                                          \n",
       "2011-02-02 00:00:00-05:00  105.15  105.230  104.88  105.00   473272  130.40   \n",
       "2011-02-03 00:00:00-05:00  104.79  104.871  104.61  104.62   838703  130.26   \n",
       "2011-02-04 00:00:00-05:00  104.51  104.630  104.20  104.25  1090269  130.83   \n",
       "2011-02-07 00:00:00-05:00  104.17  104.331  104.11  104.29   569006  131.44   \n",
       "2011-02-08 00:00:00-05:00  104.31  104.320  103.91  103.99   692756  132.10   \n",
       "\n",
       "                                                              \n",
       "                             high     low   close     volume  \n",
       "time                                                          \n",
       "2011-02-02 00:00:00-05:00  130.84  130.33  130.47   97820942  \n",
       "2011-02-03 00:00:00-05:00  130.98  129.57  130.78  122274669  \n",
       "2011-02-04 00:00:00-05:00  131.20  130.23  131.15  103598208  \n",
       "2011-02-07 00:00:00-05:00  132.40  131.43  131.98   90480160  \n",
       "2011-02-08 00:00:00-05:00  132.64  131.73  132.59   85774423  "
      ]
     },
     "execution_count": 97,
     "metadata": {},
     "output_type": "execute_result"
    }
   ],
   "source": [
    "# Use the Alpaca get_barset function to make the API call to get the 10 years worth of pricing data\n",
    "# The tickers and timeframe parameters should have been set in Part 1 of this activity \n",
    "# The start and end dates should be updated with the information set above\n",
    "# Remember to add the df property to the end of the call so the response is returned as a DataFrame\n",
    "df_portfolio = alpaca.get_barset(\n",
    "    tickers,\n",
    "    timeframe,\n",
    "    start = start_date,\n",
    "    end = end_date\n",
    ").df\n",
    "\n",
    "# Display both the first and last five rows of the DataFrame\n",
    "df_portfolio.head()\n"
   ]
  },
  {
   "cell_type": "markdown",
   "metadata": {},
   "source": [
    "#### Step 2: Run a Monte Carlo simulation of 500 samples and 30 years for the 60/40 portfolio, and then plot the results."
   ]
  },
  {
   "cell_type": "code",
   "execution_count": 109,
   "metadata": {},
   "outputs": [
    {
     "data": {
      "text/html": [
       "<div>\n",
       "<style scoped>\n",
       "    .dataframe tbody tr th:only-of-type {\n",
       "        vertical-align: middle;\n",
       "    }\n",
       "\n",
       "    .dataframe tbody tr th {\n",
       "        vertical-align: top;\n",
       "    }\n",
       "\n",
       "    .dataframe thead tr th {\n",
       "        text-align: left;\n",
       "    }\n",
       "\n",
       "    .dataframe thead tr:last-of-type th {\n",
       "        text-align: right;\n",
       "    }\n",
       "</style>\n",
       "<table border=\"1\" class=\"dataframe\">\n",
       "  <thead>\n",
       "    <tr>\n",
       "      <th></th>\n",
       "      <th colspan=\"6\" halign=\"left\">AGG</th>\n",
       "      <th colspan=\"6\" halign=\"left\">SPY</th>\n",
       "    </tr>\n",
       "    <tr>\n",
       "      <th></th>\n",
       "      <th>open</th>\n",
       "      <th>high</th>\n",
       "      <th>low</th>\n",
       "      <th>close</th>\n",
       "      <th>volume</th>\n",
       "      <th>daily_return</th>\n",
       "      <th>open</th>\n",
       "      <th>high</th>\n",
       "      <th>low</th>\n",
       "      <th>close</th>\n",
       "      <th>volume</th>\n",
       "      <th>daily_return</th>\n",
       "    </tr>\n",
       "    <tr>\n",
       "      <th>time</th>\n",
       "      <th></th>\n",
       "      <th></th>\n",
       "      <th></th>\n",
       "      <th></th>\n",
       "      <th></th>\n",
       "      <th></th>\n",
       "      <th></th>\n",
       "      <th></th>\n",
       "      <th></th>\n",
       "      <th></th>\n",
       "      <th></th>\n",
       "      <th></th>\n",
       "    </tr>\n",
       "  </thead>\n",
       "  <tbody>\n",
       "    <tr>\n",
       "      <th>2011-02-02 00:00:00-05:00</th>\n",
       "      <td>105.15</td>\n",
       "      <td>105.230</td>\n",
       "      <td>104.88</td>\n",
       "      <td>105.00</td>\n",
       "      <td>473272</td>\n",
       "      <td>NaN</td>\n",
       "      <td>130.40</td>\n",
       "      <td>130.84</td>\n",
       "      <td>130.33</td>\n",
       "      <td>130.47</td>\n",
       "      <td>97820942</td>\n",
       "      <td>NaN</td>\n",
       "    </tr>\n",
       "    <tr>\n",
       "      <th>2011-02-03 00:00:00-05:00</th>\n",
       "      <td>104.79</td>\n",
       "      <td>104.871</td>\n",
       "      <td>104.61</td>\n",
       "      <td>104.62</td>\n",
       "      <td>838703</td>\n",
       "      <td>-0.003619</td>\n",
       "      <td>130.26</td>\n",
       "      <td>130.98</td>\n",
       "      <td>129.57</td>\n",
       "      <td>130.78</td>\n",
       "      <td>122274669</td>\n",
       "      <td>0.002376</td>\n",
       "    </tr>\n",
       "    <tr>\n",
       "      <th>2011-02-04 00:00:00-05:00</th>\n",
       "      <td>104.51</td>\n",
       "      <td>104.630</td>\n",
       "      <td>104.20</td>\n",
       "      <td>104.25</td>\n",
       "      <td>1090269</td>\n",
       "      <td>-0.003537</td>\n",
       "      <td>130.83</td>\n",
       "      <td>131.20</td>\n",
       "      <td>130.23</td>\n",
       "      <td>131.15</td>\n",
       "      <td>103598208</td>\n",
       "      <td>0.002829</td>\n",
       "    </tr>\n",
       "    <tr>\n",
       "      <th>2011-02-07 00:00:00-05:00</th>\n",
       "      <td>104.17</td>\n",
       "      <td>104.331</td>\n",
       "      <td>104.11</td>\n",
       "      <td>104.29</td>\n",
       "      <td>569006</td>\n",
       "      <td>0.000384</td>\n",
       "      <td>131.44</td>\n",
       "      <td>132.40</td>\n",
       "      <td>131.43</td>\n",
       "      <td>131.98</td>\n",
       "      <td>90480160</td>\n",
       "      <td>0.006329</td>\n",
       "    </tr>\n",
       "    <tr>\n",
       "      <th>2011-02-08 00:00:00-05:00</th>\n",
       "      <td>104.31</td>\n",
       "      <td>104.320</td>\n",
       "      <td>103.91</td>\n",
       "      <td>103.99</td>\n",
       "      <td>692756</td>\n",
       "      <td>-0.002877</td>\n",
       "      <td>132.10</td>\n",
       "      <td>132.64</td>\n",
       "      <td>131.73</td>\n",
       "      <td>132.59</td>\n",
       "      <td>85774423</td>\n",
       "      <td>0.004622</td>\n",
       "    </tr>\n",
       "  </tbody>\n",
       "</table>\n",
       "</div>"
      ],
      "text/plain": [
       "                              AGG                                    \\\n",
       "                             open     high     low   close   volume   \n",
       "time                                                                  \n",
       "2011-02-02 00:00:00-05:00  105.15  105.230  104.88  105.00   473272   \n",
       "2011-02-03 00:00:00-05:00  104.79  104.871  104.61  104.62   838703   \n",
       "2011-02-04 00:00:00-05:00  104.51  104.630  104.20  104.25  1090269   \n",
       "2011-02-07 00:00:00-05:00  104.17  104.331  104.11  104.29   569006   \n",
       "2011-02-08 00:00:00-05:00  104.31  104.320  103.91  103.99   692756   \n",
       "\n",
       "                                           SPY                          \\\n",
       "                          daily_return    open    high     low   close   \n",
       "time                                                                     \n",
       "2011-02-02 00:00:00-05:00          NaN  130.40  130.84  130.33  130.47   \n",
       "2011-02-03 00:00:00-05:00    -0.003619  130.26  130.98  129.57  130.78   \n",
       "2011-02-04 00:00:00-05:00    -0.003537  130.83  131.20  130.23  131.15   \n",
       "2011-02-07 00:00:00-05:00     0.000384  131.44  132.40  131.43  131.98   \n",
       "2011-02-08 00:00:00-05:00    -0.002877  132.10  132.64  131.73  132.59   \n",
       "\n",
       "                                                   \n",
       "                              volume daily_return  \n",
       "time                                               \n",
       "2011-02-02 00:00:00-05:00   97820942          NaN  \n",
       "2011-02-03 00:00:00-05:00  122274669     0.002376  \n",
       "2011-02-04 00:00:00-05:00  103598208     0.002829  \n",
       "2011-02-07 00:00:00-05:00   90480160     0.006329  \n",
       "2011-02-08 00:00:00-05:00   85774423     0.004622  "
      ]
     },
     "execution_count": 109,
     "metadata": {},
     "output_type": "execute_result"
    }
   ],
   "source": [
    "# Configure the Monte Carlo simulation to forecast 30 years cumulative returns\n",
    "# The weights should be split 40% to AGG and 60% to SPY.\n",
    "# Run 500 samples.\n",
    "thirty_year_simulation = MCSimulation(\n",
    "    portfolio_data=df_portfolio,\n",
    "    weights=[0.60, 0.40],\n",
    "    num_simulation=500,\n",
    "    num_trading_days=252*30,\n",
    ")\n",
    "\n",
    "# Review the simulation input data\n",
    "thirty_year_simulation.portfolio_data.head()\n"
   ]
  },
  {
   "cell_type": "code",
   "execution_count": 110,
   "metadata": {},
   "outputs": [
    {
     "name": "stdout",
     "output_type": "stream",
     "text": [
      "Running Monte Carlo simulation number 0.\n",
      "Running Monte Carlo simulation number 10.\n",
      "Running Monte Carlo simulation number 20.\n",
      "Running Monte Carlo simulation number 30.\n",
      "Running Monte Carlo simulation number 40.\n",
      "Running Monte Carlo simulation number 50.\n",
      "Running Monte Carlo simulation number 60.\n",
      "Running Monte Carlo simulation number 70.\n",
      "Running Monte Carlo simulation number 80.\n",
      "Running Monte Carlo simulation number 90.\n",
      "Running Monte Carlo simulation number 100.\n",
      "Running Monte Carlo simulation number 110.\n",
      "Running Monte Carlo simulation number 120.\n",
      "Running Monte Carlo simulation number 130.\n",
      "Running Monte Carlo simulation number 140.\n",
      "Running Monte Carlo simulation number 150.\n",
      "Running Monte Carlo simulation number 160.\n",
      "Running Monte Carlo simulation number 170.\n",
      "Running Monte Carlo simulation number 180.\n",
      "Running Monte Carlo simulation number 190.\n",
      "Running Monte Carlo simulation number 200.\n",
      "Running Monte Carlo simulation number 210.\n",
      "Running Monte Carlo simulation number 220.\n",
      "Running Monte Carlo simulation number 230.\n",
      "Running Monte Carlo simulation number 240.\n",
      "Running Monte Carlo simulation number 250.\n",
      "Running Monte Carlo simulation number 260.\n",
      "Running Monte Carlo simulation number 270.\n",
      "Running Monte Carlo simulation number 280.\n",
      "Running Monte Carlo simulation number 290.\n",
      "Running Monte Carlo simulation number 300.\n",
      "Running Monte Carlo simulation number 310.\n",
      "Running Monte Carlo simulation number 320.\n",
      "Running Monte Carlo simulation number 330.\n",
      "Running Monte Carlo simulation number 340.\n",
      "Running Monte Carlo simulation number 350.\n",
      "Running Monte Carlo simulation number 360.\n",
      "Running Monte Carlo simulation number 370.\n",
      "Running Monte Carlo simulation number 380.\n",
      "Running Monte Carlo simulation number 390.\n",
      "Running Monte Carlo simulation number 400.\n",
      "Running Monte Carlo simulation number 410.\n",
      "Running Monte Carlo simulation number 420.\n",
      "Running Monte Carlo simulation number 430.\n",
      "Running Monte Carlo simulation number 440.\n",
      "Running Monte Carlo simulation number 450.\n",
      "Running Monte Carlo simulation number 460.\n",
      "Running Monte Carlo simulation number 470.\n",
      "Running Monte Carlo simulation number 480.\n",
      "Running Monte Carlo simulation number 490.\n"
     ]
    },
    {
     "data": {
      "text/html": [
       "<div>\n",
       "<style scoped>\n",
       "    .dataframe tbody tr th:only-of-type {\n",
       "        vertical-align: middle;\n",
       "    }\n",
       "\n",
       "    .dataframe tbody tr th {\n",
       "        vertical-align: top;\n",
       "    }\n",
       "\n",
       "    .dataframe thead th {\n",
       "        text-align: right;\n",
       "    }\n",
       "</style>\n",
       "<table border=\"1\" class=\"dataframe\">\n",
       "  <thead>\n",
       "    <tr style=\"text-align: right;\">\n",
       "      <th></th>\n",
       "      <th>0</th>\n",
       "      <th>1</th>\n",
       "      <th>2</th>\n",
       "      <th>3</th>\n",
       "      <th>4</th>\n",
       "      <th>5</th>\n",
       "      <th>6</th>\n",
       "      <th>7</th>\n",
       "      <th>8</th>\n",
       "      <th>9</th>\n",
       "      <th>...</th>\n",
       "      <th>490</th>\n",
       "      <th>491</th>\n",
       "      <th>492</th>\n",
       "      <th>493</th>\n",
       "      <th>494</th>\n",
       "      <th>495</th>\n",
       "      <th>496</th>\n",
       "      <th>497</th>\n",
       "      <th>498</th>\n",
       "      <th>499</th>\n",
       "    </tr>\n",
       "  </thead>\n",
       "  <tbody>\n",
       "    <tr>\n",
       "      <th>0</th>\n",
       "      <td>1.000000</td>\n",
       "      <td>1.000000</td>\n",
       "      <td>1.000000</td>\n",
       "      <td>1.000000</td>\n",
       "      <td>1.000000</td>\n",
       "      <td>1.000000</td>\n",
       "      <td>1.000000</td>\n",
       "      <td>1.000000</td>\n",
       "      <td>1.000000</td>\n",
       "      <td>1.000000</td>\n",
       "      <td>...</td>\n",
       "      <td>1.000000</td>\n",
       "      <td>1.000000</td>\n",
       "      <td>1.000000</td>\n",
       "      <td>1.000000</td>\n",
       "      <td>1.000000</td>\n",
       "      <td>1.000000</td>\n",
       "      <td>1.000000</td>\n",
       "      <td>1.000000</td>\n",
       "      <td>1.000000</td>\n",
       "      <td>1.000000</td>\n",
       "    </tr>\n",
       "    <tr>\n",
       "      <th>1</th>\n",
       "      <td>1.001681</td>\n",
       "      <td>0.994574</td>\n",
       "      <td>1.003322</td>\n",
       "      <td>0.994569</td>\n",
       "      <td>0.996608</td>\n",
       "      <td>0.989246</td>\n",
       "      <td>0.997976</td>\n",
       "      <td>1.004045</td>\n",
       "      <td>0.996112</td>\n",
       "      <td>0.992972</td>\n",
       "      <td>...</td>\n",
       "      <td>0.985373</td>\n",
       "      <td>0.999178</td>\n",
       "      <td>0.995751</td>\n",
       "      <td>0.992358</td>\n",
       "      <td>1.006458</td>\n",
       "      <td>1.006914</td>\n",
       "      <td>1.008819</td>\n",
       "      <td>1.002917</td>\n",
       "      <td>1.005833</td>\n",
       "      <td>1.003455</td>\n",
       "    </tr>\n",
       "    <tr>\n",
       "      <th>2</th>\n",
       "      <td>1.001446</td>\n",
       "      <td>0.995893</td>\n",
       "      <td>1.005824</td>\n",
       "      <td>0.986389</td>\n",
       "      <td>0.991737</td>\n",
       "      <td>0.995274</td>\n",
       "      <td>0.996803</td>\n",
       "      <td>1.002275</td>\n",
       "      <td>1.001102</td>\n",
       "      <td>0.992181</td>\n",
       "      <td>...</td>\n",
       "      <td>0.988316</td>\n",
       "      <td>0.999370</td>\n",
       "      <td>0.992375</td>\n",
       "      <td>0.995983</td>\n",
       "      <td>1.009439</td>\n",
       "      <td>1.004434</td>\n",
       "      <td>1.015994</td>\n",
       "      <td>1.006584</td>\n",
       "      <td>0.996981</td>\n",
       "      <td>1.006256</td>\n",
       "    </tr>\n",
       "    <tr>\n",
       "      <th>3</th>\n",
       "      <td>1.001690</td>\n",
       "      <td>1.004368</td>\n",
       "      <td>1.010620</td>\n",
       "      <td>0.987382</td>\n",
       "      <td>1.000007</td>\n",
       "      <td>0.990661</td>\n",
       "      <td>0.994239</td>\n",
       "      <td>0.998407</td>\n",
       "      <td>0.996903</td>\n",
       "      <td>0.987848</td>\n",
       "      <td>...</td>\n",
       "      <td>0.994390</td>\n",
       "      <td>0.999591</td>\n",
       "      <td>0.989980</td>\n",
       "      <td>1.009114</td>\n",
       "      <td>1.012588</td>\n",
       "      <td>1.005630</td>\n",
       "      <td>1.019596</td>\n",
       "      <td>1.009650</td>\n",
       "      <td>0.997183</td>\n",
       "      <td>1.009117</td>\n",
       "    </tr>\n",
       "    <tr>\n",
       "      <th>4</th>\n",
       "      <td>1.001744</td>\n",
       "      <td>1.002812</td>\n",
       "      <td>1.016079</td>\n",
       "      <td>0.980331</td>\n",
       "      <td>1.001896</td>\n",
       "      <td>0.996385</td>\n",
       "      <td>0.998381</td>\n",
       "      <td>0.998760</td>\n",
       "      <td>0.997612</td>\n",
       "      <td>0.989386</td>\n",
       "      <td>...</td>\n",
       "      <td>0.990794</td>\n",
       "      <td>0.995015</td>\n",
       "      <td>0.990041</td>\n",
       "      <td>1.003196</td>\n",
       "      <td>1.009187</td>\n",
       "      <td>1.002387</td>\n",
       "      <td>1.022124</td>\n",
       "      <td>1.010904</td>\n",
       "      <td>0.998262</td>\n",
       "      <td>0.999422</td>\n",
       "    </tr>\n",
       "    <tr>\n",
       "      <th>...</th>\n",
       "      <td>...</td>\n",
       "      <td>...</td>\n",
       "      <td>...</td>\n",
       "      <td>...</td>\n",
       "      <td>...</td>\n",
       "      <td>...</td>\n",
       "      <td>...</td>\n",
       "      <td>...</td>\n",
       "      <td>...</td>\n",
       "      <td>...</td>\n",
       "      <td>...</td>\n",
       "      <td>...</td>\n",
       "      <td>...</td>\n",
       "      <td>...</td>\n",
       "      <td>...</td>\n",
       "      <td>...</td>\n",
       "      <td>...</td>\n",
       "      <td>...</td>\n",
       "      <td>...</td>\n",
       "      <td>...</td>\n",
       "      <td>...</td>\n",
       "    </tr>\n",
       "    <tr>\n",
       "      <th>7556</th>\n",
       "      <td>3.189133</td>\n",
       "      <td>5.035045</td>\n",
       "      <td>5.649778</td>\n",
       "      <td>4.528084</td>\n",
       "      <td>5.784460</td>\n",
       "      <td>3.396728</td>\n",
       "      <td>3.853433</td>\n",
       "      <td>5.099059</td>\n",
       "      <td>4.017977</td>\n",
       "      <td>7.856544</td>\n",
       "      <td>...</td>\n",
       "      <td>7.825190</td>\n",
       "      <td>4.161018</td>\n",
       "      <td>12.880673</td>\n",
       "      <td>4.626936</td>\n",
       "      <td>3.812724</td>\n",
       "      <td>4.102863</td>\n",
       "      <td>6.999105</td>\n",
       "      <td>7.530126</td>\n",
       "      <td>4.619467</td>\n",
       "      <td>3.773016</td>\n",
       "    </tr>\n",
       "    <tr>\n",
       "      <th>7557</th>\n",
       "      <td>3.181479</td>\n",
       "      <td>5.059134</td>\n",
       "      <td>5.655358</td>\n",
       "      <td>4.510318</td>\n",
       "      <td>5.811649</td>\n",
       "      <td>3.398344</td>\n",
       "      <td>3.887660</td>\n",
       "      <td>5.125850</td>\n",
       "      <td>3.992306</td>\n",
       "      <td>7.894619</td>\n",
       "      <td>...</td>\n",
       "      <td>7.778045</td>\n",
       "      <td>4.146438</td>\n",
       "      <td>12.952875</td>\n",
       "      <td>4.594603</td>\n",
       "      <td>3.819386</td>\n",
       "      <td>4.113700</td>\n",
       "      <td>7.010168</td>\n",
       "      <td>7.587866</td>\n",
       "      <td>4.588375</td>\n",
       "      <td>3.765184</td>\n",
       "    </tr>\n",
       "    <tr>\n",
       "      <th>7558</th>\n",
       "      <td>3.200265</td>\n",
       "      <td>5.096014</td>\n",
       "      <td>5.645431</td>\n",
       "      <td>4.529678</td>\n",
       "      <td>5.812075</td>\n",
       "      <td>3.385116</td>\n",
       "      <td>3.873096</td>\n",
       "      <td>5.116744</td>\n",
       "      <td>3.970108</td>\n",
       "      <td>7.871680</td>\n",
       "      <td>...</td>\n",
       "      <td>7.732295</td>\n",
       "      <td>4.166179</td>\n",
       "      <td>12.983156</td>\n",
       "      <td>4.576780</td>\n",
       "      <td>3.800960</td>\n",
       "      <td>4.123528</td>\n",
       "      <td>7.046041</td>\n",
       "      <td>7.585313</td>\n",
       "      <td>4.572770</td>\n",
       "      <td>3.781831</td>\n",
       "    </tr>\n",
       "    <tr>\n",
       "      <th>7559</th>\n",
       "      <td>3.198841</td>\n",
       "      <td>5.074546</td>\n",
       "      <td>5.666013</td>\n",
       "      <td>4.536617</td>\n",
       "      <td>5.815649</td>\n",
       "      <td>3.366833</td>\n",
       "      <td>3.872559</td>\n",
       "      <td>5.117977</td>\n",
       "      <td>3.988061</td>\n",
       "      <td>7.880418</td>\n",
       "      <td>...</td>\n",
       "      <td>7.654746</td>\n",
       "      <td>4.191434</td>\n",
       "      <td>13.002886</td>\n",
       "      <td>4.576259</td>\n",
       "      <td>3.783045</td>\n",
       "      <td>4.160738</td>\n",
       "      <td>7.023381</td>\n",
       "      <td>7.570012</td>\n",
       "      <td>4.581576</td>\n",
       "      <td>3.761275</td>\n",
       "    </tr>\n",
       "    <tr>\n",
       "      <th>7560</th>\n",
       "      <td>3.205582</td>\n",
       "      <td>5.061595</td>\n",
       "      <td>5.668561</td>\n",
       "      <td>4.501997</td>\n",
       "      <td>5.830217</td>\n",
       "      <td>3.350179</td>\n",
       "      <td>3.883681</td>\n",
       "      <td>5.102388</td>\n",
       "      <td>3.985633</td>\n",
       "      <td>7.830432</td>\n",
       "      <td>...</td>\n",
       "      <td>7.702316</td>\n",
       "      <td>4.201842</td>\n",
       "      <td>12.965654</td>\n",
       "      <td>4.582869</td>\n",
       "      <td>3.775030</td>\n",
       "      <td>4.162332</td>\n",
       "      <td>6.976044</td>\n",
       "      <td>7.653548</td>\n",
       "      <td>4.600204</td>\n",
       "      <td>3.792663</td>\n",
       "    </tr>\n",
       "  </tbody>\n",
       "</table>\n",
       "<p>7561 rows × 500 columns</p>\n",
       "</div>"
      ],
      "text/plain": [
       "           0         1         2         3         4         5         6    \\\n",
       "0     1.000000  1.000000  1.000000  1.000000  1.000000  1.000000  1.000000   \n",
       "1     1.001681  0.994574  1.003322  0.994569  0.996608  0.989246  0.997976   \n",
       "2     1.001446  0.995893  1.005824  0.986389  0.991737  0.995274  0.996803   \n",
       "3     1.001690  1.004368  1.010620  0.987382  1.000007  0.990661  0.994239   \n",
       "4     1.001744  1.002812  1.016079  0.980331  1.001896  0.996385  0.998381   \n",
       "...        ...       ...       ...       ...       ...       ...       ...   \n",
       "7556  3.189133  5.035045  5.649778  4.528084  5.784460  3.396728  3.853433   \n",
       "7557  3.181479  5.059134  5.655358  4.510318  5.811649  3.398344  3.887660   \n",
       "7558  3.200265  5.096014  5.645431  4.529678  5.812075  3.385116  3.873096   \n",
       "7559  3.198841  5.074546  5.666013  4.536617  5.815649  3.366833  3.872559   \n",
       "7560  3.205582  5.061595  5.668561  4.501997  5.830217  3.350179  3.883681   \n",
       "\n",
       "           7         8         9    ...       490       491        492  \\\n",
       "0     1.000000  1.000000  1.000000  ...  1.000000  1.000000   1.000000   \n",
       "1     1.004045  0.996112  0.992972  ...  0.985373  0.999178   0.995751   \n",
       "2     1.002275  1.001102  0.992181  ...  0.988316  0.999370   0.992375   \n",
       "3     0.998407  0.996903  0.987848  ...  0.994390  0.999591   0.989980   \n",
       "4     0.998760  0.997612  0.989386  ...  0.990794  0.995015   0.990041   \n",
       "...        ...       ...       ...  ...       ...       ...        ...   \n",
       "7556  5.099059  4.017977  7.856544  ...  7.825190  4.161018  12.880673   \n",
       "7557  5.125850  3.992306  7.894619  ...  7.778045  4.146438  12.952875   \n",
       "7558  5.116744  3.970108  7.871680  ...  7.732295  4.166179  12.983156   \n",
       "7559  5.117977  3.988061  7.880418  ...  7.654746  4.191434  13.002886   \n",
       "7560  5.102388  3.985633  7.830432  ...  7.702316  4.201842  12.965654   \n",
       "\n",
       "           493       494       495       496       497       498       499  \n",
       "0     1.000000  1.000000  1.000000  1.000000  1.000000  1.000000  1.000000  \n",
       "1     0.992358  1.006458  1.006914  1.008819  1.002917  1.005833  1.003455  \n",
       "2     0.995983  1.009439  1.004434  1.015994  1.006584  0.996981  1.006256  \n",
       "3     1.009114  1.012588  1.005630  1.019596  1.009650  0.997183  1.009117  \n",
       "4     1.003196  1.009187  1.002387  1.022124  1.010904  0.998262  0.999422  \n",
       "...        ...       ...       ...       ...       ...       ...       ...  \n",
       "7556  4.626936  3.812724  4.102863  6.999105  7.530126  4.619467  3.773016  \n",
       "7557  4.594603  3.819386  4.113700  7.010168  7.587866  4.588375  3.765184  \n",
       "7558  4.576780  3.800960  4.123528  7.046041  7.585313  4.572770  3.781831  \n",
       "7559  4.576259  3.783045  4.160738  7.023381  7.570012  4.581576  3.761275  \n",
       "7560  4.582869  3.775030  4.162332  6.976044  7.653548  4.600204  3.792663  \n",
       "\n",
       "[7561 rows x 500 columns]"
      ]
     },
     "execution_count": 110,
     "metadata": {},
     "output_type": "execute_result"
    }
   ],
   "source": [
    "# Run the Monte Carlo simulation to forecast 30 years cumulative returns\n",
    "thirty_year_simulation.calc_cumulative_return()\n"
   ]
  },
  {
   "cell_type": "code",
   "execution_count": 111,
   "metadata": {},
   "outputs": [
    {
     "data": {
      "text/plain": [
       "<AxesSubplot:title={'center':'500 Simulations of Cumulative Portfolio Return Trajectories Over the Next 7560 Trading Days.'}>"
      ]
     },
     "execution_count": 111,
     "metadata": {},
     "output_type": "execute_result"
    },
    {
     "data": {
      "image/png": "[encoded data removed]",
      "text/plain": [
       "<Figure size 432x288 with 1 Axes>"
      ]
     },
     "metadata": {
      "needs_background": "light"
     },
     "output_type": "display_data"
    }
   ],
   "source": [
    "# Visualize the 30-year Monte Carlo simulation by creating an\n",
    "# overlay line plot\n",
    "thirty_year_simulation.plot_simulation()"
   ]
  },
  {
   "cell_type": "markdown",
   "metadata": {},
   "source": [
    "#### Step 3: Plot the probability distribution of the Monte Carlo simulation."
   ]
  },
  {
   "cell_type": "code",
   "execution_count": 112,
   "metadata": {},
   "outputs": [
    {
     "data": {
      "text/plain": [
       "<AxesSubplot:title={'center':'Distribution of Final Cumuluative Returns Across All 500 Simulations'}, ylabel='Frequency'>"
      ]
     },
     "execution_count": 112,
     "metadata": {},
     "output_type": "execute_result"
    },
    {
     "data": {
      "image/png": "[encoded data removed]",
      "text/plain": [
       "<Figure size 432x288 with 1 Axes>"
      ]
     },
     "metadata": {
      "needs_background": "light"
     },
     "output_type": "display_data"
    }
   ],
   "source": [
    "# Visualize the probability distribution of the 30-year Monte Carlo simulation \n",
    "# by plotting a histogram\n",
    "thirty_year_simulation.plot_distribution()"
   ]
  },
  {
   "cell_type": "markdown",
   "metadata": {},
   "source": [
    "#### Step 4: Generate the summary statistics for the Monte Carlo simulation."
   ]
  },
  {
   "cell_type": "code",
   "execution_count": 114,
   "metadata": {},
   "outputs": [
    {
     "name": "stdout",
     "output_type": "stream",
     "text": [
      "count           500.000000\n",
      "mean              5.122285\n",
      "std               2.243484\n",
      "min               1.497556\n",
      "25%               3.572465\n",
      "50%               4.627382\n",
      "75%               6.274112\n",
      "max              16.783982\n",
      "95% CI Lower      2.035626\n",
      "95% CI Upper     10.218414\n",
      "Name: 7560, dtype: float64\n"
     ]
    }
   ],
   "source": [
    "# Generate summary statistics from the 30-year Monte Carlo simulation results\n",
    "# Save the results as a variable\n",
    "thirty_year_simulation_statistics = thirty_year_simulation.summarize_cumulative_return()\n",
    "\n",
    "# Review the 30-year Monte Carlo summary statistics\n",
    "print(thirty_year_simulation_statistics)"
   ]
  },
  {
   "cell_type": "markdown",
   "metadata": {},
   "source": [
    "### Analyze the Retirement Portfolio Forecasts\n",
    "\n",
    "Using the current value of only the stock and bond portion of the member's portfolio and the summary statistics that you generated from the Monte Carlo simulation, answer the following question in your Jupyter notebook:\n",
    "\n",
    "-  What are the lower and upper bounds for the expected value of the portfolio with a 95% confidence interval?\n"
   ]
  },
  {
   "cell_type": "code",
   "execution_count": 117,
   "metadata": {},
   "outputs": [
    {
     "name": "stdout",
     "output_type": "stream",
     "text": [
      "The latest value for the bond portfolio is: $23464.0\n",
      "The latest value for the stock portfolio is: $40720.9\n",
      "The total value of the member's saving portfolio including stocks and bonds are: $64184.9\n"
     ]
    }
   ],
   "source": [
    "# Print the current balance of the stock and bond portion of the members portfolio\n",
    "\n",
    "print(f\"The latest value for the bond portfolio is: ${agg_value}\")\n",
    "print(f\"The latest value for the stock portfolio is: ${spy_value}\")\n",
    "print(f\"The total value of the member's saving portfolio including stocks and bonds are: ${agg_value + spy_value}\")\n"
   ]
  },
  {
   "cell_type": "code",
   "execution_count": 126,
   "metadata": {},
   "outputs": [
    {
     "name": "stdout",
     "output_type": "stream",
     "text": [
      "There is a 95% chance that an initial investment of $64184.9 in the portfolio over the next 30 years will end within in the range of $ 130656.43 and $ 655867.85.\n"
     ]
    }
   ],
   "source": [
    "# Use the lower and upper `95%` confidence intervals to calculate the range of the possible outcomes for the current stock/bond portfolio\n",
    "ci_lower_thirty_cumulative_return = thirty_year_simulation_statistics[8]*(agg_value + spy_value)\n",
    "ci_upper_thirty_cumulative_return = thirty_year_simulation_statistics[9]*(agg_value + spy_value)\n",
    "\n",
    "# Print the result of your calculations      \n",
    "print(f\"There is a 95% chance that an initial investment of ${agg_value + spy_value} in the portfolio\"\n",
    "      f\" over the next 30 years will end within in the range of\"\n",
    "      f\" ${ci_lower_thirty_cumulative_return: .2f} and ${ci_upper_thirty_cumulative_return: .2f}.\")"
   ]
  },
  {
   "cell_type": "markdown",
   "metadata": {},
   "source": [
    "### Forecast Cumulative Returns in 10 Years\n",
    "\n",
    "The CTO of the credit union is impressed with your work on these planning tools but wonders if 30 years is a long time to wait until retirement. So, your next task is to adjust the retirement portfolio and run a new Monte Carlo simulation to find out if the changes will allow members to retire earlier.\n",
    "\n",
    "For this new Monte Carlo simulation, do the following: \n",
    "\n",
    "- Forecast the cumulative returns for 10 years from now. Because of the shortened investment horizon (30 years to 10 years), the portfolio needs to invest more heavily in the riskier asset&mdash;that is, stock&mdash;to help accumulate wealth for retirement. \n",
    "\n",
    "- Adjust the weights of the retirement portfolio so that the composition for the Monte Carlo simulation consists of 20% bonds and 80% stocks. \n",
    "\n",
    "- Run the simulation over 500 samples, and use the same data that the API call to Alpaca generated.\n",
    "\n",
    "- Based on the new Monte Carlo simulation, answer the following questions in your Jupyter notebook:\n",
    "\n",
    "    - Using the current value of only the stock and bond portion of the member's portfolio and the summary statistics that you generated from the new Monte Carlo simulation, what are the lower and upper bounds for the expected value of the portfolio (with the new weights) with a 95% confidence interval?\n",
    "\n",
    "    - Will weighting the portfolio more heavily toward stocks allow the credit union members to retire after only 10 years?\n"
   ]
  },
  {
   "cell_type": "code",
   "execution_count": 129,
   "metadata": {},
   "outputs": [
    {
     "data": {
      "text/html": [
       "<div>\n",
       "<style scoped>\n",
       "    .dataframe tbody tr th:only-of-type {\n",
       "        vertical-align: middle;\n",
       "    }\n",
       "\n",
       "    .dataframe tbody tr th {\n",
       "        vertical-align: top;\n",
       "    }\n",
       "\n",
       "    .dataframe thead tr th {\n",
       "        text-align: left;\n",
       "    }\n",
       "\n",
       "    .dataframe thead tr:last-of-type th {\n",
       "        text-align: right;\n",
       "    }\n",
       "</style>\n",
       "<table border=\"1\" class=\"dataframe\">\n",
       "  <thead>\n",
       "    <tr>\n",
       "      <th></th>\n",
       "      <th colspan=\"6\" halign=\"left\">AGG</th>\n",
       "      <th colspan=\"6\" halign=\"left\">SPY</th>\n",
       "    </tr>\n",
       "    <tr>\n",
       "      <th></th>\n",
       "      <th>open</th>\n",
       "      <th>high</th>\n",
       "      <th>low</th>\n",
       "      <th>close</th>\n",
       "      <th>volume</th>\n",
       "      <th>daily_return</th>\n",
       "      <th>open</th>\n",
       "      <th>high</th>\n",
       "      <th>low</th>\n",
       "      <th>close</th>\n",
       "      <th>volume</th>\n",
       "      <th>daily_return</th>\n",
       "    </tr>\n",
       "    <tr>\n",
       "      <th>time</th>\n",
       "      <th></th>\n",
       "      <th></th>\n",
       "      <th></th>\n",
       "      <th></th>\n",
       "      <th></th>\n",
       "      <th></th>\n",
       "      <th></th>\n",
       "      <th></th>\n",
       "      <th></th>\n",
       "      <th></th>\n",
       "      <th></th>\n",
       "      <th></th>\n",
       "    </tr>\n",
       "  </thead>\n",
       "  <tbody>\n",
       "    <tr>\n",
       "      <th>2011-02-02 00:00:00-05:00</th>\n",
       "      <td>105.15</td>\n",
       "      <td>105.230</td>\n",
       "      <td>104.88</td>\n",
       "      <td>105.00</td>\n",
       "      <td>473272</td>\n",
       "      <td>NaN</td>\n",
       "      <td>130.40</td>\n",
       "      <td>130.84</td>\n",
       "      <td>130.33</td>\n",
       "      <td>130.47</td>\n",
       "      <td>97820942</td>\n",
       "      <td>NaN</td>\n",
       "    </tr>\n",
       "    <tr>\n",
       "      <th>2011-02-03 00:00:00-05:00</th>\n",
       "      <td>104.79</td>\n",
       "      <td>104.871</td>\n",
       "      <td>104.61</td>\n",
       "      <td>104.62</td>\n",
       "      <td>838703</td>\n",
       "      <td>-0.003619</td>\n",
       "      <td>130.26</td>\n",
       "      <td>130.98</td>\n",
       "      <td>129.57</td>\n",
       "      <td>130.78</td>\n",
       "      <td>122274669</td>\n",
       "      <td>0.002376</td>\n",
       "    </tr>\n",
       "    <tr>\n",
       "      <th>2011-02-04 00:00:00-05:00</th>\n",
       "      <td>104.51</td>\n",
       "      <td>104.630</td>\n",
       "      <td>104.20</td>\n",
       "      <td>104.25</td>\n",
       "      <td>1090269</td>\n",
       "      <td>-0.003537</td>\n",
       "      <td>130.83</td>\n",
       "      <td>131.20</td>\n",
       "      <td>130.23</td>\n",
       "      <td>131.15</td>\n",
       "      <td>103598208</td>\n",
       "      <td>0.002829</td>\n",
       "    </tr>\n",
       "    <tr>\n",
       "      <th>2011-02-07 00:00:00-05:00</th>\n",
       "      <td>104.17</td>\n",
       "      <td>104.331</td>\n",
       "      <td>104.11</td>\n",
       "      <td>104.29</td>\n",
       "      <td>569006</td>\n",
       "      <td>0.000384</td>\n",
       "      <td>131.44</td>\n",
       "      <td>132.40</td>\n",
       "      <td>131.43</td>\n",
       "      <td>131.98</td>\n",
       "      <td>90480160</td>\n",
       "      <td>0.006329</td>\n",
       "    </tr>\n",
       "    <tr>\n",
       "      <th>2011-02-08 00:00:00-05:00</th>\n",
       "      <td>104.31</td>\n",
       "      <td>104.320</td>\n",
       "      <td>103.91</td>\n",
       "      <td>103.99</td>\n",
       "      <td>692756</td>\n",
       "      <td>-0.002877</td>\n",
       "      <td>132.10</td>\n",
       "      <td>132.64</td>\n",
       "      <td>131.73</td>\n",
       "      <td>132.59</td>\n",
       "      <td>85774423</td>\n",
       "      <td>0.004622</td>\n",
       "    </tr>\n",
       "  </tbody>\n",
       "</table>\n",
       "</div>"
      ],
      "text/plain": [
       "                              AGG                                    \\\n",
       "                             open     high     low   close   volume   \n",
       "time                                                                  \n",
       "2011-02-02 00:00:00-05:00  105.15  105.230  104.88  105.00   473272   \n",
       "2011-02-03 00:00:00-05:00  104.79  104.871  104.61  104.62   838703   \n",
       "2011-02-04 00:00:00-05:00  104.51  104.630  104.20  104.25  1090269   \n",
       "2011-02-07 00:00:00-05:00  104.17  104.331  104.11  104.29   569006   \n",
       "2011-02-08 00:00:00-05:00  104.31  104.320  103.91  103.99   692756   \n",
       "\n",
       "                                           SPY                          \\\n",
       "                          daily_return    open    high     low   close   \n",
       "time                                                                     \n",
       "2011-02-02 00:00:00-05:00          NaN  130.40  130.84  130.33  130.47   \n",
       "2011-02-03 00:00:00-05:00    -0.003619  130.26  130.98  129.57  130.78   \n",
       "2011-02-04 00:00:00-05:00    -0.003537  130.83  131.20  130.23  131.15   \n",
       "2011-02-07 00:00:00-05:00     0.000384  131.44  132.40  131.43  131.98   \n",
       "2011-02-08 00:00:00-05:00    -0.002877  132.10  132.64  131.73  132.59   \n",
       "\n",
       "                                                   \n",
       "                              volume daily_return  \n",
       "time                                               \n",
       "2011-02-02 00:00:00-05:00   97820942          NaN  \n",
       "2011-02-03 00:00:00-05:00  122274669     0.002376  \n",
       "2011-02-04 00:00:00-05:00  103598208     0.002829  \n",
       "2011-02-07 00:00:00-05:00   90480160     0.006329  \n",
       "2011-02-08 00:00:00-05:00   85774423     0.004622  "
      ]
     },
     "execution_count": 129,
     "metadata": {},
     "output_type": "execute_result"
    }
   ],
   "source": [
    "# Configure a Monte Carlo simulation to forecast 10 years cumulative returns\n",
    "# The weights should be split 20% to AGG and 80% to SPY.\n",
    "# Run 500 samples.\n",
    "\n",
    "ten_year_simulation = MCSimulation(\n",
    "    portfolio_data=df_portfolio,\n",
    "    weights=[0.80, 0.20],\n",
    "    num_simulation=500,\n",
    "    num_trading_days=252*10,\n",
    ")\n",
    "\n",
    "# Review the simulation input data\n",
    "ten_year_simulation.portfolio_data.head()\n"
   ]
  },
  {
   "cell_type": "code",
   "execution_count": 130,
   "metadata": {},
   "outputs": [
    {
     "name": "stdout",
     "output_type": "stream",
     "text": [
      "Running Monte Carlo simulation number 0.\n",
      "Running Monte Carlo simulation number 10.\n",
      "Running Monte Carlo simulation number 20.\n",
      "Running Monte Carlo simulation number 30.\n",
      "Running Monte Carlo simulation number 40.\n",
      "Running Monte Carlo simulation number 50.\n",
      "Running Monte Carlo simulation number 60.\n",
      "Running Monte Carlo simulation number 70.\n",
      "Running Monte Carlo simulation number 80.\n",
      "Running Monte Carlo simulation number 90.\n",
      "Running Monte Carlo simulation number 100.\n",
      "Running Monte Carlo simulation number 110.\n",
      "Running Monte Carlo simulation number 120.\n",
      "Running Monte Carlo simulation number 130.\n",
      "Running Monte Carlo simulation number 140.\n",
      "Running Monte Carlo simulation number 150.\n",
      "Running Monte Carlo simulation number 160.\n",
      "Running Monte Carlo simulation number 170.\n",
      "Running Monte Carlo simulation number 180.\n",
      "Running Monte Carlo simulation number 190.\n",
      "Running Monte Carlo simulation number 200.\n",
      "Running Monte Carlo simulation number 210.\n",
      "Running Monte Carlo simulation number 220.\n",
      "Running Monte Carlo simulation number 230.\n",
      "Running Monte Carlo simulation number 240.\n",
      "Running Monte Carlo simulation number 250.\n",
      "Running Monte Carlo simulation number 260.\n",
      "Running Monte Carlo simulation number 270.\n",
      "Running Monte Carlo simulation number 280.\n",
      "Running Monte Carlo simulation number 290.\n",
      "Running Monte Carlo simulation number 300.\n",
      "Running Monte Carlo simulation number 310.\n",
      "Running Monte Carlo simulation number 320.\n",
      "Running Monte Carlo simulation number 330.\n",
      "Running Monte Carlo simulation number 340.\n",
      "Running Monte Carlo simulation number 350.\n",
      "Running Monte Carlo simulation number 360.\n",
      "Running Monte Carlo simulation number 370.\n",
      "Running Monte Carlo simulation number 380.\n",
      "Running Monte Carlo simulation number 390.\n",
      "Running Monte Carlo simulation number 400.\n",
      "Running Monte Carlo simulation number 410.\n",
      "Running Monte Carlo simulation number 420.\n",
      "Running Monte Carlo simulation number 430.\n",
      "Running Monte Carlo simulation number 440.\n",
      "Running Monte Carlo simulation number 450.\n",
      "Running Monte Carlo simulation number 460.\n",
      "Running Monte Carlo simulation number 470.\n",
      "Running Monte Carlo simulation number 480.\n",
      "Running Monte Carlo simulation number 490.\n"
     ]
    },
    {
     "data": {
      "text/html": [
       "<div>\n",
       "<style scoped>\n",
       "    .dataframe tbody tr th:only-of-type {\n",
       "        vertical-align: middle;\n",
       "    }\n",
       "\n",
       "    .dataframe tbody tr th {\n",
       "        vertical-align: top;\n",
       "    }\n",
       "\n",
       "    .dataframe thead th {\n",
       "        text-align: right;\n",
       "    }\n",
       "</style>\n",
       "<table border=\"1\" class=\"dataframe\">\n",
       "  <thead>\n",
       "    <tr style=\"text-align: right;\">\n",
       "      <th></th>\n",
       "      <th>0</th>\n",
       "      <th>1</th>\n",
       "      <th>2</th>\n",
       "      <th>3</th>\n",
       "      <th>4</th>\n",
       "      <th>5</th>\n",
       "      <th>6</th>\n",
       "      <th>7</th>\n",
       "      <th>8</th>\n",
       "      <th>9</th>\n",
       "      <th>...</th>\n",
       "      <th>490</th>\n",
       "      <th>491</th>\n",
       "      <th>492</th>\n",
       "      <th>493</th>\n",
       "      <th>494</th>\n",
       "      <th>495</th>\n",
       "      <th>496</th>\n",
       "      <th>497</th>\n",
       "      <th>498</th>\n",
       "      <th>499</th>\n",
       "    </tr>\n",
       "  </thead>\n",
       "  <tbody>\n",
       "    <tr>\n",
       "      <th>0</th>\n",
       "      <td>1.000000</td>\n",
       "      <td>1.000000</td>\n",
       "      <td>1.000000</td>\n",
       "      <td>1.000000</td>\n",
       "      <td>1.000000</td>\n",
       "      <td>1.000000</td>\n",
       "      <td>1.000000</td>\n",
       "      <td>1.000000</td>\n",
       "      <td>1.000000</td>\n",
       "      <td>1.000000</td>\n",
       "      <td>...</td>\n",
       "      <td>1.000000</td>\n",
       "      <td>1.000000</td>\n",
       "      <td>1.000000</td>\n",
       "      <td>1.000000</td>\n",
       "      <td>1.000000</td>\n",
       "      <td>1.000000</td>\n",
       "      <td>1.000000</td>\n",
       "      <td>1.000000</td>\n",
       "      <td>1.000000</td>\n",
       "      <td>1.000000</td>\n",
       "    </tr>\n",
       "    <tr>\n",
       "      <th>1</th>\n",
       "      <td>0.993584</td>\n",
       "      <td>0.994963</td>\n",
       "      <td>1.004174</td>\n",
       "      <td>1.002443</td>\n",
       "      <td>0.998253</td>\n",
       "      <td>0.997536</td>\n",
       "      <td>1.001181</td>\n",
       "      <td>0.996793</td>\n",
       "      <td>1.001650</td>\n",
       "      <td>1.001947</td>\n",
       "      <td>...</td>\n",
       "      <td>1.004068</td>\n",
       "      <td>0.996948</td>\n",
       "      <td>0.998733</td>\n",
       "      <td>1.000313</td>\n",
       "      <td>1.002936</td>\n",
       "      <td>0.999983</td>\n",
       "      <td>1.002514</td>\n",
       "      <td>0.999240</td>\n",
       "      <td>1.001329</td>\n",
       "      <td>0.999359</td>\n",
       "    </tr>\n",
       "    <tr>\n",
       "      <th>2</th>\n",
       "      <td>0.996840</td>\n",
       "      <td>0.991945</td>\n",
       "      <td>1.003699</td>\n",
       "      <td>1.007141</td>\n",
       "      <td>0.999202</td>\n",
       "      <td>0.997207</td>\n",
       "      <td>1.004159</td>\n",
       "      <td>0.998970</td>\n",
       "      <td>1.001771</td>\n",
       "      <td>1.004632</td>\n",
       "      <td>...</td>\n",
       "      <td>1.008969</td>\n",
       "      <td>0.998805</td>\n",
       "      <td>0.997023</td>\n",
       "      <td>0.996248</td>\n",
       "      <td>1.003514</td>\n",
       "      <td>0.998566</td>\n",
       "      <td>1.000676</td>\n",
       "      <td>0.999564</td>\n",
       "      <td>1.002269</td>\n",
       "      <td>0.997362</td>\n",
       "    </tr>\n",
       "    <tr>\n",
       "      <th>3</th>\n",
       "      <td>1.000343</td>\n",
       "      <td>0.985074</td>\n",
       "      <td>1.002432</td>\n",
       "      <td>1.007717</td>\n",
       "      <td>1.004289</td>\n",
       "      <td>0.998617</td>\n",
       "      <td>1.003916</td>\n",
       "      <td>0.996015</td>\n",
       "      <td>1.001814</td>\n",
       "      <td>1.007828</td>\n",
       "      <td>...</td>\n",
       "      <td>1.007707</td>\n",
       "      <td>0.999209</td>\n",
       "      <td>0.996955</td>\n",
       "      <td>0.994213</td>\n",
       "      <td>1.003431</td>\n",
       "      <td>1.002864</td>\n",
       "      <td>0.999720</td>\n",
       "      <td>0.997414</td>\n",
       "      <td>1.000989</td>\n",
       "      <td>0.999086</td>\n",
       "    </tr>\n",
       "    <tr>\n",
       "      <th>4</th>\n",
       "      <td>0.999678</td>\n",
       "      <td>0.987152</td>\n",
       "      <td>1.002054</td>\n",
       "      <td>1.003140</td>\n",
       "      <td>1.007138</td>\n",
       "      <td>0.999764</td>\n",
       "      <td>1.004206</td>\n",
       "      <td>0.997328</td>\n",
       "      <td>0.996551</td>\n",
       "      <td>1.005459</td>\n",
       "      <td>...</td>\n",
       "      <td>1.003724</td>\n",
       "      <td>0.996812</td>\n",
       "      <td>1.002843</td>\n",
       "      <td>0.997851</td>\n",
       "      <td>1.004781</td>\n",
       "      <td>1.001035</td>\n",
       "      <td>0.997621</td>\n",
       "      <td>0.998293</td>\n",
       "      <td>1.002528</td>\n",
       "      <td>0.996727</td>\n",
       "    </tr>\n",
       "    <tr>\n",
       "      <th>...</th>\n",
       "      <td>...</td>\n",
       "      <td>...</td>\n",
       "      <td>...</td>\n",
       "      <td>...</td>\n",
       "      <td>...</td>\n",
       "      <td>...</td>\n",
       "      <td>...</td>\n",
       "      <td>...</td>\n",
       "      <td>...</td>\n",
       "      <td>...</td>\n",
       "      <td>...</td>\n",
       "      <td>...</td>\n",
       "      <td>...</td>\n",
       "      <td>...</td>\n",
       "      <td>...</td>\n",
       "      <td>...</td>\n",
       "      <td>...</td>\n",
       "      <td>...</td>\n",
       "      <td>...</td>\n",
       "      <td>...</td>\n",
       "      <td>...</td>\n",
       "    </tr>\n",
       "    <tr>\n",
       "      <th>2516</th>\n",
       "      <td>1.125741</td>\n",
       "      <td>1.186281</td>\n",
       "      <td>0.999944</td>\n",
       "      <td>1.582850</td>\n",
       "      <td>1.663274</td>\n",
       "      <td>1.465624</td>\n",
       "      <td>1.388839</td>\n",
       "      <td>1.487840</td>\n",
       "      <td>1.691589</td>\n",
       "      <td>1.636844</td>\n",
       "      <td>...</td>\n",
       "      <td>1.963964</td>\n",
       "      <td>1.535021</td>\n",
       "      <td>0.972199</td>\n",
       "      <td>1.490310</td>\n",
       "      <td>1.231836</td>\n",
       "      <td>1.903251</td>\n",
       "      <td>1.559712</td>\n",
       "      <td>1.562698</td>\n",
       "      <td>1.263811</td>\n",
       "      <td>1.039345</td>\n",
       "    </tr>\n",
       "    <tr>\n",
       "      <th>2517</th>\n",
       "      <td>1.127427</td>\n",
       "      <td>1.192377</td>\n",
       "      <td>0.997715</td>\n",
       "      <td>1.584838</td>\n",
       "      <td>1.665349</td>\n",
       "      <td>1.465435</td>\n",
       "      <td>1.390768</td>\n",
       "      <td>1.489421</td>\n",
       "      <td>1.691727</td>\n",
       "      <td>1.636904</td>\n",
       "      <td>...</td>\n",
       "      <td>1.967821</td>\n",
       "      <td>1.524226</td>\n",
       "      <td>0.970231</td>\n",
       "      <td>1.490474</td>\n",
       "      <td>1.240729</td>\n",
       "      <td>1.910127</td>\n",
       "      <td>1.559282</td>\n",
       "      <td>1.559437</td>\n",
       "      <td>1.262660</td>\n",
       "      <td>1.036942</td>\n",
       "    </tr>\n",
       "    <tr>\n",
       "      <th>2518</th>\n",
       "      <td>1.125343</td>\n",
       "      <td>1.188502</td>\n",
       "      <td>0.989440</td>\n",
       "      <td>1.583585</td>\n",
       "      <td>1.664616</td>\n",
       "      <td>1.460618</td>\n",
       "      <td>1.380976</td>\n",
       "      <td>1.488261</td>\n",
       "      <td>1.686228</td>\n",
       "      <td>1.630802</td>\n",
       "      <td>...</td>\n",
       "      <td>1.966818</td>\n",
       "      <td>1.536933</td>\n",
       "      <td>0.975725</td>\n",
       "      <td>1.489694</td>\n",
       "      <td>1.243521</td>\n",
       "      <td>1.902166</td>\n",
       "      <td>1.560458</td>\n",
       "      <td>1.557370</td>\n",
       "      <td>1.267342</td>\n",
       "      <td>1.038584</td>\n",
       "    </tr>\n",
       "    <tr>\n",
       "      <th>2519</th>\n",
       "      <td>1.126860</td>\n",
       "      <td>1.183153</td>\n",
       "      <td>0.987902</td>\n",
       "      <td>1.589601</td>\n",
       "      <td>1.671970</td>\n",
       "      <td>1.453194</td>\n",
       "      <td>1.378904</td>\n",
       "      <td>1.489390</td>\n",
       "      <td>1.684479</td>\n",
       "      <td>1.636626</td>\n",
       "      <td>...</td>\n",
       "      <td>1.967526</td>\n",
       "      <td>1.534289</td>\n",
       "      <td>0.974792</td>\n",
       "      <td>1.489767</td>\n",
       "      <td>1.243182</td>\n",
       "      <td>1.891592</td>\n",
       "      <td>1.555627</td>\n",
       "      <td>1.555713</td>\n",
       "      <td>1.263706</td>\n",
       "      <td>1.044823</td>\n",
       "    </tr>\n",
       "    <tr>\n",
       "      <th>2520</th>\n",
       "      <td>1.123683</td>\n",
       "      <td>1.184889</td>\n",
       "      <td>0.989143</td>\n",
       "      <td>1.584128</td>\n",
       "      <td>1.667409</td>\n",
       "      <td>1.452609</td>\n",
       "      <td>1.379156</td>\n",
       "      <td>1.487177</td>\n",
       "      <td>1.677781</td>\n",
       "      <td>1.634657</td>\n",
       "      <td>...</td>\n",
       "      <td>1.969278</td>\n",
       "      <td>1.538325</td>\n",
       "      <td>0.974168</td>\n",
       "      <td>1.492088</td>\n",
       "      <td>1.235645</td>\n",
       "      <td>1.895261</td>\n",
       "      <td>1.562912</td>\n",
       "      <td>1.556637</td>\n",
       "      <td>1.259565</td>\n",
       "      <td>1.047572</td>\n",
       "    </tr>\n",
       "  </tbody>\n",
       "</table>\n",
       "<p>2521 rows × 500 columns</p>\n",
       "</div>"
      ],
      "text/plain": [
       "           0         1         2         3         4         5         6    \\\n",
       "0     1.000000  1.000000  1.000000  1.000000  1.000000  1.000000  1.000000   \n",
       "1     0.993584  0.994963  1.004174  1.002443  0.998253  0.997536  1.001181   \n",
       "2     0.996840  0.991945  1.003699  1.007141  0.999202  0.997207  1.004159   \n",
       "3     1.000343  0.985074  1.002432  1.007717  1.004289  0.998617  1.003916   \n",
       "4     0.999678  0.987152  1.002054  1.003140  1.007138  0.999764  1.004206   \n",
       "...        ...       ...       ...       ...       ...       ...       ...   \n",
       "2516  1.125741  1.186281  0.999944  1.582850  1.663274  1.465624  1.388839   \n",
       "2517  1.127427  1.192377  0.997715  1.584838  1.665349  1.465435  1.390768   \n",
       "2518  1.125343  1.188502  0.989440  1.583585  1.664616  1.460618  1.380976   \n",
       "2519  1.126860  1.183153  0.987902  1.589601  1.671970  1.453194  1.378904   \n",
       "2520  1.123683  1.184889  0.989143  1.584128  1.667409  1.452609  1.379156   \n",
       "\n",
       "           7         8         9    ...       490       491       492  \\\n",
       "0     1.000000  1.000000  1.000000  ...  1.000000  1.000000  1.000000   \n",
       "1     0.996793  1.001650  1.001947  ...  1.004068  0.996948  0.998733   \n",
       "2     0.998970  1.001771  1.004632  ...  1.008969  0.998805  0.997023   \n",
       "3     0.996015  1.001814  1.007828  ...  1.007707  0.999209  0.996955   \n",
       "4     0.997328  0.996551  1.005459  ...  1.003724  0.996812  1.002843   \n",
       "...        ...       ...       ...  ...       ...       ...       ...   \n",
       "2516  1.487840  1.691589  1.636844  ...  1.963964  1.535021  0.972199   \n",
       "2517  1.489421  1.691727  1.636904  ...  1.967821  1.524226  0.970231   \n",
       "2518  1.488261  1.686228  1.630802  ...  1.966818  1.536933  0.975725   \n",
       "2519  1.489390  1.684479  1.636626  ...  1.967526  1.534289  0.974792   \n",
       "2520  1.487177  1.677781  1.634657  ...  1.969278  1.538325  0.974168   \n",
       "\n",
       "           493       494       495       496       497       498       499  \n",
       "0     1.000000  1.000000  1.000000  1.000000  1.000000  1.000000  1.000000  \n",
       "1     1.000313  1.002936  0.999983  1.002514  0.999240  1.001329  0.999359  \n",
       "2     0.996248  1.003514  0.998566  1.000676  0.999564  1.002269  0.997362  \n",
       "3     0.994213  1.003431  1.002864  0.999720  0.997414  1.000989  0.999086  \n",
       "4     0.997851  1.004781  1.001035  0.997621  0.998293  1.002528  0.996727  \n",
       "...        ...       ...       ...       ...       ...       ...       ...  \n",
       "2516  1.490310  1.231836  1.903251  1.559712  1.562698  1.263811  1.039345  \n",
       "2517  1.490474  1.240729  1.910127  1.559282  1.559437  1.262660  1.036942  \n",
       "2518  1.489694  1.243521  1.902166  1.560458  1.557370  1.267342  1.038584  \n",
       "2519  1.489767  1.243182  1.891592  1.555627  1.555713  1.263706  1.044823  \n",
       "2520  1.492088  1.235645  1.895261  1.562912  1.556637  1.259565  1.047572  \n",
       "\n",
       "[2521 rows x 500 columns]"
      ]
     },
     "execution_count": 130,
     "metadata": {},
     "output_type": "execute_result"
    }
   ],
   "source": [
    "# Run the Monte Carlo simulation to forecast 10 years cumulative returns\n",
    "ten_year_simulation.calc_cumulative_return()\n"
   ]
  },
  {
   "cell_type": "code",
   "execution_count": 131,
   "metadata": {},
   "outputs": [
    {
     "data": {
      "text/plain": [
       "<AxesSubplot:title={'center':'500 Simulations of Cumulative Portfolio Return Trajectories Over the Next 2520 Trading Days.'}>"
      ]
     },
     "execution_count": 131,
     "metadata": {},
     "output_type": "execute_result"
    },
    {
     "data": {
      "image/png": "[encoded data removed]",
      "text/plain": [
       "<Figure size 432x288 with 1 Axes>"
      ]
     },
     "metadata": {
      "needs_background": "light"
     },
     "output_type": "display_data"
    }
   ],
   "source": [
    "# Visualize the 10-year Monte Carlo simulation by creating an\n",
    "# overlay line plot\n",
    "ten_year_simulation.plot_simulation()"
   ]
  },
  {
   "cell_type": "code",
   "execution_count": 132,
   "metadata": {},
   "outputs": [
    {
     "data": {
      "text/plain": [
       "<AxesSubplot:title={'center':'Distribution of Final Cumuluative Returns Across All 500 Simulations'}, ylabel='Frequency'>"
      ]
     },
     "execution_count": 132,
     "metadata": {},
     "output_type": "execute_result"
    },
    {
     "data": {
      "image/png": "[encoded data removed]",
      "text/plain": [
       "<Figure size 432x288 with 1 Axes>"
      ]
     },
     "metadata": {
      "needs_background": "light"
     },
     "output_type": "display_data"
    }
   ],
   "source": [
    "# Visualize the probability distribution of the 10-year Monte Carlo simulation \n",
    "# by plotting a histogram\n",
    "ten_year_simulation.plot_distribution()"
   ]
  },
  {
   "cell_type": "code",
   "execution_count": 133,
   "metadata": {},
   "outputs": [
    {
     "name": "stdout",
     "output_type": "stream",
     "text": [
      "count           500.000000\n",
      "mean              1.387669\n",
      "std               0.216509\n",
      "min               0.808087\n",
      "25%               1.233639\n",
      "50%               1.379476\n",
      "75%               1.519537\n",
      "max               2.427583\n",
      "95% CI Lower      1.010321\n",
      "95% CI Upper      1.848554\n",
      "Name: 2520, dtype: float64\n"
     ]
    }
   ],
   "source": [
    "# Generate summary statistics from the 10-year Monte Carlo simulation results\n",
    "# Save the results as a variable\n",
    "ten_year_simulation_statistics = ten_year_simulation.summarize_cumulative_return()\n",
    "\n",
    "# Review the 10-year Monte Carlo summary statistics\n",
    "print(ten_year_simulation_statistics)"
   ]
  },
  {
   "cell_type": "markdown",
   "metadata": {},
   "source": [
    "### Answer the following questions:"
   ]
  },
  {
   "cell_type": "markdown",
   "metadata": {},
   "source": [
    "#### Question: Using the current value of only the stock and bond portion of the member's portfolio and the summary statistics that you generated from the new Monte Carlo simulation, what are the lower and upper bounds for the expected value of the portfolio (with the new weights) with a 95% confidence interval?"
   ]
  },
  {
   "cell_type": "code",
   "execution_count": null,
   "metadata": {},
   "outputs": [],
   "source": [
    "# Print the current balance of the stock and bond portion of the members portfolio\n",
    "# YOUR CODE HERE\n"
   ]
  },
  {
   "cell_type": "code",
   "execution_count": 134,
   "metadata": {},
   "outputs": [
    {
     "name": "stdout",
     "output_type": "stream",
     "text": [
      "There is a 95% chance that an initial investment of $64184.9 in the portfolio over the next 10 years will end within in the range of $ 64847.38 and $ 118649.27.\n"
     ]
    }
   ],
   "source": [
    "# Use the lower and upper `95%` confidence intervals to calculate the range of the possible outcomes for the current stock/bond portfolio\n",
    "ci_lower_ten_cumulative_return = ten_year_simulation_statistics[8]*(agg_value + spy_value)\n",
    "ci_upper_ten_cumulative_return = ten_year_simulation_statistics[9]*(agg_value + spy_value)\n",
    "\n",
    "# Print the result of your calculations\n",
    "print(f\"There is a 95% chance that an initial investment of ${agg_value + spy_value} in the portfolio\"\n",
    "      f\" over the next 10 years will end within in the range of\"\n",
    "      f\" ${ci_lower_ten_cumulative_return: .2f} and ${ci_upper_ten_cumulative_return: .2f}.\")\n"
   ]
  },
  {
   "cell_type": "markdown",
   "metadata": {},
   "source": [
    "#### Question: Will weighting the portfolio more heavily to stocks allow the credit union members to retire after only 10 years?"
   ]
  },
  {
   "cell_type": "raw",
   "metadata": {},
   "source": [
    "**Answer** # YOUR ANSWER HERE"
   ]
  },
  {
   "cell_type": "code",
   "execution_count": null,
   "metadata": {},
   "outputs": [],
   "source": []
  }
 ],
 "metadata": {
  "kernelspec": {
   "display_name": "dev",
   "language": "python",
   "name": "dev"
  },
  "language_info": {
   "codemirror_mode": {
    "name": "ipython",
    "version": 3
   },
   "file_extension": ".py",
   "mimetype": "text/x-python",
   "name": "python",
   "nbconvert_exporter": "python",
   "pygments_lexer": "ipython3",
   "version": "3.7.9"
  }
 },
 "nbformat": 4,
 "nbformat_minor": 4
}
