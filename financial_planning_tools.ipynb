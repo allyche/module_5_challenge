{
 "cells": [
  {
   "cell_type": "markdown",
   "metadata": {},
   "source": [
    "# Financial Planning with APIs and Simulations\n",
    "\n",
    "In this Challenge, you’ll create two financial analysis tools by using a single Jupyter notebook:\n",
    "\n",
    "Part 1: A financial planner for emergencies. The members will be able to use this tool to visualize their current savings. The members can then determine if they have enough reserves for an emergency fund.\n",
    "\n",
    "Part 2: A financial planner for retirement. This tool will forecast the performance of their retirement portfolio in 30 years. To do this, the tool will make an Alpaca API call via the Alpaca SDK to get historical price data for use in Monte Carlo simulations.\n",
    "\n",
    "You’ll use the information from the Monte Carlo simulation to answer questions about the portfolio in your Jupyter notebook.\n",
    "\n"
   ]
  },
  {
   "cell_type": "code",
   "execution_count": 2,
   "metadata": {},
   "outputs": [],
   "source": [
    "# Import the required libraries and dependencies\n",
    "import os\n",
    "import requests\n",
    "import json\n",
    "import pandas as pd\n",
    "from dotenv import load_dotenv\n",
    "import alpaca_trade_api as tradeapi\n",
    "from MCForecastTools import MCSimulation\n",
    "import datetime\n",
    "%matplotlib inline"
   ]
  },
  {
   "cell_type": "code",
   "execution_count": 3,
   "metadata": {},
   "outputs": [
    {
     "data": {
      "text/plain": [
       "True"
      ]
     },
     "execution_count": 3,
     "metadata": {},
     "output_type": "execute_result"
    }
   ],
   "source": [
    "# Load the environment variables from the .env file\n",
    "#by calling the load_dotenv function\n",
    "load_dotenv()"
   ]
  },
  {
   "cell_type": "markdown",
   "metadata": {},
   "source": [
    "## Part 1: Create a Financial Planner for Emergencies"
   ]
  },
  {
   "cell_type": "markdown",
   "metadata": {},
   "source": [
    "### Evaluate the Cryptocurrency Wallet by Using the Requests Library\n",
    "\n",
    "In this section, you’ll determine the current value of a member’s cryptocurrency wallet. You’ll collect the current prices for the Bitcoin and Ethereum cryptocurrencies by using the Python Requests library. For the prototype, you’ll assume that the member holds the 1.2 Bitcoins (BTC) and 5.3 Ethereum coins (ETH). To do all this, complete the following steps:\n",
    "\n",
    "1. Create a variable named `monthly_income`, and set its value to `12000`.\n",
    "\n",
    "2. Use the Requests library to get the current price (in US dollars) of Bitcoin (BTC) and Ethereum (ETH) by using the API endpoints that the starter code supplies.\n",
    "\n",
    "3. Navigate the JSON response object to access the current price of each coin, and store each in a variable.\n",
    "\n",
    "    > **Hint** Note the specific identifier for each cryptocurrency in the API JSON response. The Bitcoin identifier is `1`, and the Ethereum identifier is `1027`.\n",
    "\n",
    "4. Calculate the value, in US dollars, of the current amount of each cryptocurrency and of the entire cryptocurrency wallet.\n",
    "\n"
   ]
  },
  {
   "cell_type": "code",
   "execution_count": 4,
   "metadata": {},
   "outputs": [],
   "source": [
    "# The current number of coins for each cryptocurrency asset held in the portfolio.\n",
    "btc_coins = 1.2\n",
    "eth_coins = 5.3"
   ]
  },
  {
   "cell_type": "markdown",
   "metadata": {},
   "source": [
    "#### Step 1: Create a variable named `monthly_income`, and set its value to `12000`."
   ]
  },
  {
   "cell_type": "code",
   "execution_count": 5,
   "metadata": {},
   "outputs": [],
   "source": [
    "# The monthly amount for the member's household income\n",
    "monthly_income = 12000"
   ]
  },
  {
   "cell_type": "markdown",
   "metadata": {},
   "source": [
    "#### Review the endpoint URLs for the API calls to Free Crypto API in order to get the current pricing information for both BTC and ETH."
   ]
  },
  {
   "cell_type": "code",
   "execution_count": 6,
   "metadata": {},
   "outputs": [],
   "source": [
    "# The Free Crypto API Call endpoint URLs for the held cryptocurrency assets\n",
    "btc_url = \"https://api.alternative.me/v2/ticker/Bitcoin/?convert=USD\"\n",
    "eth_url = \"https://api.alternative.me/v2/ticker/Ethereum/?convert=USD\""
   ]
  },
  {
   "cell_type": "markdown",
   "metadata": {},
   "source": [
    "#### Step 2. Use the Requests library to get the current price (in US dollars) of Bitcoin (BTC) and Ethereum (ETH) by using the API endpoints that the starter code supplied."
   ]
  },
  {
   "cell_type": "code",
   "execution_count": 7,
   "metadata": {},
   "outputs": [
    {
     "name": "stdout",
     "output_type": "stream",
     "text": [
      "{\n",
      "    \"data\": {\n",
      "        \"1\": {\n",
      "            \"circulating_supply\": 18616043,\n",
      "            \"id\": 1,\n",
      "            \"last_updated\": 1612154002,\n",
      "            \"max_supply\": 21000000,\n",
      "            \"name\": \"Bitcoin\",\n",
      "            \"quotes\": {\n",
      "                \"USD\": {\n",
      "                    \"market_cap\": 627005571667,\n",
      "                    \"percent_change_1h\": 0.273836452283587,\n",
      "                    \"percent_change_24h\": -0.834504312059397,\n",
      "                    \"percent_change_7d\": 4.10662169860713,\n",
      "                    \"percentage_change_1h\": 0.273836452283587,\n",
      "                    \"percentage_change_24h\": -0.834504312059397,\n",
      "                    \"percentage_change_7d\": 4.10662169860713,\n",
      "                    \"price\": 33599.0,\n",
      "                    \"volume_24h\": 45291767983\n",
      "                }\n",
      "            },\n",
      "            \"rank\": 1,\n",
      "            \"symbol\": \"BTC\",\n",
      "            \"total_supply\": 18616043,\n",
      "            \"website_slug\": \"bitcoin\"\n",
      "        }\n",
      "    },\n",
      "    \"metadata\": {\n",
      "        \"error\": null,\n",
      "        \"num_cryptocurrencies\": 1371,\n",
      "        \"timestamp\": 1612154002\n",
      "    }\n",
      "}\n"
     ]
    }
   ],
   "source": [
    "# Using the Python requests library, make an API call to access the current price of BTC\n",
    "btc_response = requests.get(\"https://api.alternative.me/v2/ticker/Bitcoin/?convert=USD\").json()\n",
    "\n",
    "# Use the json.dumps function to review the response data from the API call\n",
    "# Use the indent and sort_keys parameters to make the response object readable\n",
    "print(json.dumps(btc_response, indent=4, sort_keys=True))\n"
   ]
  },
  {
   "cell_type": "code",
   "execution_count": 8,
   "metadata": {},
   "outputs": [
    {
     "name": "stdout",
     "output_type": "stream",
     "text": [
      "{\n",
      "    \"data\": {\n",
      "        \"1027\": {\n",
      "            \"circulating_supply\": 114486932,\n",
      "            \"id\": 1027,\n",
      "            \"last_updated\": 1612153960,\n",
      "            \"max_supply\": 0,\n",
      "            \"name\": \"Ethereum\",\n",
      "            \"quotes\": {\n",
      "                \"USD\": {\n",
      "                    \"market_cap\": 151582299067,\n",
      "                    \"percent_change_1h\": 0.582993247750673,\n",
      "                    \"percent_change_24h\": -2.73313410777093,\n",
      "                    \"percent_change_7d\": -5.21227545565329,\n",
      "                    \"percentage_change_1h\": 0.582993247750673,\n",
      "                    \"percentage_change_24h\": -2.73313410777093,\n",
      "                    \"percentage_change_7d\": -5.21227545565329,\n",
      "                    \"price\": 1319.96,\n",
      "                    \"volume_24h\": 26351718047\n",
      "                }\n",
      "            },\n",
      "            \"rank\": 2,\n",
      "            \"symbol\": \"ETH\",\n",
      "            \"total_supply\": 114486932,\n",
      "            \"website_slug\": \"ethereum\"\n",
      "        }\n",
      "    },\n",
      "    \"metadata\": {\n",
      "        \"error\": null,\n",
      "        \"num_cryptocurrencies\": 1371,\n",
      "        \"timestamp\": 1612153960\n",
      "    }\n",
      "}\n"
     ]
    }
   ],
   "source": [
    "# Using the Python requests library, make an API call to access the current price ETH\n",
    "eth_response = requests.get(\"https://api.alternative.me/v2/ticker/Ethereum/?convert=USD\").json()\n",
    "\n",
    "# Use the json.dumps function to review the response data from the API call\n",
    "# Use the indent and sort_keys parameters to make the response object readable\n",
    "print(json.dumps(eth_response, indent=4, sort_keys=True))\n"
   ]
  },
  {
   "cell_type": "markdown",
   "metadata": {},
   "source": [
    "#### Step 3: Navigate the JSON response object to access the current price of each coin, and store each in a variable."
   ]
  },
  {
   "cell_type": "code",
   "execution_count": 19,
   "metadata": {},
   "outputs": [
    {
     "name": "stdout",
     "output_type": "stream",
     "text": [
      "The current price for BTC is: US$33599.00.\n"
     ]
    }
   ],
   "source": [
    "# Navigate the BTC response object to access the current price of BTC\n",
    "btc_price = btc_response[\"data\"][\"1\"][\"quotes\"][\"USD\"][\"price\"]\n",
    "\n",
    "# Print the current price of BTC\n",
    "print(f\"The current price for BTC is: US${btc_price:.2f}.\")\n"
   ]
  },
  {
   "cell_type": "code",
   "execution_count": 20,
   "metadata": {},
   "outputs": [
    {
     "name": "stdout",
     "output_type": "stream",
     "text": [
      "The current price for ETH is: US$1319.96.\n"
     ]
    }
   ],
   "source": [
    "# Navigate the BTC response object to access the current price of ETH\n",
    "eth_price = eth_response[\"data\"][\"1027\"][\"quotes\"][\"USD\"][\"price\"]\n",
    "\n",
    "# Print the current price of ETH\n",
    "print(f\"The current price for ETH is: US${eth_price:.2f}.\")"
   ]
  },
  {
   "cell_type": "markdown",
   "metadata": {},
   "source": [
    "### Step 4: Calculate the value, in US dollars, of the current amount of each cryptocurrency and of the entire cryptocurrency wallet."
   ]
  },
  {
   "cell_type": "code",
   "execution_count": 17,
   "metadata": {},
   "outputs": [
    {
     "name": "stdout",
     "output_type": "stream",
     "text": [
      "The current holding for BTC is US$40318.80.\n"
     ]
    }
   ],
   "source": [
    "# Compute the current value of the BTC holding \n",
    "btc_value = btc_coins * btc_price\n",
    "\n",
    "# Print current value of your holding in BTC\n",
    "print(f\"The current holding for BTC is US${btc_value:.2f}.\")\n"
   ]
  },
  {
   "cell_type": "code",
   "execution_count": 18,
   "metadata": {},
   "outputs": [
    {
     "name": "stdout",
     "output_type": "stream",
     "text": [
      "The current holding for ETH is US$6995.79.\n"
     ]
    }
   ],
   "source": [
    "# Compute the current value of the ETH holding \n",
    "eth_value = eth_coins * eth_price\n",
    "\n",
    "# Print current value of your holding in ETH\n",
    "print(f\"The current holding for ETH is US${eth_value:.2f}.\")\n"
   ]
  },
  {
   "cell_type": "code",
   "execution_count": 21,
   "metadata": {},
   "outputs": [
    {
     "name": "stdout",
     "output_type": "stream",
     "text": [
      "Current cryptocurrency wallet balance is US$47314.59.\n"
     ]
    }
   ],
   "source": [
    "# Compute the total value of the cryptocurrency wallet\n",
    "# Add the value of the BTC holding to the value of the ETH holding\n",
    "total_crypto_wallet = btc_value + eth_value\n",
    "\n",
    "# Print current cryptocurrency wallet balance\n",
    "print(f\"Current cryptocurrency wallet balance is US${total_crypto_wallet:.2f}.\")\n"
   ]
  },
  {
   "cell_type": "markdown",
   "metadata": {},
   "source": [
    "### Evaluate the Stock and Bond Holdings by Using the Alpaca SDK\n",
    "\n",
    "In this section, you’ll determine the current value of a member’s stock and bond holdings. You’ll make an API call to Alpaca via the Alpaca SDK to get the current closing prices of the SPDR S&P 500 ETF Trust (ticker: SPY) and of the iShares Core US Aggregate Bond ETF (ticker: AGG). For the prototype, assume that the member holds 110 shares of SPY, which represents the stock portion of their portfolio, and 200 shares of AGG, which represents the bond portion. To do all this, complete the following steps:\n",
    "\n",
    "1. In the `Starter_Code` folder, create an environment file (`.env`) to store the values of your Alpaca API key and Alpaca secret key.\n",
    "\n",
    "2. Set the variables for the Alpaca API and secret keys. Using the Alpaca SDK, create the Alpaca `tradeapi.REST` object. In this object, include the parameters for the Alpaca API key, the secret key, and the version number.\n",
    "\n",
    "3. Set the following parameters for the Alpaca API call:\n",
    "\n",
    "    - `tickers`: Use the tickers for the member’s stock and bond holdings.\n",
    "\n",
    "    - `timeframe`: Use a time frame of one day.\n",
    "\n",
    "    - `start_date` and `end_date`: Use the same date for these parameters, and format them with the date of the previous weekday (or `2020-08-07`). This is because you want the one closing price for the most-recent trading day.\n",
    "\n",
    "4. Get the current closing prices for `SPY` and `AGG` by using the Alpaca `get_barset` function. Format the response as a Pandas DataFrame by including the `df` property at the end of the `get_barset` function.\n",
    "\n",
    "5. Navigating the Alpaca response DataFrame, select the `SPY` and `AGG` closing prices, and store them as variables.\n",
    "\n",
    "6. Calculate the value, in US dollars, of the current amount of shares in each of the stock and bond portions of the portfolio, and print the results.\n"
   ]
  },
  {
   "cell_type": "markdown",
   "metadata": {},
   "source": [
    "#### Review the total number of shares held in both (SPY) and (AGG)."
   ]
  },
  {
   "cell_type": "code",
   "execution_count": 22,
   "metadata": {},
   "outputs": [],
   "source": [
    "# Current amount of shares held in both the stock (SPY) and bond (AGG) portion of the portfolio.\n",
    "spy_shares = 110\n",
    "agg_shares = 200\n"
   ]
  },
  {
   "cell_type": "markdown",
   "metadata": {},
   "source": [
    "#### Step 1: In the `Starter_Code` folder, create an environment file (`.env`) to store the values of your Alpaca API key and Alpaca secret key."
   ]
  },
  {
   "cell_type": "markdown",
   "metadata": {},
   "source": [
    "#### Step 2: Set the variables for the Alpaca API and secret keys. Using the Alpaca SDK, create the Alpaca `tradeapi.REST` object. In this object, include the parameters for the Alpaca API key, the secret key, and the version number."
   ]
  },
  {
   "cell_type": "code",
   "execution_count": 23,
   "metadata": {},
   "outputs": [],
   "source": [
    "# Set the variables for the Alpaca API and secret keys\n",
    "alpaca_api_key = os.getenv(\"ALPACA_API_KEY\")\n",
    "alpaca_secret_key = os.getenv(\"ALPACA_SECRET_KEY\")\n",
    "\n",
    "# Create the Alpaca tradeapi.REST object\n",
    "alpaca = tradeapi.REST(\n",
    "    alpaca_api_key,\n",
    "    alpaca_secret_key,\n",
    "    api_version=\"v2\")\n"
   ]
  },
  {
   "cell_type": "markdown",
   "metadata": {},
   "source": [
    "#### Step 3: Set the following parameters for the Alpaca API call:\n",
    "\n",
    "- `tickers`: Use the tickers for the member’s stock and bond holdings.\n",
    "\n",
    "- `timeframe`: Use a time frame of one day.\n",
    "\n",
    "- `start_date` and `end_date`: Use the same date for these parameters, and format them with the date of the previous weekday (or `2020-08-07`). This is because you want the one closing price for the most-recent trading day.\n"
   ]
  },
  {
   "cell_type": "code",
   "execution_count": 24,
   "metadata": {},
   "outputs": [
    {
     "data": {
      "text/plain": [
       "'2020-01-29T00:00:00-08:00'"
      ]
     },
     "metadata": {},
     "output_type": "display_data"
    },
    {
     "data": {
      "text/plain": [
       "'2020-01-29T00:00:00-08:00'"
      ]
     },
     "metadata": {},
     "output_type": "display_data"
    }
   ],
   "source": [
    "# Set the tickers for both the bond and stock portion of the portfolio\n",
    "tickers = [\"SPY\", \"AGG\"]\n",
    "\n",
    "# Set timeframe to 1D \n",
    "timeframe = \"1D\"\n",
    "\n",
    "# Format current date as ISO format\n",
    "# Set both the start and end date at the date of your prior weekday \n",
    "# This will give you the closing price of the previous trading day\n",
    "# Alternatively you can use a start and end date of 2020-08-07\n",
    "\n",
    "start_date = pd.Timestamp(\"2020-01-29\", tz=\"America/Los_Angeles\").isoformat()\n",
    "end_date = pd.Timestamp(\"2020-01-29\", tz=\"America/Los_Angeles\").isoformat()\n",
    "display(start_date)\n",
    "display(end_date)"
   ]
  },
  {
   "cell_type": "markdown",
   "metadata": {},
   "source": [
    "#### Step 4: Get the current closing prices for `SPY` and `AGG` by using the Alpaca `get_barset` function. Format the response as a Pandas DataFrame by including the `df` property at the end of the `get_barset` function."
   ]
  },
  {
   "cell_type": "code",
   "execution_count": 25,
   "metadata": {},
   "outputs": [
    {
     "data": {
      "text/html": [
       "<div>\n",
       "<style scoped>\n",
       "    .dataframe tbody tr th:only-of-type {\n",
       "        vertical-align: middle;\n",
       "    }\n",
       "\n",
       "    .dataframe tbody tr th {\n",
       "        vertical-align: top;\n",
       "    }\n",
       "\n",
       "    .dataframe thead tr th {\n",
       "        text-align: left;\n",
       "    }\n",
       "\n",
       "    .dataframe thead tr:last-of-type th {\n",
       "        text-align: right;\n",
       "    }\n",
       "</style>\n",
       "<table border=\"1\" class=\"dataframe\">\n",
       "  <thead>\n",
       "    <tr>\n",
       "      <th></th>\n",
       "      <th colspan=\"5\" halign=\"left\">AGG</th>\n",
       "      <th colspan=\"5\" halign=\"left\">SPY</th>\n",
       "    </tr>\n",
       "    <tr>\n",
       "      <th></th>\n",
       "      <th>open</th>\n",
       "      <th>high</th>\n",
       "      <th>low</th>\n",
       "      <th>close</th>\n",
       "      <th>volume</th>\n",
       "      <th>open</th>\n",
       "      <th>high</th>\n",
       "      <th>low</th>\n",
       "      <th>close</th>\n",
       "      <th>volume</th>\n",
       "    </tr>\n",
       "    <tr>\n",
       "      <th>time</th>\n",
       "      <th></th>\n",
       "      <th></th>\n",
       "      <th></th>\n",
       "      <th></th>\n",
       "      <th></th>\n",
       "      <th></th>\n",
       "      <th></th>\n",
       "      <th></th>\n",
       "      <th></th>\n",
       "      <th></th>\n",
       "    </tr>\n",
       "  </thead>\n",
       "  <tbody>\n",
       "    <tr>\n",
       "      <th>2020-01-29 00:00:00-05:00</th>\n",
       "      <td>114.13</td>\n",
       "      <td>114.35</td>\n",
       "      <td>114.1108</td>\n",
       "      <td>114.3</td>\n",
       "      <td>2630910</td>\n",
       "      <td>328.38</td>\n",
       "      <td>328.63</td>\n",
       "      <td>326.4</td>\n",
       "      <td>326.62</td>\n",
       "      <td>41098344</td>\n",
       "    </tr>\n",
       "  </tbody>\n",
       "</table>\n",
       "</div>"
      ],
      "text/plain": [
       "                              AGG                                       SPY  \\\n",
       "                             open    high       low  close   volume    open   \n",
       "time                                                                          \n",
       "2020-01-29 00:00:00-05:00  114.13  114.35  114.1108  114.3  2630910  328.38   \n",
       "\n",
       "                                                            \n",
       "                             high    low   close    volume  \n",
       "time                                                        \n",
       "2020-01-29 00:00:00-05:00  328.63  326.4  326.62  41098344  "
      ]
     },
     "execution_count": 25,
     "metadata": {},
     "output_type": "execute_result"
    }
   ],
   "source": [
    "# Use the Alpaca get_barset function to get current closing prices the portfolio\n",
    "# Be sure to set the `df` property after the function to format the response object as a DataFrame\n",
    "portfolio_df = alpaca.get_barset(\n",
    "    tickers,\n",
    "    timeframe,\n",
    "    start = start_date,\n",
    "    end = end_date\n",
    ").df\n",
    "\n",
    "# Review the first 5 rows of the Alpaca DataFrame\n",
    "portfolio_df.head()"
   ]
  },
  {
   "cell_type": "markdown",
   "metadata": {},
   "source": [
    "#### Step 5: Navigating the Alpaca response DataFrame, select the `SPY` and `AGG` closing prices, and store them as variables."
   ]
  },
  {
   "cell_type": "code",
   "execution_count": 27,
   "metadata": {},
   "outputs": [
    {
     "data": {
      "text/plain": [
       "114.3"
      ]
     },
     "metadata": {},
     "output_type": "display_data"
    },
    {
     "data": {
      "text/plain": [
       "dtype('float64')"
      ]
     },
     "metadata": {},
     "output_type": "display_data"
    }
   ],
   "source": [
    "# Access the closing price for AGG from the Alpaca DataFrame\n",
    "# Converting the value to a floating point number\n",
    "agg_close_price = portfolio_df[\"AGG\"][\"close\"][0]\n",
    "\n",
    "# Print the AGG closing price\n",
    "display(agg_close_price)\n",
    "display(agg_close_price.dtype)\n"
   ]
  },
  {
   "cell_type": "code",
   "execution_count": 28,
   "metadata": {},
   "outputs": [
    {
     "data": {
      "text/plain": [
       "326.62"
      ]
     },
     "metadata": {},
     "output_type": "display_data"
    },
    {
     "data": {
      "text/plain": [
       "dtype('float64')"
      ]
     },
     "metadata": {},
     "output_type": "display_data"
    }
   ],
   "source": [
    "# Access the closing price for SPY from the Alpaca DataFrame\n",
    "# Converting the value to a floating point number\n",
    "spy_close_price = portfolio_df[\"SPY\"][\"close\"][0]\n",
    "\n",
    "# Print the SPY closing price\n",
    "display(spy_close_price)\n",
    "display(spy_close_price.dtype)\n"
   ]
  },
  {
   "cell_type": "markdown",
   "metadata": {},
   "source": [
    "#### Step 6: Calculate the value, in US dollars, of the current amount of shares in each of the stock and bond portions of the portfolio, and print the results."
   ]
  },
  {
   "cell_type": "code",
   "execution_count": 31,
   "metadata": {},
   "outputs": [
    {
     "name": "stdout",
     "output_type": "stream",
     "text": [
      "The latest value for the bond portfolio is US$22860.00\n"
     ]
    }
   ],
   "source": [
    "# Calculate the current value of the bond portion of the portfolio\n",
    "agg_value = agg_shares * agg_close_price\n",
    "\n",
    "# Print the current value of the bond portfolio\n",
    "print(f\"The latest value for the bond portfolio is US${agg_value:.2f}\")"
   ]
  },
  {
   "cell_type": "code",
   "execution_count": 32,
   "metadata": {},
   "outputs": [
    {
     "name": "stdout",
     "output_type": "stream",
     "text": [
      "The latest value for the stock portfolio is US$35928.20\n"
     ]
    }
   ],
   "source": [
    "# Calculate the current value of the stock portion of the portfolio\n",
    "spy_value = spy_shares * spy_close_price\n",
    "\n",
    "# Print the current value of the stock portfolio\n",
    "print(f\"The latest value for the stock portfolio is US${spy_value:.2f}\")"
   ]
  },
  {
   "cell_type": "code",
   "execution_count": 35,
   "metadata": {},
   "outputs": [
    {
     "name": "stdout",
     "output_type": "stream",
     "text": [
      "The current balance of the stock and bond portion is US$58788.20.\n"
     ]
    }
   ],
   "source": [
    "# Calculate the total value of the stock and bond portion of the portfolio\n",
    "total_stocks_bonds =spy_value + agg_value\n",
    "\n",
    "# Print the current balance of the stock and bond portion of the portfolio\n",
    "print(f\"The current balance of the stock and bond portion is US${total_stocks_bonds:.2f}.\")"
   ]
  },
  {
   "cell_type": "code",
   "execution_count": 36,
   "metadata": {},
   "outputs": [
    {
     "name": "stdout",
     "output_type": "stream",
     "text": [
      "The total value of the member's saving portfolio including crypto wallet, stocks and bonds are US$106102.79.\n"
     ]
    }
   ],
   "source": [
    "# Calculate the total value of the member's entire savings portfolio\n",
    "# Add the value of the cryptocurrency walled to the value of the total stocks and bonds\n",
    "total_portfolio = total_crypto_wallet + total_stocks_bonds\n",
    "\n",
    "# Print current cryptocurrency wallet balance\n",
    "print(f\"The total value of the member's saving portfolio including crypto wallet, stocks and bonds are US${total_portfolio:.2f}.\")\n"
   ]
  },
  {
   "cell_type": "markdown",
   "metadata": {},
   "source": [
    "### Evaluate the Emergency Fund\n",
    "\n",
    "In this section, you’ll use the valuations for the cryptocurrency wallet and for the stock and bond portions of the portfolio to determine if the credit union member has enough savings to build an emergency fund into their financial plan. To do this, complete the following steps:\n",
    "\n",
    "1. Create a Python list named `savings_data` that has two elements. The first element contains the total value of the cryptocurrency wallet. The second element contains the total value of the stock and bond portions of the portfolio.\n",
    "\n",
    "2. Use the `savings_data` list to create a Pandas DataFrame named `savings_df`, and then display this DataFrame. The function to create the DataFrame should take the following three parameters:\n",
    "\n",
    "    - `savings_data`: Use the list that you just created.\n",
    "\n",
    "    - `columns`: Set this parameter equal to a Python list with a single value called `amount`.\n",
    "\n",
    "    - `index`: Set this parameter equal to a Python list with the values of `crypto` and `stock/bond`.\n",
    "\n",
    "3. Use the `savings_df` DataFrame to plot a pie chart that visualizes the composition of the member’s portfolio. The y-axis of the pie chart uses `amount`. Be sure to add a title.\n",
    "\n",
    "4. Using Python, determine if the current portfolio has enough to create an emergency fund as part of the member’s financial plan. Ideally, an emergency fund should equal to three times the member’s monthly income. To do this, implement the following steps:\n",
    "\n",
    "    1. Create a variable named `emergency_fund_value`, and set it equal to three times the value of the member’s `monthly_income` of $12000. (You set this earlier in Part 1).\n",
    "\n",
    "    2. Create a series of three if statements to determine if the member’s total portfolio is large enough to fund the emergency portfolio:\n",
    "\n",
    "        1. If the total portfolio value is greater than the emergency fund value, display a message congratulating the member for having enough money in this fund.\n",
    "\n",
    "        2. Else if the total portfolio value is equal to the emergency fund value, display a message congratulating the member on reaching this important financial goal.\n",
    "\n",
    "        3. Else the total portfolio is less than the emergency fund value, so display a message showing how many dollars away the member is from reaching the goal. (Subtract the total portfolio value from the emergency fund value.)\n"
   ]
  },
  {
   "cell_type": "markdown",
   "metadata": {},
   "source": [
    "#### Step 1: Create a Python list named `savings_data` that has two elements. The first element contains the total value of the cryptocurrency wallet. The second element contains the total value of the stock and bond portions of the portfolio."
   ]
  },
  {
   "cell_type": "code",
   "execution_count": 38,
   "metadata": {},
   "outputs": [
    {
     "data": {
      "text/plain": [
       "[47314.587999999996, 58788.2]"
      ]
     },
     "execution_count": 38,
     "metadata": {},
     "output_type": "execute_result"
    }
   ],
   "source": [
    "# Consolidate financial assets data into a Python list\n",
    "savings_data = [total_crypto_wallet, total_stocks_bonds]\n",
    "\n",
    "# Review the Python list savings_data\n",
    "savings_data"
   ]
  },
  {
   "cell_type": "markdown",
   "metadata": {},
   "source": [
    "#### Step 2: Use the `savings_data` list to create a Pandas DataFrame named `savings_df`, and then display this DataFrame. The function to create the DataFrame should take the following three parameters:\n",
    "\n",
    "- `savings_data`: Use the list that you just created.\n",
    "\n",
    "- `columns`: Set this parameter equal to a Python list with a single value called `amount`.\n",
    "\n",
    "- `index`: Set this parameter equal to a Python list with the values of `crypto` and `stock/bond`.\n"
   ]
  },
  {
   "cell_type": "code",
   "execution_count": 39,
   "metadata": {},
   "outputs": [
    {
     "data": {
      "text/html": [
       "<div>\n",
       "<style scoped>\n",
       "    .dataframe tbody tr th:only-of-type {\n",
       "        vertical-align: middle;\n",
       "    }\n",
       "\n",
       "    .dataframe tbody tr th {\n",
       "        vertical-align: top;\n",
       "    }\n",
       "\n",
       "    .dataframe thead th {\n",
       "        text-align: right;\n",
       "    }\n",
       "</style>\n",
       "<table border=\"1\" class=\"dataframe\">\n",
       "  <thead>\n",
       "    <tr style=\"text-align: right;\">\n",
       "      <th></th>\n",
       "      <th>amount</th>\n",
       "    </tr>\n",
       "  </thead>\n",
       "  <tbody>\n",
       "    <tr>\n",
       "      <th>crypto</th>\n",
       "      <td>47314.588</td>\n",
       "    </tr>\n",
       "    <tr>\n",
       "      <th>stock/bond</th>\n",
       "      <td>58788.200</td>\n",
       "    </tr>\n",
       "  </tbody>\n",
       "</table>\n",
       "</div>"
      ],
      "text/plain": [
       "               amount\n",
       "crypto      47314.588\n",
       "stock/bond  58788.200"
      ]
     },
     "execution_count": 39,
     "metadata": {},
     "output_type": "execute_result"
    }
   ],
   "source": [
    "# Create a Pandas DataFrame called savings_df \n",
    "savings_df = pd.DataFrame(data=savings_data, columns=[\"amount\"], index=[\"crypto\",\"stock/bond\"])\n",
    "\n",
    "# Display the savings_df DataFrame\n",
    "savings_df"
   ]
  },
  {
   "cell_type": "markdown",
   "metadata": {},
   "source": [
    "#### Step 3: Use the `savings_df` DataFrame to plot a pie chart that visualizes the composition of the member’s portfolio. The y-axis of the pie chart uses `amount`. Be sure to add a title."
   ]
  },
  {
   "cell_type": "code",
   "execution_count": 40,
   "metadata": {},
   "outputs": [
    {
     "data": {
      "text/plain": [
       "<AxesSubplot:title={'center':'Crypto & Stock/Bond Portfolio Distribution'}, ylabel='amount'>"
      ]
     },
     "execution_count": 40,
     "metadata": {},
     "output_type": "execute_result"
    },
    {
     "data": {
      "image/png": "[encoded data removed]",
      "text/plain": [
       "<Figure size 432x288 with 1 Axes>"
      ]
     },
     "metadata": {},
     "output_type": "display_data"
    }
   ],
   "source": [
    "# Plot the total value of the member's portfolio (crypto and stock/bond) in a pie chart\n",
    "savings_df.plot.pie(y=\"amount\", title=\"Crypto & Stock/Bond Portfolio Distribution\")\n"
   ]
  },
  {
   "cell_type": "markdown",
   "metadata": {},
   "source": [
    "#### Step 4: Using Python, determine if the current portfolio has enough to create an emergency fund as part of the member’s financial plan. Ideally, an emergency fund should equal to three times the member’s monthly income. To do this, implement the following steps:\n",
    "\n",
    "Step 1. Create a variable named `emergency_fund_value`, and set it equal to three times the value of the member’s `monthly_income` of 12000. (You set this earlier in Part 1).\n",
    "\n",
    "Step 2. Create a series of three if statements to determine if the member’s total portfolio is large enough to fund the emergency portfolio:\n",
    "\n",
    "* If the total portfolio value is greater than the emergency fund value, display a message congratulating the member for having enough money in this fund.\n",
    "\n",
    "* Else if the total portfolio value is equal to the emergency fund value, display a message congratulating the member on reaching this important financial goal.\n",
    "\n",
    "* Else the total portfolio is less than the emergency fund value, so display a message showing how many dollars away the member is from reaching the goal. (Subtract the total portfolio value from the emergency fund value.)\n"
   ]
  },
  {
   "cell_type": "markdown",
   "metadata": {},
   "source": [
    "##### Step 4-1: Create a variable named `emergency_fund_value`, and set it equal to three times the value of the member’s `monthly_income` of 12000. (You set this earlier in Part 1)."
   ]
  },
  {
   "cell_type": "code",
   "execution_count": 42,
   "metadata": {},
   "outputs": [
    {
     "data": {
      "text/plain": [
       "36000"
      ]
     },
     "metadata": {},
     "output_type": "display_data"
    }
   ],
   "source": [
    "# Create a variable named emergency_fund_value\n",
    "emergency_fund_value = 3 * monthly_income\n",
    "display(emergency_fund_value)\n"
   ]
  },
  {
   "cell_type": "markdown",
   "metadata": {},
   "source": [
    "##### Step 4-2: Create a series of three if statements to determine if the member’s total portfolio is large enough to fund the emergency portfolio:\n",
    "\n",
    "* If the total portfolio value is greater than the emergency fund value, display a message congratulating the member for having enough money in this fund.\n",
    "\n",
    "* Else if the total portfolio value is equal to the emergency fund value, display a message congratulating the member on reaching this important financial goal.\n",
    "\n",
    "* Else the total portfolio is less than the emergency fund value, so display a message showing how many dollars away the member is from reaching the goal. (Subtract the total portfolio value from the emergency fund value.)"
   ]
  },
  {
   "cell_type": "code",
   "execution_count": 43,
   "metadata": {},
   "outputs": [
    {
     "name": "stdout",
     "output_type": "stream",
     "text": [
      "Congratulations! You have enough money in the fund.\n"
     ]
    }
   ],
   "source": [
    "# Evaluate the possibility of creating an emergency fund with 3 conditions:\n",
    " \n",
    "if total_portfolio > emergency_fund_value:\n",
    "    print (f\"Congratulations! You have enough money in the fund.\")\n",
    "elif total_portfolio == emergency_fund_value:\n",
    "    print (f\"Congratulations! You just have enough money in the fund and reached an important financial goal.\")\n",
    "else:\n",
    "    print (f\"You are ${emergency_fund_value - total_portfolio} short from reaching the financial goal.\")"
   ]
  },
  {
   "cell_type": "markdown",
   "metadata": {},
   "source": [
    "## Part 2: Create a Financial Planner for Retirement"
   ]
  },
  {
   "cell_type": "markdown",
   "metadata": {},
   "source": [
    "### Create the Monte Carlo Simulation\n",
    "\n",
    "In this section, you’ll use the MCForecastTools library to create a Monte Carlo simulation for the member’s savings portfolio. To do this, complete the following steps:\n",
    "\n",
    "1. Make an API call via the Alpaca SDK to get 10 years of historical closing prices for a traditional 60/40 portfolio split: 60% stocks (SPY) and 40% bonds (AGG).\n",
    "\n",
    "2. Run a Monte Carlo simulation of 500 samples and 30 years for the 60/40 portfolio, and then plot the results.The following image shows the overlay line plot resulting from a simulation with these characteristics. However, because a random number generator is used to run each live Monte Carlo simulation, your image will differ slightly from this exact image:\n",
    "\n",
    "![A screenshot depicts the resulting plot.](Images/5-4-monte-carlo-line-plot.png)\n",
    "\n",
    "3. Plot the probability distribution of the Monte Carlo simulation. Plot the probability distribution of the Monte Carlo simulation. The following image shows the histogram plot resulting from a simulation with these characteristics. However, because a random number generator is used to run each live Monte Carlo simulation, your image will differ slightly from this exact image:\n",
    "\n",
    "![A screenshot depicts the histogram plot.](Images/5-4-monte-carlo-histogram.png)\n",
    "\n",
    "4. Generate the summary statistics for the Monte Carlo simulation.\n",
    "\n"
   ]
  },
  {
   "cell_type": "markdown",
   "metadata": {},
   "source": [
    "#### Step 1: Make an API call via the Alpaca SDK to get 10 years of historical closing prices for a traditional 60/40 portfolio split: 60% stocks (SPY) and 40% bonds (AGG)."
   ]
  },
  {
   "cell_type": "code",
   "execution_count": 44,
   "metadata": {},
   "outputs": [
    {
     "data": {
      "text/plain": [
       "'2011-02-03T00:00:00-08:00'"
      ]
     },
     "metadata": {},
     "output_type": "display_data"
    },
    {
     "data": {
      "text/plain": [
       "'2021-01-31T00:00:00-08:00'"
      ]
     },
     "metadata": {},
     "output_type": "display_data"
    }
   ],
   "source": [
    "# Set start and end dates of 10 years back from your current date\n",
    "# Alternatively, you can use an end date of 2020-08-07 and work 10 years back from that date \n",
    "today = str(datetime.datetime.now()).split()[0]\n",
    "ten_years_ago = str(datetime.datetime.now() - datetime.timedelta(days=10*365)).split()[0]\n",
    "\n",
    "start_date = pd.Timestamp(ten_years_ago, tz=\"America/Los_Angeles\").isoformat()\n",
    "end_date = pd.Timestamp(today, tz=\"America/Los_Angeles\").isoformat()\n",
    "\n",
    "display(start_date)\n",
    "display(end_date)"
   ]
  },
  {
   "cell_type": "code",
   "execution_count": 45,
   "metadata": {},
   "outputs": [
    {
     "data": {
      "text/html": [
       "<div>\n",
       "<style scoped>\n",
       "    .dataframe tbody tr th:only-of-type {\n",
       "        vertical-align: middle;\n",
       "    }\n",
       "\n",
       "    .dataframe tbody tr th {\n",
       "        vertical-align: top;\n",
       "    }\n",
       "\n",
       "    .dataframe thead tr th {\n",
       "        text-align: left;\n",
       "    }\n",
       "\n",
       "    .dataframe thead tr:last-of-type th {\n",
       "        text-align: right;\n",
       "    }\n",
       "</style>\n",
       "<table border=\"1\" class=\"dataframe\">\n",
       "  <thead>\n",
       "    <tr>\n",
       "      <th></th>\n",
       "      <th colspan=\"5\" halign=\"left\">AGG</th>\n",
       "      <th colspan=\"5\" halign=\"left\">SPY</th>\n",
       "    </tr>\n",
       "    <tr>\n",
       "      <th></th>\n",
       "      <th>open</th>\n",
       "      <th>high</th>\n",
       "      <th>low</th>\n",
       "      <th>close</th>\n",
       "      <th>volume</th>\n",
       "      <th>open</th>\n",
       "      <th>high</th>\n",
       "      <th>low</th>\n",
       "      <th>close</th>\n",
       "      <th>volume</th>\n",
       "    </tr>\n",
       "    <tr>\n",
       "      <th>time</th>\n",
       "      <th></th>\n",
       "      <th></th>\n",
       "      <th></th>\n",
       "      <th></th>\n",
       "      <th></th>\n",
       "      <th></th>\n",
       "      <th></th>\n",
       "      <th></th>\n",
       "      <th></th>\n",
       "      <th></th>\n",
       "    </tr>\n",
       "  </thead>\n",
       "  <tbody>\n",
       "    <tr>\n",
       "      <th>2011-02-03 00:00:00-05:00</th>\n",
       "      <td>104.79</td>\n",
       "      <td>104.871</td>\n",
       "      <td>104.6100</td>\n",
       "      <td>104.62</td>\n",
       "      <td>838703</td>\n",
       "      <td>130.26</td>\n",
       "      <td>130.98</td>\n",
       "      <td>129.57</td>\n",
       "      <td>130.78</td>\n",
       "      <td>122274669</td>\n",
       "    </tr>\n",
       "    <tr>\n",
       "      <th>2011-02-04 00:00:00-05:00</th>\n",
       "      <td>104.51</td>\n",
       "      <td>104.630</td>\n",
       "      <td>104.2000</td>\n",
       "      <td>104.25</td>\n",
       "      <td>1090269</td>\n",
       "      <td>130.83</td>\n",
       "      <td>131.20</td>\n",
       "      <td>130.23</td>\n",
       "      <td>131.15</td>\n",
       "      <td>103598208</td>\n",
       "    </tr>\n",
       "    <tr>\n",
       "      <th>2011-02-07 00:00:00-05:00</th>\n",
       "      <td>104.17</td>\n",
       "      <td>104.331</td>\n",
       "      <td>104.1100</td>\n",
       "      <td>104.29</td>\n",
       "      <td>569006</td>\n",
       "      <td>131.44</td>\n",
       "      <td>132.40</td>\n",
       "      <td>131.43</td>\n",
       "      <td>131.98</td>\n",
       "      <td>90480160</td>\n",
       "    </tr>\n",
       "    <tr>\n",
       "      <th>2011-02-08 00:00:00-05:00</th>\n",
       "      <td>104.31</td>\n",
       "      <td>104.320</td>\n",
       "      <td>103.9100</td>\n",
       "      <td>103.99</td>\n",
       "      <td>692756</td>\n",
       "      <td>132.10</td>\n",
       "      <td>132.64</td>\n",
       "      <td>131.73</td>\n",
       "      <td>132.59</td>\n",
       "      <td>85774423</td>\n",
       "    </tr>\n",
       "    <tr>\n",
       "      <th>2011-02-09 00:00:00-05:00</th>\n",
       "      <td>104.04</td>\n",
       "      <td>104.320</td>\n",
       "      <td>103.9301</td>\n",
       "      <td>104.19</td>\n",
       "      <td>484644</td>\n",
       "      <td>132.21</td>\n",
       "      <td>132.63</td>\n",
       "      <td>131.61</td>\n",
       "      <td>132.27</td>\n",
       "      <td>121763230</td>\n",
       "    </tr>\n",
       "  </tbody>\n",
       "</table>\n",
       "</div>"
      ],
      "text/plain": [
       "                              AGG                                         SPY  \\\n",
       "                             open     high       low   close   volume    open   \n",
       "time                                                                            \n",
       "2011-02-03 00:00:00-05:00  104.79  104.871  104.6100  104.62   838703  130.26   \n",
       "2011-02-04 00:00:00-05:00  104.51  104.630  104.2000  104.25  1090269  130.83   \n",
       "2011-02-07 00:00:00-05:00  104.17  104.331  104.1100  104.29   569006  131.44   \n",
       "2011-02-08 00:00:00-05:00  104.31  104.320  103.9100  103.99   692756  132.10   \n",
       "2011-02-09 00:00:00-05:00  104.04  104.320  103.9301  104.19   484644  132.21   \n",
       "\n",
       "                                                              \n",
       "                             high     low   close     volume  \n",
       "time                                                          \n",
       "2011-02-03 00:00:00-05:00  130.98  129.57  130.78  122274669  \n",
       "2011-02-04 00:00:00-05:00  131.20  130.23  131.15  103598208  \n",
       "2011-02-07 00:00:00-05:00  132.40  131.43  131.98   90480160  \n",
       "2011-02-08 00:00:00-05:00  132.64  131.73  132.59   85774423  \n",
       "2011-02-09 00:00:00-05:00  132.63  131.61  132.27  121763230  "
      ]
     },
     "metadata": {},
     "output_type": "display_data"
    },
    {
     "data": {
      "text/html": [
       "<div>\n",
       "<style scoped>\n",
       "    .dataframe tbody tr th:only-of-type {\n",
       "        vertical-align: middle;\n",
       "    }\n",
       "\n",
       "    .dataframe tbody tr th {\n",
       "        vertical-align: top;\n",
       "    }\n",
       "\n",
       "    .dataframe thead tr th {\n",
       "        text-align: left;\n",
       "    }\n",
       "\n",
       "    .dataframe thead tr:last-of-type th {\n",
       "        text-align: right;\n",
       "    }\n",
       "</style>\n",
       "<table border=\"1\" class=\"dataframe\">\n",
       "  <thead>\n",
       "    <tr>\n",
       "      <th></th>\n",
       "      <th colspan=\"5\" halign=\"left\">AGG</th>\n",
       "      <th colspan=\"5\" halign=\"left\">SPY</th>\n",
       "    </tr>\n",
       "    <tr>\n",
       "      <th></th>\n",
       "      <th>open</th>\n",
       "      <th>high</th>\n",
       "      <th>low</th>\n",
       "      <th>close</th>\n",
       "      <th>volume</th>\n",
       "      <th>open</th>\n",
       "      <th>high</th>\n",
       "      <th>low</th>\n",
       "      <th>close</th>\n",
       "      <th>volume</th>\n",
       "    </tr>\n",
       "    <tr>\n",
       "      <th>time</th>\n",
       "      <th></th>\n",
       "      <th></th>\n",
       "      <th></th>\n",
       "      <th></th>\n",
       "      <th></th>\n",
       "      <th></th>\n",
       "      <th></th>\n",
       "      <th></th>\n",
       "      <th></th>\n",
       "      <th></th>\n",
       "    </tr>\n",
       "  </thead>\n",
       "  <tbody>\n",
       "    <tr>\n",
       "      <th>2021-01-25 00:00:00-05:00</th>\n",
       "      <td>117.3900</td>\n",
       "      <td>117.560</td>\n",
       "      <td>117.3600</td>\n",
       "      <td>117.54</td>\n",
       "      <td>3977366</td>\n",
       "      <td>383.67</td>\n",
       "      <td>384.77</td>\n",
       "      <td>378.46</td>\n",
       "      <td>384.40</td>\n",
       "      <td>61090775</td>\n",
       "    </tr>\n",
       "    <tr>\n",
       "      <th>2021-01-26 00:00:00-05:00</th>\n",
       "      <td>117.4600</td>\n",
       "      <td>117.585</td>\n",
       "      <td>117.4255</td>\n",
       "      <td>117.51</td>\n",
       "      <td>3451493</td>\n",
       "      <td>385.41</td>\n",
       "      <td>385.85</td>\n",
       "      <td>383.54</td>\n",
       "      <td>383.83</td>\n",
       "      <td>36871235</td>\n",
       "    </tr>\n",
       "    <tr>\n",
       "      <th>2021-01-27 00:00:00-05:00</th>\n",
       "      <td>117.6100</td>\n",
       "      <td>117.670</td>\n",
       "      <td>117.0400</td>\n",
       "      <td>117.52</td>\n",
       "      <td>3509666</td>\n",
       "      <td>380.22</td>\n",
       "      <td>380.32</td>\n",
       "      <td>372.01</td>\n",
       "      <td>374.44</td>\n",
       "      <td>99246554</td>\n",
       "    </tr>\n",
       "    <tr>\n",
       "      <th>2021-01-28 00:00:00-05:00</th>\n",
       "      <td>117.4800</td>\n",
       "      <td>117.490</td>\n",
       "      <td>117.2900</td>\n",
       "      <td>117.43</td>\n",
       "      <td>4440895</td>\n",
       "      <td>376.36</td>\n",
       "      <td>381.93</td>\n",
       "      <td>375.89</td>\n",
       "      <td>377.60</td>\n",
       "      <td>75229306</td>\n",
       "    </tr>\n",
       "    <tr>\n",
       "      <th>2021-01-29 00:00:00-05:00</th>\n",
       "      <td>117.1563</td>\n",
       "      <td>117.400</td>\n",
       "      <td>116.5625</td>\n",
       "      <td>117.32</td>\n",
       "      <td>7119889</td>\n",
       "      <td>375.63</td>\n",
       "      <td>376.67</td>\n",
       "      <td>368.27</td>\n",
       "      <td>370.19</td>\n",
       "      <td>106397082</td>\n",
       "    </tr>\n",
       "  </tbody>\n",
       "</table>\n",
       "</div>"
      ],
      "text/plain": [
       "                                AGG                                      \\\n",
       "                               open     high       low   close   volume   \n",
       "time                                                                      \n",
       "2021-01-25 00:00:00-05:00  117.3900  117.560  117.3600  117.54  3977366   \n",
       "2021-01-26 00:00:00-05:00  117.4600  117.585  117.4255  117.51  3451493   \n",
       "2021-01-27 00:00:00-05:00  117.6100  117.670  117.0400  117.52  3509666   \n",
       "2021-01-28 00:00:00-05:00  117.4800  117.490  117.2900  117.43  4440895   \n",
       "2021-01-29 00:00:00-05:00  117.1563  117.400  116.5625  117.32  7119889   \n",
       "\n",
       "                              SPY                                     \n",
       "                             open    high     low   close     volume  \n",
       "time                                                                  \n",
       "2021-01-25 00:00:00-05:00  383.67  384.77  378.46  384.40   61090775  \n",
       "2021-01-26 00:00:00-05:00  385.41  385.85  383.54  383.83   36871235  \n",
       "2021-01-27 00:00:00-05:00  380.22  380.32  372.01  374.44   99246554  \n",
       "2021-01-28 00:00:00-05:00  376.36  381.93  375.89  377.60   75229306  \n",
       "2021-01-29 00:00:00-05:00  375.63  376.67  368.27  370.19  106397082  "
      ]
     },
     "metadata": {},
     "output_type": "display_data"
    }
   ],
   "source": [
    "# Use the Alpaca get_barset function to make the API call to get the 10 years worth of pricing data\n",
    "# The tickers and timeframe parameters should have been set in Part 1 of this activity \n",
    "# The start and end dates should be updated with the information set above\n",
    "# Remember to add the df property to the end of the call so the response is returned as a DataFrame\n",
    "df_portfolio = alpaca.get_barset(\n",
    "    tickers,\n",
    "    timeframe,\n",
    "    start = start_date,\n",
    "    end = end_date\n",
    ").df\n",
    "\n",
    "# Display both the first and last five rows of the DataFrame\n",
    "display(df_portfolio.head())\n",
    "display(df_portfolio.tail())\n"
   ]
  },
  {
   "cell_type": "markdown",
   "metadata": {},
   "source": [
    "#### Step 2: Run a Monte Carlo simulation of 500 samples and 30 years for the 60/40 portfolio, and then plot the results."
   ]
  },
  {
   "cell_type": "code",
   "execution_count": 46,
   "metadata": {},
   "outputs": [
    {
     "data": {
      "text/html": [
       "<div>\n",
       "<style scoped>\n",
       "    .dataframe tbody tr th:only-of-type {\n",
       "        vertical-align: middle;\n",
       "    }\n",
       "\n",
       "    .dataframe tbody tr th {\n",
       "        vertical-align: top;\n",
       "    }\n",
       "\n",
       "    .dataframe thead tr th {\n",
       "        text-align: left;\n",
       "    }\n",
       "\n",
       "    .dataframe thead tr:last-of-type th {\n",
       "        text-align: right;\n",
       "    }\n",
       "</style>\n",
       "<table border=\"1\" class=\"dataframe\">\n",
       "  <thead>\n",
       "    <tr>\n",
       "      <th></th>\n",
       "      <th colspan=\"6\" halign=\"left\">AGG</th>\n",
       "      <th colspan=\"6\" halign=\"left\">SPY</th>\n",
       "    </tr>\n",
       "    <tr>\n",
       "      <th></th>\n",
       "      <th>open</th>\n",
       "      <th>high</th>\n",
       "      <th>low</th>\n",
       "      <th>close</th>\n",
       "      <th>volume</th>\n",
       "      <th>daily_return</th>\n",
       "      <th>open</th>\n",
       "      <th>high</th>\n",
       "      <th>low</th>\n",
       "      <th>close</th>\n",
       "      <th>volume</th>\n",
       "      <th>daily_return</th>\n",
       "    </tr>\n",
       "    <tr>\n",
       "      <th>time</th>\n",
       "      <th></th>\n",
       "      <th></th>\n",
       "      <th></th>\n",
       "      <th></th>\n",
       "      <th></th>\n",
       "      <th></th>\n",
       "      <th></th>\n",
       "      <th></th>\n",
       "      <th></th>\n",
       "      <th></th>\n",
       "      <th></th>\n",
       "      <th></th>\n",
       "    </tr>\n",
       "  </thead>\n",
       "  <tbody>\n",
       "    <tr>\n",
       "      <th>2011-02-03 00:00:00-05:00</th>\n",
       "      <td>104.79</td>\n",
       "      <td>104.871</td>\n",
       "      <td>104.6100</td>\n",
       "      <td>104.62</td>\n",
       "      <td>838703</td>\n",
       "      <td>NaN</td>\n",
       "      <td>130.26</td>\n",
       "      <td>130.98</td>\n",
       "      <td>129.57</td>\n",
       "      <td>130.78</td>\n",
       "      <td>122274669</td>\n",
       "      <td>NaN</td>\n",
       "    </tr>\n",
       "    <tr>\n",
       "      <th>2011-02-04 00:00:00-05:00</th>\n",
       "      <td>104.51</td>\n",
       "      <td>104.630</td>\n",
       "      <td>104.2000</td>\n",
       "      <td>104.25</td>\n",
       "      <td>1090269</td>\n",
       "      <td>-0.003537</td>\n",
       "      <td>130.83</td>\n",
       "      <td>131.20</td>\n",
       "      <td>130.23</td>\n",
       "      <td>131.15</td>\n",
       "      <td>103598208</td>\n",
       "      <td>0.002829</td>\n",
       "    </tr>\n",
       "    <tr>\n",
       "      <th>2011-02-07 00:00:00-05:00</th>\n",
       "      <td>104.17</td>\n",
       "      <td>104.331</td>\n",
       "      <td>104.1100</td>\n",
       "      <td>104.29</td>\n",
       "      <td>569006</td>\n",
       "      <td>0.000384</td>\n",
       "      <td>131.44</td>\n",
       "      <td>132.40</td>\n",
       "      <td>131.43</td>\n",
       "      <td>131.98</td>\n",
       "      <td>90480160</td>\n",
       "      <td>0.006329</td>\n",
       "    </tr>\n",
       "    <tr>\n",
       "      <th>2011-02-08 00:00:00-05:00</th>\n",
       "      <td>104.31</td>\n",
       "      <td>104.320</td>\n",
       "      <td>103.9100</td>\n",
       "      <td>103.99</td>\n",
       "      <td>692756</td>\n",
       "      <td>-0.002877</td>\n",
       "      <td>132.10</td>\n",
       "      <td>132.64</td>\n",
       "      <td>131.73</td>\n",
       "      <td>132.59</td>\n",
       "      <td>85774423</td>\n",
       "      <td>0.004622</td>\n",
       "    </tr>\n",
       "    <tr>\n",
       "      <th>2011-02-09 00:00:00-05:00</th>\n",
       "      <td>104.04</td>\n",
       "      <td>104.320</td>\n",
       "      <td>103.9301</td>\n",
       "      <td>104.19</td>\n",
       "      <td>484644</td>\n",
       "      <td>0.001923</td>\n",
       "      <td>132.21</td>\n",
       "      <td>132.63</td>\n",
       "      <td>131.61</td>\n",
       "      <td>132.27</td>\n",
       "      <td>121763230</td>\n",
       "      <td>-0.002413</td>\n",
       "    </tr>\n",
       "  </tbody>\n",
       "</table>\n",
       "</div>"
      ],
      "text/plain": [
       "                              AGG                                      \\\n",
       "                             open     high       low   close   volume   \n",
       "time                                                                    \n",
       "2011-02-03 00:00:00-05:00  104.79  104.871  104.6100  104.62   838703   \n",
       "2011-02-04 00:00:00-05:00  104.51  104.630  104.2000  104.25  1090269   \n",
       "2011-02-07 00:00:00-05:00  104.17  104.331  104.1100  104.29   569006   \n",
       "2011-02-08 00:00:00-05:00  104.31  104.320  103.9100  103.99   692756   \n",
       "2011-02-09 00:00:00-05:00  104.04  104.320  103.9301  104.19   484644   \n",
       "\n",
       "                                           SPY                          \\\n",
       "                          daily_return    open    high     low   close   \n",
       "time                                                                     \n",
       "2011-02-03 00:00:00-05:00          NaN  130.26  130.98  129.57  130.78   \n",
       "2011-02-04 00:00:00-05:00    -0.003537  130.83  131.20  130.23  131.15   \n",
       "2011-02-07 00:00:00-05:00     0.000384  131.44  132.40  131.43  131.98   \n",
       "2011-02-08 00:00:00-05:00    -0.002877  132.10  132.64  131.73  132.59   \n",
       "2011-02-09 00:00:00-05:00     0.001923  132.21  132.63  131.61  132.27   \n",
       "\n",
       "                                                   \n",
       "                              volume daily_return  \n",
       "time                                               \n",
       "2011-02-03 00:00:00-05:00  122274669          NaN  \n",
       "2011-02-04 00:00:00-05:00  103598208     0.002829  \n",
       "2011-02-07 00:00:00-05:00   90480160     0.006329  \n",
       "2011-02-08 00:00:00-05:00   85774423     0.004622  \n",
       "2011-02-09 00:00:00-05:00  121763230    -0.002413  "
      ]
     },
     "execution_count": 46,
     "metadata": {},
     "output_type": "execute_result"
    }
   ],
   "source": [
    "# Configure the Monte Carlo simulation to forecast 30 years cumulative returns\n",
    "# The weights should be split 40% to AGG and 60% to SPY.\n",
    "# Run 500 samples.\n",
    "thirty_year_simulation = MCSimulation(\n",
    "    portfolio_data=df_portfolio,\n",
    "    weights=[0.60, 0.40],\n",
    "    num_simulation=500,\n",
    "    num_trading_days=252*30,\n",
    ")\n",
    "\n",
    "# Review the simulation input data\n",
    "thirty_year_simulation.portfolio_data.head()\n"
   ]
  },
  {
   "cell_type": "code",
   "execution_count": 47,
   "metadata": {},
   "outputs": [
    {
     "name": "stdout",
     "output_type": "stream",
     "text": [
      "Running Monte Carlo simulation number 0.\n",
      "Running Monte Carlo simulation number 10.\n",
      "Running Monte Carlo simulation number 20.\n",
      "Running Monte Carlo simulation number 30.\n",
      "Running Monte Carlo simulation number 40.\n",
      "Running Monte Carlo simulation number 50.\n",
      "Running Monte Carlo simulation number 60.\n",
      "Running Monte Carlo simulation number 70.\n",
      "Running Monte Carlo simulation number 80.\n",
      "Running Monte Carlo simulation number 90.\n",
      "Running Monte Carlo simulation number 100.\n",
      "Running Monte Carlo simulation number 110.\n",
      "Running Monte Carlo simulation number 120.\n",
      "Running Monte Carlo simulation number 130.\n",
      "Running Monte Carlo simulation number 140.\n",
      "Running Monte Carlo simulation number 150.\n",
      "Running Monte Carlo simulation number 160.\n",
      "Running Monte Carlo simulation number 170.\n",
      "Running Monte Carlo simulation number 180.\n",
      "Running Monte Carlo simulation number 190.\n",
      "Running Monte Carlo simulation number 200.\n",
      "Running Monte Carlo simulation number 210.\n",
      "Running Monte Carlo simulation number 220.\n",
      "Running Monte Carlo simulation number 230.\n",
      "Running Monte Carlo simulation number 240.\n",
      "Running Monte Carlo simulation number 250.\n",
      "Running Monte Carlo simulation number 260.\n",
      "Running Monte Carlo simulation number 270.\n",
      "Running Monte Carlo simulation number 280.\n",
      "Running Monte Carlo simulation number 290.\n",
      "Running Monte Carlo simulation number 300.\n",
      "Running Monte Carlo simulation number 310.\n",
      "Running Monte Carlo simulation number 320.\n",
      "Running Monte Carlo simulation number 330.\n",
      "Running Monte Carlo simulation number 340.\n",
      "Running Monte Carlo simulation number 350.\n",
      "Running Monte Carlo simulation number 360.\n",
      "Running Monte Carlo simulation number 370.\n",
      "Running Monte Carlo simulation number 380.\n",
      "Running Monte Carlo simulation number 390.\n",
      "Running Monte Carlo simulation number 400.\n",
      "Running Monte Carlo simulation number 410.\n",
      "Running Monte Carlo simulation number 420.\n",
      "Running Monte Carlo simulation number 430.\n",
      "Running Monte Carlo simulation number 440.\n",
      "Running Monte Carlo simulation number 450.\n",
      "Running Monte Carlo simulation number 460.\n",
      "Running Monte Carlo simulation number 470.\n",
      "Running Monte Carlo simulation number 480.\n",
      "Running Monte Carlo simulation number 490.\n"
     ]
    },
    {
     "data": {
      "text/html": [
       "<div>\n",
       "<style scoped>\n",
       "    .dataframe tbody tr th:only-of-type {\n",
       "        vertical-align: middle;\n",
       "    }\n",
       "\n",
       "    .dataframe tbody tr th {\n",
       "        vertical-align: top;\n",
       "    }\n",
       "\n",
       "    .dataframe thead th {\n",
       "        text-align: right;\n",
       "    }\n",
       "</style>\n",
       "<table border=\"1\" class=\"dataframe\">\n",
       "  <thead>\n",
       "    <tr style=\"text-align: right;\">\n",
       "      <th></th>\n",
       "      <th>0</th>\n",
       "      <th>1</th>\n",
       "      <th>2</th>\n",
       "      <th>3</th>\n",
       "      <th>4</th>\n",
       "      <th>5</th>\n",
       "      <th>6</th>\n",
       "      <th>7</th>\n",
       "      <th>8</th>\n",
       "      <th>9</th>\n",
       "      <th>...</th>\n",
       "      <th>490</th>\n",
       "      <th>491</th>\n",
       "      <th>492</th>\n",
       "      <th>493</th>\n",
       "      <th>494</th>\n",
       "      <th>495</th>\n",
       "      <th>496</th>\n",
       "      <th>497</th>\n",
       "      <th>498</th>\n",
       "      <th>499</th>\n",
       "    </tr>\n",
       "  </thead>\n",
       "  <tbody>\n",
       "    <tr>\n",
       "      <th>0</th>\n",
       "      <td>1.000000</td>\n",
       "      <td>1.000000</td>\n",
       "      <td>1.000000</td>\n",
       "      <td>1.000000</td>\n",
       "      <td>1.000000</td>\n",
       "      <td>1.000000</td>\n",
       "      <td>1.000000</td>\n",
       "      <td>1.000000</td>\n",
       "      <td>1.000000</td>\n",
       "      <td>1.000000</td>\n",
       "      <td>...</td>\n",
       "      <td>1.000000</td>\n",
       "      <td>1.000000</td>\n",
       "      <td>1.000000</td>\n",
       "      <td>1.000000</td>\n",
       "      <td>1.000000</td>\n",
       "      <td>1.000000</td>\n",
       "      <td>1.000000</td>\n",
       "      <td>1.000000</td>\n",
       "      <td>1.000000</td>\n",
       "      <td>1.000000</td>\n",
       "    </tr>\n",
       "    <tr>\n",
       "      <th>1</th>\n",
       "      <td>1.004347</td>\n",
       "      <td>0.997955</td>\n",
       "      <td>1.007008</td>\n",
       "      <td>0.994462</td>\n",
       "      <td>1.006017</td>\n",
       "      <td>1.004416</td>\n",
       "      <td>0.994083</td>\n",
       "      <td>0.998856</td>\n",
       "      <td>0.993273</td>\n",
       "      <td>1.004523</td>\n",
       "      <td>...</td>\n",
       "      <td>1.000316</td>\n",
       "      <td>0.997433</td>\n",
       "      <td>1.000029</td>\n",
       "      <td>1.004760</td>\n",
       "      <td>0.998965</td>\n",
       "      <td>0.991114</td>\n",
       "      <td>0.994690</td>\n",
       "      <td>0.997532</td>\n",
       "      <td>0.994835</td>\n",
       "      <td>0.995629</td>\n",
       "    </tr>\n",
       "    <tr>\n",
       "      <th>2</th>\n",
       "      <td>1.007915</td>\n",
       "      <td>1.001093</td>\n",
       "      <td>1.003193</td>\n",
       "      <td>0.993664</td>\n",
       "      <td>1.004330</td>\n",
       "      <td>1.008680</td>\n",
       "      <td>0.993418</td>\n",
       "      <td>0.999387</td>\n",
       "      <td>0.984451</td>\n",
       "      <td>1.002797</td>\n",
       "      <td>...</td>\n",
       "      <td>0.999175</td>\n",
       "      <td>0.996676</td>\n",
       "      <td>1.000692</td>\n",
       "      <td>1.008161</td>\n",
       "      <td>0.999285</td>\n",
       "      <td>0.990220</td>\n",
       "      <td>0.994776</td>\n",
       "      <td>0.994293</td>\n",
       "      <td>0.998041</td>\n",
       "      <td>0.999447</td>\n",
       "    </tr>\n",
       "    <tr>\n",
       "      <th>3</th>\n",
       "      <td>1.006395</td>\n",
       "      <td>1.008033</td>\n",
       "      <td>1.008414</td>\n",
       "      <td>0.993835</td>\n",
       "      <td>0.999729</td>\n",
       "      <td>1.007090</td>\n",
       "      <td>0.984819</td>\n",
       "      <td>1.000198</td>\n",
       "      <td>0.979066</td>\n",
       "      <td>1.000692</td>\n",
       "      <td>...</td>\n",
       "      <td>0.995680</td>\n",
       "      <td>0.997679</td>\n",
       "      <td>1.000889</td>\n",
       "      <td>1.010811</td>\n",
       "      <td>1.001228</td>\n",
       "      <td>0.990677</td>\n",
       "      <td>0.994150</td>\n",
       "      <td>0.995450</td>\n",
       "      <td>0.991978</td>\n",
       "      <td>0.999859</td>\n",
       "    </tr>\n",
       "    <tr>\n",
       "      <th>4</th>\n",
       "      <td>1.005495</td>\n",
       "      <td>1.009868</td>\n",
       "      <td>1.016033</td>\n",
       "      <td>1.000463</td>\n",
       "      <td>1.007548</td>\n",
       "      <td>1.016827</td>\n",
       "      <td>0.985875</td>\n",
       "      <td>1.001904</td>\n",
       "      <td>0.981024</td>\n",
       "      <td>1.004929</td>\n",
       "      <td>...</td>\n",
       "      <td>0.988421</td>\n",
       "      <td>1.000852</td>\n",
       "      <td>1.004608</td>\n",
       "      <td>1.014824</td>\n",
       "      <td>0.998644</td>\n",
       "      <td>0.992975</td>\n",
       "      <td>0.992155</td>\n",
       "      <td>0.996867</td>\n",
       "      <td>0.987366</td>\n",
       "      <td>1.003844</td>\n",
       "    </tr>\n",
       "    <tr>\n",
       "      <th>...</th>\n",
       "      <td>...</td>\n",
       "      <td>...</td>\n",
       "      <td>...</td>\n",
       "      <td>...</td>\n",
       "      <td>...</td>\n",
       "      <td>...</td>\n",
       "      <td>...</td>\n",
       "      <td>...</td>\n",
       "      <td>...</td>\n",
       "      <td>...</td>\n",
       "      <td>...</td>\n",
       "      <td>...</td>\n",
       "      <td>...</td>\n",
       "      <td>...</td>\n",
       "      <td>...</td>\n",
       "      <td>...</td>\n",
       "      <td>...</td>\n",
       "      <td>...</td>\n",
       "      <td>...</td>\n",
       "      <td>...</td>\n",
       "      <td>...</td>\n",
       "    </tr>\n",
       "    <tr>\n",
       "      <th>7556</th>\n",
       "      <td>3.066314</td>\n",
       "      <td>2.946947</td>\n",
       "      <td>17.991573</td>\n",
       "      <td>3.143791</td>\n",
       "      <td>7.035084</td>\n",
       "      <td>4.857310</td>\n",
       "      <td>4.929057</td>\n",
       "      <td>3.793718</td>\n",
       "      <td>6.531028</td>\n",
       "      <td>10.906327</td>\n",
       "      <td>...</td>\n",
       "      <td>7.512526</td>\n",
       "      <td>2.839695</td>\n",
       "      <td>3.805485</td>\n",
       "      <td>6.643230</td>\n",
       "      <td>4.462721</td>\n",
       "      <td>4.307410</td>\n",
       "      <td>4.430056</td>\n",
       "      <td>14.564103</td>\n",
       "      <td>3.790425</td>\n",
       "      <td>6.561250</td>\n",
       "    </tr>\n",
       "    <tr>\n",
       "      <th>7557</th>\n",
       "      <td>3.081323</td>\n",
       "      <td>2.941222</td>\n",
       "      <td>18.104345</td>\n",
       "      <td>3.149429</td>\n",
       "      <td>7.014403</td>\n",
       "      <td>4.894400</td>\n",
       "      <td>4.957139</td>\n",
       "      <td>3.790887</td>\n",
       "      <td>6.496204</td>\n",
       "      <td>10.823261</td>\n",
       "      <td>...</td>\n",
       "      <td>7.447575</td>\n",
       "      <td>2.866574</td>\n",
       "      <td>3.753026</td>\n",
       "      <td>6.592956</td>\n",
       "      <td>4.441014</td>\n",
       "      <td>4.286002</td>\n",
       "      <td>4.449915</td>\n",
       "      <td>14.528630</td>\n",
       "      <td>3.813666</td>\n",
       "      <td>6.547614</td>\n",
       "    </tr>\n",
       "    <tr>\n",
       "      <th>7558</th>\n",
       "      <td>3.077877</td>\n",
       "      <td>2.966373</td>\n",
       "      <td>17.933132</td>\n",
       "      <td>3.140488</td>\n",
       "      <td>7.000921</td>\n",
       "      <td>4.889795</td>\n",
       "      <td>4.929260</td>\n",
       "      <td>3.790117</td>\n",
       "      <td>6.542741</td>\n",
       "      <td>10.857922</td>\n",
       "      <td>...</td>\n",
       "      <td>7.440337</td>\n",
       "      <td>2.893895</td>\n",
       "      <td>3.750035</td>\n",
       "      <td>6.587693</td>\n",
       "      <td>4.442363</td>\n",
       "      <td>4.297552</td>\n",
       "      <td>4.485725</td>\n",
       "      <td>14.512242</td>\n",
       "      <td>3.825269</td>\n",
       "      <td>6.588093</td>\n",
       "    </tr>\n",
       "    <tr>\n",
       "      <th>7559</th>\n",
       "      <td>3.063248</td>\n",
       "      <td>2.970272</td>\n",
       "      <td>18.009958</td>\n",
       "      <td>3.126440</td>\n",
       "      <td>6.973504</td>\n",
       "      <td>4.869105</td>\n",
       "      <td>4.933063</td>\n",
       "      <td>3.815167</td>\n",
       "      <td>6.539983</td>\n",
       "      <td>10.762457</td>\n",
       "      <td>...</td>\n",
       "      <td>7.460526</td>\n",
       "      <td>2.896790</td>\n",
       "      <td>3.730762</td>\n",
       "      <td>6.546493</td>\n",
       "      <td>4.454290</td>\n",
       "      <td>4.307660</td>\n",
       "      <td>4.496446</td>\n",
       "      <td>14.470755</td>\n",
       "      <td>3.814940</td>\n",
       "      <td>6.541809</td>\n",
       "    </tr>\n",
       "    <tr>\n",
       "      <th>7560</th>\n",
       "      <td>3.060553</td>\n",
       "      <td>2.957480</td>\n",
       "      <td>17.981045</td>\n",
       "      <td>3.150150</td>\n",
       "      <td>6.990955</td>\n",
       "      <td>4.911526</td>\n",
       "      <td>4.943280</td>\n",
       "      <td>3.810806</td>\n",
       "      <td>6.540926</td>\n",
       "      <td>10.754844</td>\n",
       "      <td>...</td>\n",
       "      <td>7.491585</td>\n",
       "      <td>2.898264</td>\n",
       "      <td>3.759571</td>\n",
       "      <td>6.542112</td>\n",
       "      <td>4.497583</td>\n",
       "      <td>4.282460</td>\n",
       "      <td>4.575259</td>\n",
       "      <td>14.514115</td>\n",
       "      <td>3.848624</td>\n",
       "      <td>6.540558</td>\n",
       "    </tr>\n",
       "  </tbody>\n",
       "</table>\n",
       "<p>7561 rows × 500 columns</p>\n",
       "</div>"
      ],
      "text/plain": [
       "           0         1          2         3         4         5         6    \\\n",
       "0     1.000000  1.000000   1.000000  1.000000  1.000000  1.000000  1.000000   \n",
       "1     1.004347  0.997955   1.007008  0.994462  1.006017  1.004416  0.994083   \n",
       "2     1.007915  1.001093   1.003193  0.993664  1.004330  1.008680  0.993418   \n",
       "3     1.006395  1.008033   1.008414  0.993835  0.999729  1.007090  0.984819   \n",
       "4     1.005495  1.009868   1.016033  1.000463  1.007548  1.016827  0.985875   \n",
       "...        ...       ...        ...       ...       ...       ...       ...   \n",
       "7556  3.066314  2.946947  17.991573  3.143791  7.035084  4.857310  4.929057   \n",
       "7557  3.081323  2.941222  18.104345  3.149429  7.014403  4.894400  4.957139   \n",
       "7558  3.077877  2.966373  17.933132  3.140488  7.000921  4.889795  4.929260   \n",
       "7559  3.063248  2.970272  18.009958  3.126440  6.973504  4.869105  4.933063   \n",
       "7560  3.060553  2.957480  17.981045  3.150150  6.990955  4.911526  4.943280   \n",
       "\n",
       "           7         8          9    ...       490       491       492  \\\n",
       "0     1.000000  1.000000   1.000000  ...  1.000000  1.000000  1.000000   \n",
       "1     0.998856  0.993273   1.004523  ...  1.000316  0.997433  1.000029   \n",
       "2     0.999387  0.984451   1.002797  ...  0.999175  0.996676  1.000692   \n",
       "3     1.000198  0.979066   1.000692  ...  0.995680  0.997679  1.000889   \n",
       "4     1.001904  0.981024   1.004929  ...  0.988421  1.000852  1.004608   \n",
       "...        ...       ...        ...  ...       ...       ...       ...   \n",
       "7556  3.793718  6.531028  10.906327  ...  7.512526  2.839695  3.805485   \n",
       "7557  3.790887  6.496204  10.823261  ...  7.447575  2.866574  3.753026   \n",
       "7558  3.790117  6.542741  10.857922  ...  7.440337  2.893895  3.750035   \n",
       "7559  3.815167  6.539983  10.762457  ...  7.460526  2.896790  3.730762   \n",
       "7560  3.810806  6.540926  10.754844  ...  7.491585  2.898264  3.759571   \n",
       "\n",
       "           493       494       495       496        497       498       499  \n",
       "0     1.000000  1.000000  1.000000  1.000000   1.000000  1.000000  1.000000  \n",
       "1     1.004760  0.998965  0.991114  0.994690   0.997532  0.994835  0.995629  \n",
       "2     1.008161  0.999285  0.990220  0.994776   0.994293  0.998041  0.999447  \n",
       "3     1.010811  1.001228  0.990677  0.994150   0.995450  0.991978  0.999859  \n",
       "4     1.014824  0.998644  0.992975  0.992155   0.996867  0.987366  1.003844  \n",
       "...        ...       ...       ...       ...        ...       ...       ...  \n",
       "7556  6.643230  4.462721  4.307410  4.430056  14.564103  3.790425  6.561250  \n",
       "7557  6.592956  4.441014  4.286002  4.449915  14.528630  3.813666  6.547614  \n",
       "7558  6.587693  4.442363  4.297552  4.485725  14.512242  3.825269  6.588093  \n",
       "7559  6.546493  4.454290  4.307660  4.496446  14.470755  3.814940  6.541809  \n",
       "7560  6.542112  4.497583  4.282460  4.575259  14.514115  3.848624  6.540558  \n",
       "\n",
       "[7561 rows x 500 columns]"
      ]
     },
     "execution_count": 47,
     "metadata": {},
     "output_type": "execute_result"
    }
   ],
   "source": [
    "# Run the Monte Carlo simulation to forecast 30 years cumulative returns\n",
    "thirty_year_simulation.calc_cumulative_return()\n"
   ]
  },
  {
   "cell_type": "code",
   "execution_count": 48,
   "metadata": {},
   "outputs": [
    {
     "data": {
      "text/plain": [
       "<AxesSubplot:title={'center':'500 Simulations of Cumulative Portfolio Return Trajectories Over the Next 7560 Trading Days.'}>"
      ]
     },
     "execution_count": 48,
     "metadata": {},
     "output_type": "execute_result"
    },
    {
     "data": {
      "image/png": "[encoded data removed]",
      "text/plain": [
       "<Figure size 432x288 with 1 Axes>"
      ]
     },
     "metadata": {
      "needs_background": "light"
     },
     "output_type": "display_data"
    }
   ],
   "source": [
    "# Visualize the 30-year Monte Carlo simulation by creating an\n",
    "# overlay line plot\n",
    "thirty_year_simulation.plot_simulation()"
   ]
  },
  {
   "cell_type": "markdown",
   "metadata": {},
   "source": [
    "#### Step 3: Plot the probability distribution of the Monte Carlo simulation."
   ]
  },
  {
   "cell_type": "code",
   "execution_count": 49,
   "metadata": {},
   "outputs": [
    {
     "data": {
      "text/plain": [
       "<AxesSubplot:title={'center':'Distribution of Final Cumuluative Returns Across All 500 Simulations'}, ylabel='Frequency'>"
      ]
     },
     "execution_count": 49,
     "metadata": {},
     "output_type": "execute_result"
    },
    {
     "data": {
      "image/png": "[encoded data removed]",
      "text/plain": [
       "<Figure size 432x288 with 1 Axes>"
      ]
     },
     "metadata": {
      "needs_background": "light"
     },
     "output_type": "display_data"
    }
   ],
   "source": [
    "# Visualize the probability distribution of the 30-year Monte Carlo simulation \n",
    "# by plotting a histogram\n",
    "thirty_year_simulation.plot_distribution()"
   ]
  },
  {
   "cell_type": "markdown",
   "metadata": {},
   "source": [
    "#### Step 4: Generate the summary statistics for the Monte Carlo simulation."
   ]
  },
  {
   "cell_type": "code",
   "execution_count": 50,
   "metadata": {},
   "outputs": [
    {
     "name": "stdout",
     "output_type": "stream",
     "text": [
      "count           500.000000\n",
      "mean              5.259287\n",
      "std               2.259666\n",
      "min               1.122879\n",
      "25%               3.662643\n",
      "50%               4.792012\n",
      "75%               6.417982\n",
      "max              17.981045\n",
      "95% CI Lower      2.277927\n",
      "95% CI Upper     10.682106\n",
      "Name: 7560, dtype: float64\n"
     ]
    }
   ],
   "source": [
    "# Generate summary statistics from the 30-year Monte Carlo simulation results\n",
    "# Save the results as a variable\n",
    "thirty_year_simulation_statistics = thirty_year_simulation.summarize_cumulative_return()\n",
    "\n",
    "# Review the 30-year Monte Carlo summary statistics\n",
    "print(thirty_year_simulation_statistics)"
   ]
  },
  {
   "cell_type": "markdown",
   "metadata": {},
   "source": [
    "### Analyze the Retirement Portfolio Forecasts\n",
    "\n",
    "Using the current value of only the stock and bond portion of the member's portfolio and the summary statistics that you generated from the Monte Carlo simulation, answer the following question in your Jupyter notebook:\n",
    "\n",
    "-  What are the lower and upper bounds for the expected value of the portfolio with a 95% confidence interval?\n"
   ]
  },
  {
   "cell_type": "code",
   "execution_count": 52,
   "metadata": {},
   "outputs": [
    {
     "name": "stdout",
     "output_type": "stream",
     "text": [
      "The latest value for the bond portfolio is US$22860.00.\n",
      "The latest value for the stock portfolio US$35928.20.\n",
      "The total value of the member's saving portfolio with stocks and bonds is US$58788.20.\n"
     ]
    }
   ],
   "source": [
    "# Print the current balance of the stock and bond portion of the members portfolio\n",
    "\n",
    "print(f\"The latest value for the bond portfolio is US${agg_value:.2f}.\")\n",
    "print(f\"The latest value for the stock portfolio US${spy_value:.2f}.\")\n",
    "print(f\"The total value of the member's saving portfolio with stocks and bonds is US${agg_value + spy_value:.2f}.\")\n"
   ]
  },
  {
   "cell_type": "code",
   "execution_count": 55,
   "metadata": {},
   "outputs": [
    {
     "name": "stdout",
     "output_type": "stream",
     "text": [
      "There is a 95% chance that an initial investment of $58788.20 in the portfolio over the next 30 years will end within in the range of $133915.24 and $627981.76.\n"
     ]
    }
   ],
   "source": [
    "# Use the lower and upper `95%` confidence intervals to calculate the range of the possible outcomes for the current stock/bond portfolio\n",
    "ci_lower_thirty_cumulative_return = thirty_year_simulation_statistics[8]*(agg_value + spy_value)\n",
    "ci_upper_thirty_cumulative_return = thirty_year_simulation_statistics[9]*(agg_value + spy_value)\n",
    "\n",
    "# Print the result of your calculations      \n",
    "print(f\"There is a 95% chance that an initial investment of ${agg_value + spy_value:.2f} in the portfolio\"\n",
    "      f\" over the next 30 years will end within in the range of\"\n",
    "      f\" ${ci_lower_thirty_cumulative_return:.2f} and ${ci_upper_thirty_cumulative_return:.2f}.\")"
   ]
  },
  {
   "cell_type": "markdown",
   "metadata": {},
   "source": [
    "### Forecast Cumulative Returns in 10 Years\n",
    "\n",
    "The CTO of the credit union is impressed with your work on these planning tools but wonders if 30 years is a long time to wait until retirement. So, your next task is to adjust the retirement portfolio and run a new Monte Carlo simulation to find out if the changes will allow members to retire earlier.\n",
    "\n",
    "For this new Monte Carlo simulation, do the following: \n",
    "\n",
    "- Forecast the cumulative returns for 10 years from now. Because of the shortened investment horizon (30 years to 10 years), the portfolio needs to invest more heavily in the riskier asset&mdash;that is, stock&mdash;to help accumulate wealth for retirement. \n",
    "\n",
    "- Adjust the weights of the retirement portfolio so that the composition for the Monte Carlo simulation consists of 20% bonds and 80% stocks. \n",
    "\n",
    "- Run the simulation over 500 samples, and use the same data that the API call to Alpaca generated.\n",
    "\n",
    "- Based on the new Monte Carlo simulation, answer the following questions in your Jupyter notebook:\n",
    "\n",
    "    - Using the current value of only the stock and bond portion of the member's portfolio and the summary statistics that you generated from the new Monte Carlo simulation, what are the lower and upper bounds for the expected value of the portfolio (with the new weights) with a 95% confidence interval?\n",
    "\n",
    "    - Will weighting the portfolio more heavily toward stocks allow the credit union members to retire after only 10 years?\n"
   ]
  },
  {
   "cell_type": "code",
   "execution_count": 56,
   "metadata": {},
   "outputs": [
    {
     "data": {
      "text/html": [
       "<div>\n",
       "<style scoped>\n",
       "    .dataframe tbody tr th:only-of-type {\n",
       "        vertical-align: middle;\n",
       "    }\n",
       "\n",
       "    .dataframe tbody tr th {\n",
       "        vertical-align: top;\n",
       "    }\n",
       "\n",
       "    .dataframe thead tr th {\n",
       "        text-align: left;\n",
       "    }\n",
       "\n",
       "    .dataframe thead tr:last-of-type th {\n",
       "        text-align: right;\n",
       "    }\n",
       "</style>\n",
       "<table border=\"1\" class=\"dataframe\">\n",
       "  <thead>\n",
       "    <tr>\n",
       "      <th></th>\n",
       "      <th colspan=\"6\" halign=\"left\">AGG</th>\n",
       "      <th colspan=\"6\" halign=\"left\">SPY</th>\n",
       "    </tr>\n",
       "    <tr>\n",
       "      <th></th>\n",
       "      <th>open</th>\n",
       "      <th>high</th>\n",
       "      <th>low</th>\n",
       "      <th>close</th>\n",
       "      <th>volume</th>\n",
       "      <th>daily_return</th>\n",
       "      <th>open</th>\n",
       "      <th>high</th>\n",
       "      <th>low</th>\n",
       "      <th>close</th>\n",
       "      <th>volume</th>\n",
       "      <th>daily_return</th>\n",
       "    </tr>\n",
       "    <tr>\n",
       "      <th>time</th>\n",
       "      <th></th>\n",
       "      <th></th>\n",
       "      <th></th>\n",
       "      <th></th>\n",
       "      <th></th>\n",
       "      <th></th>\n",
       "      <th></th>\n",
       "      <th></th>\n",
       "      <th></th>\n",
       "      <th></th>\n",
       "      <th></th>\n",
       "      <th></th>\n",
       "    </tr>\n",
       "  </thead>\n",
       "  <tbody>\n",
       "    <tr>\n",
       "      <th>2011-02-03 00:00:00-05:00</th>\n",
       "      <td>104.79</td>\n",
       "      <td>104.871</td>\n",
       "      <td>104.6100</td>\n",
       "      <td>104.62</td>\n",
       "      <td>838703</td>\n",
       "      <td>NaN</td>\n",
       "      <td>130.26</td>\n",
       "      <td>130.98</td>\n",
       "      <td>129.57</td>\n",
       "      <td>130.78</td>\n",
       "      <td>122274669</td>\n",
       "      <td>NaN</td>\n",
       "    </tr>\n",
       "    <tr>\n",
       "      <th>2011-02-04 00:00:00-05:00</th>\n",
       "      <td>104.51</td>\n",
       "      <td>104.630</td>\n",
       "      <td>104.2000</td>\n",
       "      <td>104.25</td>\n",
       "      <td>1090269</td>\n",
       "      <td>-0.003537</td>\n",
       "      <td>130.83</td>\n",
       "      <td>131.20</td>\n",
       "      <td>130.23</td>\n",
       "      <td>131.15</td>\n",
       "      <td>103598208</td>\n",
       "      <td>0.002829</td>\n",
       "    </tr>\n",
       "    <tr>\n",
       "      <th>2011-02-07 00:00:00-05:00</th>\n",
       "      <td>104.17</td>\n",
       "      <td>104.331</td>\n",
       "      <td>104.1100</td>\n",
       "      <td>104.29</td>\n",
       "      <td>569006</td>\n",
       "      <td>0.000384</td>\n",
       "      <td>131.44</td>\n",
       "      <td>132.40</td>\n",
       "      <td>131.43</td>\n",
       "      <td>131.98</td>\n",
       "      <td>90480160</td>\n",
       "      <td>0.006329</td>\n",
       "    </tr>\n",
       "    <tr>\n",
       "      <th>2011-02-08 00:00:00-05:00</th>\n",
       "      <td>104.31</td>\n",
       "      <td>104.320</td>\n",
       "      <td>103.9100</td>\n",
       "      <td>103.99</td>\n",
       "      <td>692756</td>\n",
       "      <td>-0.002877</td>\n",
       "      <td>132.10</td>\n",
       "      <td>132.64</td>\n",
       "      <td>131.73</td>\n",
       "      <td>132.59</td>\n",
       "      <td>85774423</td>\n",
       "      <td>0.004622</td>\n",
       "    </tr>\n",
       "    <tr>\n",
       "      <th>2011-02-09 00:00:00-05:00</th>\n",
       "      <td>104.04</td>\n",
       "      <td>104.320</td>\n",
       "      <td>103.9301</td>\n",
       "      <td>104.19</td>\n",
       "      <td>484644</td>\n",
       "      <td>0.001923</td>\n",
       "      <td>132.21</td>\n",
       "      <td>132.63</td>\n",
       "      <td>131.61</td>\n",
       "      <td>132.27</td>\n",
       "      <td>121763230</td>\n",
       "      <td>-0.002413</td>\n",
       "    </tr>\n",
       "  </tbody>\n",
       "</table>\n",
       "</div>"
      ],
      "text/plain": [
       "                              AGG                                      \\\n",
       "                             open     high       low   close   volume   \n",
       "time                                                                    \n",
       "2011-02-03 00:00:00-05:00  104.79  104.871  104.6100  104.62   838703   \n",
       "2011-02-04 00:00:00-05:00  104.51  104.630  104.2000  104.25  1090269   \n",
       "2011-02-07 00:00:00-05:00  104.17  104.331  104.1100  104.29   569006   \n",
       "2011-02-08 00:00:00-05:00  104.31  104.320  103.9100  103.99   692756   \n",
       "2011-02-09 00:00:00-05:00  104.04  104.320  103.9301  104.19   484644   \n",
       "\n",
       "                                           SPY                          \\\n",
       "                          daily_return    open    high     low   close   \n",
       "time                                                                     \n",
       "2011-02-03 00:00:00-05:00          NaN  130.26  130.98  129.57  130.78   \n",
       "2011-02-04 00:00:00-05:00    -0.003537  130.83  131.20  130.23  131.15   \n",
       "2011-02-07 00:00:00-05:00     0.000384  131.44  132.40  131.43  131.98   \n",
       "2011-02-08 00:00:00-05:00    -0.002877  132.10  132.64  131.73  132.59   \n",
       "2011-02-09 00:00:00-05:00     0.001923  132.21  132.63  131.61  132.27   \n",
       "\n",
       "                                                   \n",
       "                              volume daily_return  \n",
       "time                                               \n",
       "2011-02-03 00:00:00-05:00  122274669          NaN  \n",
       "2011-02-04 00:00:00-05:00  103598208     0.002829  \n",
       "2011-02-07 00:00:00-05:00   90480160     0.006329  \n",
       "2011-02-08 00:00:00-05:00   85774423     0.004622  \n",
       "2011-02-09 00:00:00-05:00  121763230    -0.002413  "
      ]
     },
     "execution_count": 56,
     "metadata": {},
     "output_type": "execute_result"
    }
   ],
   "source": [
    "# Configure a Monte Carlo simulation to forecast 10 years cumulative returns\n",
    "# The weights should be split 20% to AGG and 80% to SPY.\n",
    "# Run 500 samples.\n",
    "\n",
    "ten_year_simulation = MCSimulation(\n",
    "    portfolio_data=df_portfolio,\n",
    "    weights=[0.80, 0.20],\n",
    "    num_simulation=500,\n",
    "    num_trading_days=252*10,\n",
    ")\n",
    "\n",
    "# Review the simulation input data\n",
    "ten_year_simulation.portfolio_data.head()\n"
   ]
  },
  {
   "cell_type": "code",
   "execution_count": 57,
   "metadata": {},
   "outputs": [
    {
     "name": "stdout",
     "output_type": "stream",
     "text": [
      "Running Monte Carlo simulation number 0.\n",
      "Running Monte Carlo simulation number 10.\n",
      "Running Monte Carlo simulation number 20.\n",
      "Running Monte Carlo simulation number 30.\n",
      "Running Monte Carlo simulation number 40.\n",
      "Running Monte Carlo simulation number 50.\n",
      "Running Monte Carlo simulation number 60.\n",
      "Running Monte Carlo simulation number 70.\n",
      "Running Monte Carlo simulation number 80.\n",
      "Running Monte Carlo simulation number 90.\n",
      "Running Monte Carlo simulation number 100.\n",
      "Running Monte Carlo simulation number 110.\n",
      "Running Monte Carlo simulation number 120.\n",
      "Running Monte Carlo simulation number 130.\n",
      "Running Monte Carlo simulation number 140.\n",
      "Running Monte Carlo simulation number 150.\n",
      "Running Monte Carlo simulation number 160.\n",
      "Running Monte Carlo simulation number 170.\n",
      "Running Monte Carlo simulation number 180.\n",
      "Running Monte Carlo simulation number 190.\n",
      "Running Monte Carlo simulation number 200.\n",
      "Running Monte Carlo simulation number 210.\n",
      "Running Monte Carlo simulation number 220.\n",
      "Running Monte Carlo simulation number 230.\n",
      "Running Monte Carlo simulation number 240.\n",
      "Running Monte Carlo simulation number 250.\n",
      "Running Monte Carlo simulation number 260.\n",
      "Running Monte Carlo simulation number 270.\n",
      "Running Monte Carlo simulation number 280.\n",
      "Running Monte Carlo simulation number 290.\n",
      "Running Monte Carlo simulation number 300.\n",
      "Running Monte Carlo simulation number 310.\n",
      "Running Monte Carlo simulation number 320.\n",
      "Running Monte Carlo simulation number 330.\n",
      "Running Monte Carlo simulation number 340.\n",
      "Running Monte Carlo simulation number 350.\n",
      "Running Monte Carlo simulation number 360.\n",
      "Running Monte Carlo simulation number 370.\n",
      "Running Monte Carlo simulation number 380.\n",
      "Running Monte Carlo simulation number 390.\n",
      "Running Monte Carlo simulation number 400.\n",
      "Running Monte Carlo simulation number 410.\n",
      "Running Monte Carlo simulation number 420.\n",
      "Running Monte Carlo simulation number 430.\n",
      "Running Monte Carlo simulation number 440.\n",
      "Running Monte Carlo simulation number 450.\n",
      "Running Monte Carlo simulation number 460.\n",
      "Running Monte Carlo simulation number 470.\n",
      "Running Monte Carlo simulation number 480.\n",
      "Running Monte Carlo simulation number 490.\n"
     ]
    },
    {
     "data": {
      "text/html": [
       "<div>\n",
       "<style scoped>\n",
       "    .dataframe tbody tr th:only-of-type {\n",
       "        vertical-align: middle;\n",
       "    }\n",
       "\n",
       "    .dataframe tbody tr th {\n",
       "        vertical-align: top;\n",
       "    }\n",
       "\n",
       "    .dataframe thead th {\n",
       "        text-align: right;\n",
       "    }\n",
       "</style>\n",
       "<table border=\"1\" class=\"dataframe\">\n",
       "  <thead>\n",
       "    <tr style=\"text-align: right;\">\n",
       "      <th></th>\n",
       "      <th>0</th>\n",
       "      <th>1</th>\n",
       "      <th>2</th>\n",
       "      <th>3</th>\n",
       "      <th>4</th>\n",
       "      <th>5</th>\n",
       "      <th>6</th>\n",
       "      <th>7</th>\n",
       "      <th>8</th>\n",
       "      <th>9</th>\n",
       "      <th>...</th>\n",
       "      <th>490</th>\n",
       "      <th>491</th>\n",
       "      <th>492</th>\n",
       "      <th>493</th>\n",
       "      <th>494</th>\n",
       "      <th>495</th>\n",
       "      <th>496</th>\n",
       "      <th>497</th>\n",
       "      <th>498</th>\n",
       "      <th>499</th>\n",
       "    </tr>\n",
       "  </thead>\n",
       "  <tbody>\n",
       "    <tr>\n",
       "      <th>0</th>\n",
       "      <td>1.000000</td>\n",
       "      <td>1.000000</td>\n",
       "      <td>1.000000</td>\n",
       "      <td>1.000000</td>\n",
       "      <td>1.000000</td>\n",
       "      <td>1.000000</td>\n",
       "      <td>1.000000</td>\n",
       "      <td>1.000000</td>\n",
       "      <td>1.000000</td>\n",
       "      <td>1.000000</td>\n",
       "      <td>...</td>\n",
       "      <td>1.000000</td>\n",
       "      <td>1.000000</td>\n",
       "      <td>1.000000</td>\n",
       "      <td>1.000000</td>\n",
       "      <td>1.000000</td>\n",
       "      <td>1.000000</td>\n",
       "      <td>1.000000</td>\n",
       "      <td>1.000000</td>\n",
       "      <td>1.000000</td>\n",
       "      <td>1.000000</td>\n",
       "    </tr>\n",
       "    <tr>\n",
       "      <th>1</th>\n",
       "      <td>0.996746</td>\n",
       "      <td>0.990346</td>\n",
       "      <td>0.998582</td>\n",
       "      <td>1.003702</td>\n",
       "      <td>0.996047</td>\n",
       "      <td>1.004903</td>\n",
       "      <td>0.997825</td>\n",
       "      <td>0.998647</td>\n",
       "      <td>0.995628</td>\n",
       "      <td>0.997696</td>\n",
       "      <td>...</td>\n",
       "      <td>0.999134</td>\n",
       "      <td>1.001189</td>\n",
       "      <td>0.994271</td>\n",
       "      <td>1.002391</td>\n",
       "      <td>0.997846</td>\n",
       "      <td>1.000904</td>\n",
       "      <td>1.000385</td>\n",
       "      <td>0.998187</td>\n",
       "      <td>1.002793</td>\n",
       "      <td>0.998983</td>\n",
       "    </tr>\n",
       "    <tr>\n",
       "      <th>2</th>\n",
       "      <td>0.995675</td>\n",
       "      <td>0.993032</td>\n",
       "      <td>1.000837</td>\n",
       "      <td>1.002447</td>\n",
       "      <td>0.990908</td>\n",
       "      <td>1.002314</td>\n",
       "      <td>0.996067</td>\n",
       "      <td>1.002576</td>\n",
       "      <td>0.996132</td>\n",
       "      <td>0.992888</td>\n",
       "      <td>...</td>\n",
       "      <td>1.000352</td>\n",
       "      <td>0.997981</td>\n",
       "      <td>0.995222</td>\n",
       "      <td>1.006303</td>\n",
       "      <td>0.999150</td>\n",
       "      <td>1.001774</td>\n",
       "      <td>1.001009</td>\n",
       "      <td>1.000738</td>\n",
       "      <td>1.002727</td>\n",
       "      <td>0.997461</td>\n",
       "    </tr>\n",
       "    <tr>\n",
       "      <th>3</th>\n",
       "      <td>0.995917</td>\n",
       "      <td>1.000635</td>\n",
       "      <td>1.002767</td>\n",
       "      <td>1.006955</td>\n",
       "      <td>0.996083</td>\n",
       "      <td>1.002369</td>\n",
       "      <td>0.998025</td>\n",
       "      <td>0.999339</td>\n",
       "      <td>0.999713</td>\n",
       "      <td>0.992617</td>\n",
       "      <td>...</td>\n",
       "      <td>0.997252</td>\n",
       "      <td>0.998159</td>\n",
       "      <td>0.988962</td>\n",
       "      <td>1.004814</td>\n",
       "      <td>1.002001</td>\n",
       "      <td>1.000508</td>\n",
       "      <td>1.004315</td>\n",
       "      <td>1.001303</td>\n",
       "      <td>1.005185</td>\n",
       "      <td>0.998302</td>\n",
       "    </tr>\n",
       "    <tr>\n",
       "      <th>4</th>\n",
       "      <td>1.000656</td>\n",
       "      <td>1.002844</td>\n",
       "      <td>1.001078</td>\n",
       "      <td>1.005318</td>\n",
       "      <td>0.994225</td>\n",
       "      <td>1.000568</td>\n",
       "      <td>0.999919</td>\n",
       "      <td>0.999370</td>\n",
       "      <td>0.999833</td>\n",
       "      <td>0.988620</td>\n",
       "      <td>...</td>\n",
       "      <td>0.992257</td>\n",
       "      <td>0.997987</td>\n",
       "      <td>0.990628</td>\n",
       "      <td>1.005531</td>\n",
       "      <td>1.000244</td>\n",
       "      <td>0.996455</td>\n",
       "      <td>1.006909</td>\n",
       "      <td>1.001893</td>\n",
       "      <td>1.000593</td>\n",
       "      <td>0.991272</td>\n",
       "    </tr>\n",
       "    <tr>\n",
       "      <th>...</th>\n",
       "      <td>...</td>\n",
       "      <td>...</td>\n",
       "      <td>...</td>\n",
       "      <td>...</td>\n",
       "      <td>...</td>\n",
       "      <td>...</td>\n",
       "      <td>...</td>\n",
       "      <td>...</td>\n",
       "      <td>...</td>\n",
       "      <td>...</td>\n",
       "      <td>...</td>\n",
       "      <td>...</td>\n",
       "      <td>...</td>\n",
       "      <td>...</td>\n",
       "      <td>...</td>\n",
       "      <td>...</td>\n",
       "      <td>...</td>\n",
       "      <td>...</td>\n",
       "      <td>...</td>\n",
       "      <td>...</td>\n",
       "      <td>...</td>\n",
       "    </tr>\n",
       "    <tr>\n",
       "      <th>2516</th>\n",
       "      <td>1.559451</td>\n",
       "      <td>1.207680</td>\n",
       "      <td>1.114813</td>\n",
       "      <td>1.264059</td>\n",
       "      <td>1.360917</td>\n",
       "      <td>1.344954</td>\n",
       "      <td>1.711373</td>\n",
       "      <td>1.563043</td>\n",
       "      <td>1.123755</td>\n",
       "      <td>1.398055</td>\n",
       "      <td>...</td>\n",
       "      <td>1.357199</td>\n",
       "      <td>1.349712</td>\n",
       "      <td>1.493174</td>\n",
       "      <td>1.399660</td>\n",
       "      <td>1.376458</td>\n",
       "      <td>1.352888</td>\n",
       "      <td>1.744412</td>\n",
       "      <td>1.611548</td>\n",
       "      <td>1.111326</td>\n",
       "      <td>1.374031</td>\n",
       "    </tr>\n",
       "    <tr>\n",
       "      <th>2517</th>\n",
       "      <td>1.560546</td>\n",
       "      <td>1.206157</td>\n",
       "      <td>1.121713</td>\n",
       "      <td>1.264056</td>\n",
       "      <td>1.362555</td>\n",
       "      <td>1.342033</td>\n",
       "      <td>1.706716</td>\n",
       "      <td>1.573215</td>\n",
       "      <td>1.127116</td>\n",
       "      <td>1.399684</td>\n",
       "      <td>...</td>\n",
       "      <td>1.360168</td>\n",
       "      <td>1.352215</td>\n",
       "      <td>1.490217</td>\n",
       "      <td>1.392138</td>\n",
       "      <td>1.372132</td>\n",
       "      <td>1.352142</td>\n",
       "      <td>1.744172</td>\n",
       "      <td>1.610803</td>\n",
       "      <td>1.106092</td>\n",
       "      <td>1.371131</td>\n",
       "    </tr>\n",
       "    <tr>\n",
       "      <th>2518</th>\n",
       "      <td>1.560824</td>\n",
       "      <td>1.202576</td>\n",
       "      <td>1.121631</td>\n",
       "      <td>1.264121</td>\n",
       "      <td>1.364622</td>\n",
       "      <td>1.334167</td>\n",
       "      <td>1.710975</td>\n",
       "      <td>1.578564</td>\n",
       "      <td>1.129469</td>\n",
       "      <td>1.397770</td>\n",
       "      <td>...</td>\n",
       "      <td>1.354064</td>\n",
       "      <td>1.349662</td>\n",
       "      <td>1.492899</td>\n",
       "      <td>1.390874</td>\n",
       "      <td>1.371755</td>\n",
       "      <td>1.355035</td>\n",
       "      <td>1.741297</td>\n",
       "      <td>1.621493</td>\n",
       "      <td>1.107711</td>\n",
       "      <td>1.379968</td>\n",
       "    </tr>\n",
       "    <tr>\n",
       "      <th>2519</th>\n",
       "      <td>1.561886</td>\n",
       "      <td>1.204042</td>\n",
       "      <td>1.125743</td>\n",
       "      <td>1.258775</td>\n",
       "      <td>1.372495</td>\n",
       "      <td>1.332924</td>\n",
       "      <td>1.708464</td>\n",
       "      <td>1.582798</td>\n",
       "      <td>1.129519</td>\n",
       "      <td>1.407623</td>\n",
       "      <td>...</td>\n",
       "      <td>1.351924</td>\n",
       "      <td>1.354440</td>\n",
       "      <td>1.494790</td>\n",
       "      <td>1.384058</td>\n",
       "      <td>1.367474</td>\n",
       "      <td>1.356219</td>\n",
       "      <td>1.740012</td>\n",
       "      <td>1.622678</td>\n",
       "      <td>1.103942</td>\n",
       "      <td>1.378886</td>\n",
       "    </tr>\n",
       "    <tr>\n",
       "      <th>2520</th>\n",
       "      <td>1.564907</td>\n",
       "      <td>1.196435</td>\n",
       "      <td>1.128984</td>\n",
       "      <td>1.259789</td>\n",
       "      <td>1.364911</td>\n",
       "      <td>1.330033</td>\n",
       "      <td>1.701747</td>\n",
       "      <td>1.585020</td>\n",
       "      <td>1.129731</td>\n",
       "      <td>1.408465</td>\n",
       "      <td>...</td>\n",
       "      <td>1.350327</td>\n",
       "      <td>1.356291</td>\n",
       "      <td>1.482495</td>\n",
       "      <td>1.379087</td>\n",
       "      <td>1.362673</td>\n",
       "      <td>1.356239</td>\n",
       "      <td>1.742926</td>\n",
       "      <td>1.628284</td>\n",
       "      <td>1.100159</td>\n",
       "      <td>1.383737</td>\n",
       "    </tr>\n",
       "  </tbody>\n",
       "</table>\n",
       "<p>2521 rows × 500 columns</p>\n",
       "</div>"
      ],
      "text/plain": [
       "           0         1         2         3         4         5         6    \\\n",
       "0     1.000000  1.000000  1.000000  1.000000  1.000000  1.000000  1.000000   \n",
       "1     0.996746  0.990346  0.998582  1.003702  0.996047  1.004903  0.997825   \n",
       "2     0.995675  0.993032  1.000837  1.002447  0.990908  1.002314  0.996067   \n",
       "3     0.995917  1.000635  1.002767  1.006955  0.996083  1.002369  0.998025   \n",
       "4     1.000656  1.002844  1.001078  1.005318  0.994225  1.000568  0.999919   \n",
       "...        ...       ...       ...       ...       ...       ...       ...   \n",
       "2516  1.559451  1.207680  1.114813  1.264059  1.360917  1.344954  1.711373   \n",
       "2517  1.560546  1.206157  1.121713  1.264056  1.362555  1.342033  1.706716   \n",
       "2518  1.560824  1.202576  1.121631  1.264121  1.364622  1.334167  1.710975   \n",
       "2519  1.561886  1.204042  1.125743  1.258775  1.372495  1.332924  1.708464   \n",
       "2520  1.564907  1.196435  1.128984  1.259789  1.364911  1.330033  1.701747   \n",
       "\n",
       "           7         8         9    ...       490       491       492  \\\n",
       "0     1.000000  1.000000  1.000000  ...  1.000000  1.000000  1.000000   \n",
       "1     0.998647  0.995628  0.997696  ...  0.999134  1.001189  0.994271   \n",
       "2     1.002576  0.996132  0.992888  ...  1.000352  0.997981  0.995222   \n",
       "3     0.999339  0.999713  0.992617  ...  0.997252  0.998159  0.988962   \n",
       "4     0.999370  0.999833  0.988620  ...  0.992257  0.997987  0.990628   \n",
       "...        ...       ...       ...  ...       ...       ...       ...   \n",
       "2516  1.563043  1.123755  1.398055  ...  1.357199  1.349712  1.493174   \n",
       "2517  1.573215  1.127116  1.399684  ...  1.360168  1.352215  1.490217   \n",
       "2518  1.578564  1.129469  1.397770  ...  1.354064  1.349662  1.492899   \n",
       "2519  1.582798  1.129519  1.407623  ...  1.351924  1.354440  1.494790   \n",
       "2520  1.585020  1.129731  1.408465  ...  1.350327  1.356291  1.482495   \n",
       "\n",
       "           493       494       495       496       497       498       499  \n",
       "0     1.000000  1.000000  1.000000  1.000000  1.000000  1.000000  1.000000  \n",
       "1     1.002391  0.997846  1.000904  1.000385  0.998187  1.002793  0.998983  \n",
       "2     1.006303  0.999150  1.001774  1.001009  1.000738  1.002727  0.997461  \n",
       "3     1.004814  1.002001  1.000508  1.004315  1.001303  1.005185  0.998302  \n",
       "4     1.005531  1.000244  0.996455  1.006909  1.001893  1.000593  0.991272  \n",
       "...        ...       ...       ...       ...       ...       ...       ...  \n",
       "2516  1.399660  1.376458  1.352888  1.744412  1.611548  1.111326  1.374031  \n",
       "2517  1.392138  1.372132  1.352142  1.744172  1.610803  1.106092  1.371131  \n",
       "2518  1.390874  1.371755  1.355035  1.741297  1.621493  1.107711  1.379968  \n",
       "2519  1.384058  1.367474  1.356219  1.740012  1.622678  1.103942  1.378886  \n",
       "2520  1.379087  1.362673  1.356239  1.742926  1.628284  1.100159  1.383737  \n",
       "\n",
       "[2521 rows x 500 columns]"
      ]
     },
     "execution_count": 57,
     "metadata": {},
     "output_type": "execute_result"
    }
   ],
   "source": [
    "# Run the Monte Carlo simulation to forecast 10 years cumulative returns\n",
    "ten_year_simulation.calc_cumulative_return()\n"
   ]
  },
  {
   "cell_type": "code",
   "execution_count": 58,
   "metadata": {},
   "outputs": [
    {
     "data": {
      "text/plain": [
       "<AxesSubplot:title={'center':'500 Simulations of Cumulative Portfolio Return Trajectories Over the Next 2520 Trading Days.'}>"
      ]
     },
     "execution_count": 58,
     "metadata": {},
     "output_type": "execute_result"
    },
    {
     "data": {
      "image/png": "[encoded data removed]",
      "text/plain": [
       "<Figure size 432x288 with 1 Axes>"
      ]
     },
     "metadata": {
      "needs_background": "light"
     },
     "output_type": "display_data"
    }
   ],
   "source": [
    "# Visualize the 10-year Monte Carlo simulation by creating an\n",
    "# overlay line plot\n",
    "ten_year_simulation.plot_simulation()"
   ]
  },
  {
   "cell_type": "code",
   "execution_count": 59,
   "metadata": {},
   "outputs": [
    {
     "data": {
      "text/plain": [
       "<AxesSubplot:title={'center':'Distribution of Final Cumuluative Returns Across All 500 Simulations'}, ylabel='Frequency'>"
      ]
     },
     "execution_count": 59,
     "metadata": {},
     "output_type": "execute_result"
    },
    {
     "data": {
      "image/png": "[encoded data removed]",
      "text/plain": [
       "<Figure size 432x288 with 1 Axes>"
      ]
     },
     "metadata": {
      "needs_background": "light"
     },
     "output_type": "display_data"
    }
   ],
   "source": [
    "# Visualize the probability distribution of the 10-year Monte Carlo simulation \n",
    "# by plotting a histogram\n",
    "ten_year_simulation.plot_distribution()"
   ]
  },
  {
   "cell_type": "code",
   "execution_count": 60,
   "metadata": {},
   "outputs": [
    {
     "name": "stdout",
     "output_type": "stream",
     "text": [
      "count           500.000000\n",
      "mean              1.397079\n",
      "std               0.211080\n",
      "min               0.952055\n",
      "25%               1.241477\n",
      "50%               1.386508\n",
      "75%               1.536778\n",
      "max               2.092248\n",
      "95% CI Lower      1.038628\n",
      "95% CI Upper      1.841470\n",
      "Name: 2520, dtype: float64\n"
     ]
    }
   ],
   "source": [
    "# Generate summary statistics from the 10-year Monte Carlo simulation results\n",
    "# Save the results as a variable\n",
    "ten_year_simulation_statistics = ten_year_simulation.summarize_cumulative_return()\n",
    "\n",
    "# Review the 10-year Monte Carlo summary statistics\n",
    "print(ten_year_simulation_statistics)"
   ]
  },
  {
   "cell_type": "markdown",
   "metadata": {},
   "source": [
    "### Answer the following questions:"
   ]
  },
  {
   "cell_type": "markdown",
   "metadata": {},
   "source": [
    "#### Question: Using the current value of only the stock and bond portion of the member's portfolio and the summary statistics that you generated from the new Monte Carlo simulation, what are the lower and upper bounds for the expected value of the portfolio (with the new weights) with a 95% confidence interval?"
   ]
  },
  {
   "cell_type": "code",
   "execution_count": 61,
   "metadata": {},
   "outputs": [
    {
     "name": "stdout",
     "output_type": "stream",
     "text": [
      "The latest value for the bond portfolio is US$22860.00.\n",
      "The latest value for the stock portfolio US$35928.20.\n",
      "The total value of the member's saving portfolio with stocks and bonds is US$58788.20.\n"
     ]
    }
   ],
   "source": [
    "# Print the current balance of the stock and bond portion of the members portfolio\n",
    "print(f\"The latest value for the bond portfolio is US${agg_value:.2f}.\")\n",
    "print(f\"The latest value for the stock portfolio US${spy_value:.2f}.\")\n",
    "print(f\"The total value of the member's saving portfolio with stocks and bonds is US${agg_value + spy_value:.2f}.\")\n"
   ]
  },
  {
   "cell_type": "code",
   "execution_count": 62,
   "metadata": {},
   "outputs": [
    {
     "name": "stdout",
     "output_type": "stream",
     "text": [
      "There is a 95% chance that an initial investment of $58788.20 in the portfolio over the next 10 years will end within in the range of $61059.09 and $108256.68.\n"
     ]
    }
   ],
   "source": [
    "# Use the lower and upper `95%` confidence intervals to calculate the range of the possible outcomes for the current stock/bond portfolio\n",
    "ci_lower_ten_cumulative_return = ten_year_simulation_statistics[8]*(agg_value + spy_value)\n",
    "ci_upper_ten_cumulative_return = ten_year_simulation_statistics[9]*(agg_value + spy_value)\n",
    "\n",
    "# Print the result of your calculations\n",
    "print(f\"There is a 95% chance that an initial investment of ${agg_value + spy_value:.2f} in the portfolio\"\n",
    "      f\" over the next 10 years will end within in the range of\"\n",
    "      f\" ${ci_lower_ten_cumulative_return:.2f} and ${ci_upper_ten_cumulative_return:.2f}.\")\n"
   ]
  },
  {
   "cell_type": "markdown",
   "metadata": {},
   "source": [
    "#### Question: Will weighting the portfolio more heavily to stocks allow the credit union members to retire after only 10 years?"
   ]
  },
  {
   "cell_type": "markdown",
   "metadata": {},
   "source": [
    "The scenario to evaluate whether the member has enough fund to retire wasn't presented with enough information, i.e. currnet age of the member, expected retirement age, life style/possible spending per year post retirement etc. weren't available.\n",
    "\n",
    "Based on the available present value of equity bond portfolio, 10 yr and 30 yr forecast simulation we did in this problem, we can see the following:\n",
    "\n",
    "30-year forecast with 60% in equity and 40% in bond, gives the investor a potential return of 128% to 968.21% at 95% confidence.\n",
    "\n",
    "10-year forecase with 80% in equity and 20% in bond, gives the investor a potential return of 3.86% to 84.15% at 95% confidence.\n",
    "\n",
    "For 10-year investment with increase in equity holding from 60% to 80%, it didn't present an impressive return on investment for the investor compare to 30 years. So most likely the investor won't be able to retire after 10 years."
   ]
  },
  {
   "cell_type": "code",
   "execution_count": null,
   "metadata": {},
   "outputs": [],
   "source": []
  }
 ],
 "metadata": {
  "kernelspec": {
   "display_name": "dev",
   "language": "python",
   "name": "dev"
  },
  "language_info": {
   "codemirror_mode": {
    "name": "ipython",
    "version": 3
   },
   "file_extension": ".py",
   "mimetype": "text/x-python",
   "name": "python",
   "nbconvert_exporter": "python",
   "pygments_lexer": "ipython3",
   "version": "3.7.9"
  }
 },
 "nbformat": 4,
 "nbformat_minor": 4
}
